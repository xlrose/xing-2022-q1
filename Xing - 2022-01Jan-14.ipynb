{
 "cells": [
  {
   "cell_type": "markdown",
   "metadata": {},
   "source": [
    "# Agenda\n",
    "\n"
   ]
  },
  {
   "cell_type": "markdown",
   "metadata": {},
   "source": [
    "# gitautopush\n",
    "\n",
    "It's a package on PyPI\n",
    "\n",
    "You can install it with\n",
    "\n",
    "```\n",
    "pip install gitautopush\n",
    "```\n",
    "\n",
    "Then just run it in a directory:\n",
    "\n",
    "```\n",
    "gitautopush .\n",
    "```\n",
    "\n",
    "Every minute or so, it checks if any files have changed. If so, it runs `git commit -a` and then `git push`."
   ]
  },
  {
   "cell_type": "code",
   "execution_count": null,
   "metadata": {},
   "outputs": [],
   "source": []
  }
 ],
 "metadata": {
  "kernelspec": {
   "display_name": "Python 3 (ipykernel)",
   "language": "python",
   "name": "python3"
  },
  "language_info": {
   "codemirror_mode": {
    "name": "ipython",
    "version": 3
   },
   "file_extension": ".py",
   "mimetype": "text/x-python",
   "name": "python",
   "nbconvert_exporter": "python",
   "pygments_lexer": "ipython3",
   "version": "3.10.1"
  }
 },
 "nbformat": 4,
 "nbformat_minor": 4
}
