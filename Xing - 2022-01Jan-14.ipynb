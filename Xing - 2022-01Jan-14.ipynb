{
 "cells": [
  {
   "cell_type": "markdown",
   "metadata": {},
   "source": [
    "# Agenda\n",
    "\n",
    "1. Data structures\n",
    "    - Built-in data structures, and how they work\n",
    "    - Alternatives to these in the standard library\n",
    "    - The `collections` modules -- variations on dictionaries\n",
    "2. Functions\n",
    "3. Functional programming\n",
    "4. Modules and packages\n",
    "5. Objects\n",
    "6. Iterators and generators\n",
    "7. Decorators\n",
    "8. Concurrency"
   ]
  },
  {
   "cell_type": "markdown",
   "metadata": {},
   "source": [
    "# gitautopush\n",
    "\n",
    "It's a package on PyPI\n",
    "\n",
    "You can install it with\n",
    "\n",
    "```\n",
    "pip install gitautopush\n",
    "```\n",
    "\n",
    "Then just run it in a directory:\n",
    "\n",
    "```\n",
    "gitautopush .\n",
    "```\n",
    "\n",
    "Every minute or so, it checks if any files have changed. If so, it runs `git commit -a` and then `git push`."
   ]
  },
  {
   "cell_type": "markdown",
   "metadata": {},
   "source": [
    "# Data structures -- builtin data structures"
   ]
  },
  {
   "cell_type": "markdown",
   "metadata": {},
   "source": [
    "# `None`\n",
    "\n",
    "There are no variable declarations in Python! "
   ]
  },
  {
   "cell_type": "code",
   "execution_count": 1,
   "metadata": {},
   "outputs": [
    {
     "data": {
      "text/plain": [
       "int"
      ]
     },
     "execution_count": 1,
     "metadata": {},
     "output_type": "execute_result"
    }
   ],
   "source": [
    "# in assignment, the right side runs before the left side\n",
    "\n",
    "x = 100   # creates the x variable, and then assigns 100 to it\n",
    "type(x)"
   ]
  },
  {
   "cell_type": "code",
   "execution_count": 2,
   "metadata": {},
   "outputs": [
    {
     "data": {
      "text/plain": [
       "str"
      ]
     },
     "execution_count": 2,
     "metadata": {},
     "output_type": "execute_result"
    }
   ],
   "source": [
    "x = 'abcd'  # x already exists, but now we assign 'abcd' to it\n",
    "type(x)"
   ]
  },
  {
   "cell_type": "code",
   "execution_count": 3,
   "metadata": {},
   "outputs": [
    {
     "data": {
      "text/plain": [
       "NoneType"
      ]
     },
     "execution_count": 3,
     "metadata": {},
     "output_type": "execute_result"
    }
   ],
   "source": [
    "x = None\n",
    "type(x)"
   ]
  },
  {
   "cell_type": "code",
   "execution_count": 4,
   "metadata": {},
   "outputs": [
    {
     "name": "stdout",
     "output_type": "stream",
     "text": [
      "Yes, it is None!\n"
     ]
    }
   ],
   "source": [
    "# how can I check if x is None?\n",
    "\n",
    "if x == None:   # unfortunately, this works! -- this code is un-Pythonic\n",
    "    print('Yes, it is None!')"
   ]
  },
  {
   "cell_type": "markdown",
   "metadata": {},
   "source": [
    "# Comparing with `None`\n",
    "\n",
    "`None` is a singleton -- no matter how many instances you think you've created, there's only one instance of `None` in all of Python.\n",
    "\n",
    "PEP8 tells us that if we're comparing with a singleton, we should not use `==`.  Rather, we should use `is`.\n",
    "\n",
    "- `==` asks: Are the two objects equivalent in value?\n",
    "- `is` asks: Are these two objects the same object?\n",
    "\n",
    "`is` compares the object IDs.\n"
   ]
  },
  {
   "cell_type": "code",
   "execution_count": 6,
   "metadata": {},
   "outputs": [
    {
     "data": {
      "text/plain": [
       "4481073152"
      ]
     },
     "execution_count": 6,
     "metadata": {},
     "output_type": "execute_result"
    }
   ],
   "source": [
    "id(x)  # this number is the address in memory of the object that x is referring to"
   ]
  },
  {
   "cell_type": "code",
   "execution_count": 7,
   "metadata": {},
   "outputs": [
    {
     "data": {
      "text/plain": [
       "4481073152"
      ]
     },
     "execution_count": 7,
     "metadata": {},
     "output_type": "execute_result"
    }
   ],
   "source": [
    "y = None\n",
    "id(y)"
   ]
  },
  {
   "cell_type": "code",
   "execution_count": 8,
   "metadata": {},
   "outputs": [
    {
     "data": {
      "text/plain": [
       "True"
      ]
     },
     "execution_count": 8,
     "metadata": {},
     "output_type": "execute_result"
    }
   ],
   "source": [
    "# since id(x) and id(y) are the same, they must be two names referring to the same object\n",
    "# thus, they are not only ==, but they are is:\n",
    "\n",
    "x is y"
   ]
  },
  {
   "cell_type": "code",
   "execution_count": 9,
   "metadata": {},
   "outputs": [
    {
     "data": {
      "text/plain": [
       "NoneType"
      ]
     },
     "execution_count": 9,
     "metadata": {},
     "output_type": "execute_result"
    }
   ],
   "source": [
    "x = [10, 20, 30]  # I've created a list\n",
    "y = [10, 20, 30]  # I've created another list\n",
    "\n",
    "# both of these lists have the same values. But they are *not* the same list in memory.\n",
    "# they're two separate objects, two instances of \"list\"\n",
    "\n",
    "# in the case of a Singleton object, there is only one instance.\n",
    "# each time you try to create a new instance, you just get a copy of the existing one.\n",
    "\n",
    "type(None)"
   ]
  },
  {
   "cell_type": "code",
   "execution_count": 10,
   "metadata": {},
   "outputs": [],
   "source": [
    "x = type(None)()   # creating a new instance of None\n",
    "y = type(None)()   # creating a new instance of None"
   ]
  },
  {
   "cell_type": "code",
   "execution_count": 11,
   "metadata": {},
   "outputs": [
    {
     "data": {
      "text/plain": [
       "4481073152"
      ]
     },
     "execution_count": 11,
     "metadata": {},
     "output_type": "execute_result"
    }
   ],
   "source": [
    "id(x)"
   ]
  },
  {
   "cell_type": "code",
   "execution_count": 12,
   "metadata": {},
   "outputs": [
    {
     "data": {
      "text/plain": [
       "4481073152"
      ]
     },
     "execution_count": 12,
     "metadata": {},
     "output_type": "execute_result"
    }
   ],
   "source": [
    "id(y)"
   ]
  },
  {
   "cell_type": "code",
   "execution_count": 13,
   "metadata": {},
   "outputs": [
    {
     "data": {
      "text/plain": [
       "True"
      ]
     },
     "execution_count": 13,
     "metadata": {},
     "output_type": "execute_result"
    }
   ],
   "source": [
    "x is y"
   ]
  },
  {
   "cell_type": "code",
   "execution_count": null,
   "metadata": {},
   "outputs": [],
   "source": []
  }
 ],
 "metadata": {
  "kernelspec": {
   "display_name": "Python 3 (ipykernel)",
   "language": "python",
   "name": "python3"
  },
  "language_info": {
   "codemirror_mode": {
    "name": "ipython",
    "version": 3
   },
   "file_extension": ".py",
   "mimetype": "text/x-python",
   "name": "python",
   "nbconvert_exporter": "python",
   "pygments_lexer": "ipython3",
   "version": "3.10.1"
  }
 },
 "nbformat": 4,
 "nbformat_minor": 4
}
