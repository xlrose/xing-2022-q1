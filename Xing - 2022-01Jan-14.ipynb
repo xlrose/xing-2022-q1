{
 "cells": [
  {
   "cell_type": "markdown",
   "metadata": {},
   "source": [
    "# Agenda\n",
    "\n",
    "1. Data structures\n",
    "    - Built-in data structures, and how they work\n",
    "    - Alternatives to these in the standard library\n",
    "    - The `collections` modules -- variations on dictionaries\n",
    "2. Functions\n",
    "3. Functional programming\n",
    "4. Modules and packages\n",
    "5. Objects\n",
    "6. Iterators and generators\n",
    "7. Decorators\n",
    "8. Concurrency"
   ]
  },
  {
   "cell_type": "markdown",
   "metadata": {},
   "source": [
    "# gitautopush\n",
    "\n",
    "It's a package on PyPI\n",
    "\n",
    "You can install it with\n",
    "\n",
    "```\n",
    "pip install gitautopush\n",
    "```\n",
    "\n",
    "Then just run it in a directory:\n",
    "\n",
    "```\n",
    "gitautopush .\n",
    "```\n",
    "\n",
    "Every minute or so, it checks if any files have changed. If so, it runs `git commit -a` and then `git push`."
   ]
  },
  {
   "cell_type": "markdown",
   "metadata": {},
   "source": [
    "# Data structures -- builtin data structures"
   ]
  },
  {
   "cell_type": "markdown",
   "metadata": {},
   "source": [
    "# `None`\n",
    "\n",
    "There are no variable declarations in Python! "
   ]
  },
  {
   "cell_type": "code",
   "execution_count": 1,
   "metadata": {},
   "outputs": [
    {
     "data": {
      "text/plain": [
       "int"
      ]
     },
     "execution_count": 1,
     "metadata": {},
     "output_type": "execute_result"
    }
   ],
   "source": [
    "# in assignment, the right side runs before the left side\n",
    "\n",
    "x = 100   # creates the x variable, and then assigns 100 to it\n",
    "type(x)"
   ]
  },
  {
   "cell_type": "code",
   "execution_count": 2,
   "metadata": {},
   "outputs": [
    {
     "data": {
      "text/plain": [
       "str"
      ]
     },
     "execution_count": 2,
     "metadata": {},
     "output_type": "execute_result"
    }
   ],
   "source": [
    "x = 'abcd'  # x already exists, but now we assign 'abcd' to it\n",
    "type(x)"
   ]
  },
  {
   "cell_type": "code",
   "execution_count": null,
   "metadata": {},
   "outputs": [],
   "source": []
  }
 ],
 "metadata": {
  "kernelspec": {
   "display_name": "Python 3 (ipykernel)",
   "language": "python",
   "name": "python3"
  },
  "language_info": {
   "codemirror_mode": {
    "name": "ipython",
    "version": 3
   },
   "file_extension": ".py",
   "mimetype": "text/x-python",
   "name": "python",
   "nbconvert_exporter": "python",
   "pygments_lexer": "ipython3",
   "version": "3.10.1"
  }
 },
 "nbformat": 4,
 "nbformat_minor": 4
}
