{
 "cells": [
  {
   "cell_type": "markdown",
   "id": "61716e94",
   "metadata": {},
   "source": [
    "# Agenda\n",
    "\n",
    "1. Dispatch tables\n",
    "2. `lambda`\n",
    "3. Comprehensions\n",
    "    - List comprehensions\n",
    "    - Dict comprehensions\n",
    "    - Set comprehensions\n",
    "    - Nested comprehensions"
   ]
  },
  {
   "cell_type": "code",
   "execution_count": 1,
   "id": "067344f0",
   "metadata": {},
   "outputs": [
    {
     "name": "stdout",
     "output_type": "stream",
     "text": [
      "Choose: a\n",
      "A\n",
      "Choose: b\n",
      "B\n",
      "Choose: c\n",
      "Bad choice, c\n",
      "Choose: \n"
     ]
    }
   ],
   "source": [
    "def a():\n",
    "    return 'A'\n",
    "\n",
    "def b():\n",
    "    return 'B'\n",
    "\n",
    "while True:\n",
    "    s = input('Choose: ').strip()\n",
    "    \n",
    "    if not s:   # exit if we get an empty string\n",
    "        break\n",
    "        \n",
    "    elif s == 'a':\n",
    "        print(a())  # call the function a, print its result\n",
    "        \n",
    "    elif s == 'b':\n",
    "        print(b())  # call the function b, print its result\n",
    "        \n",
    "    else:\n",
    "        print(f'Bad choice, {s}')"
   ]
  },
  {
   "cell_type": "code",
   "execution_count": 2,
   "id": "3e7a6fbe",
   "metadata": {},
   "outputs": [
    {
     "name": "stdout",
     "output_type": "stream",
     "text": [
      "Choose: a\n",
      "A\n",
      "Choose: b\n",
      "B\n",
      "Choose: c\n",
      "Bad choice, c\n",
      "Choose: \n"
     ]
    }
   ],
   "source": [
    "# dispatch table -- a dictionary!\n",
    "\n",
    "def a():\n",
    "    return 'A'\n",
    "\n",
    "def b():\n",
    "    return 'B'\n",
    "\n",
    "funcs = {'a':a,   # keys are strings \n",
    "         'b':b}   # values are functions (not the result of running the function!)\n",
    "\n",
    "while True:\n",
    "    s = input('Choose: ').strip()\n",
    "    \n",
    "    if not s:   # exit if we get an empty string\n",
    "        break\n",
    "        \n",
    "    elif s in funcs:   # is the user's choice a key in our dict?\n",
    "        print(funcs[s]())  # retrieve the function based on the user's choice, and run it\n",
    "        \n",
    "    else:\n",
    "        print(f'Bad choice, {s}')"
   ]
  },
  {
   "cell_type": "markdown",
   "id": "d0a1c00f",
   "metadata": {},
   "source": [
    "# Exercise: Calculator\n",
    "\n",
    "1. Define functions `add` and `sub`, which implement addition and subtraction, in order.\n",
    "2. Put these functions in a dispatch table (dictionary).\n",
    "3. Ask the user, repeatedly, to enter a simple math expression using two numbers and an operator, separated by spaces.\n",
    "4. Call the appropriate function, passing the arguments.\n",
    "5. If the operator isn't known, then complain to the user.\n",
    "\n",
    "Example:\n",
    "\n",
    "    Expression: 2 + 3\n",
    "    2 + 3 = 5\n",
    "    Expression: 10 - 6\n",
    "    10 - 6 = 4\n",
    "    Expression: 10 / 4\n",
    "    / is not supported\n",
    "    Expression: [ENTER]\n",
    "    "
   ]
  },
  {
   "cell_type": "code",
   "execution_count": 7,
   "id": "ff354b45",
   "metadata": {},
   "outputs": [
    {
     "name": "stdout",
     "output_type": "stream",
     "text": [
      "Expression: 2+3\n",
      "Enter NUMBER OP NUMBER, with whitespace!\n",
      "Expression: 2 + 3\n",
      "2 + 3 = 5\n",
      "Expression: 2 + a\n",
      "You need to enter numbers!\n",
      "Expression: a + 2\n",
      "You need to enter numbers!\n",
      "Expression: \n"
     ]
    }
   ],
   "source": [
    "def add(first, second):\n",
    "    return first + second\n",
    "\n",
    "def sub(first, second):\n",
    "    return first - second\n",
    "\n",
    "funcs = {'+': add,\n",
    "         '-': sub}\n",
    "\n",
    "while True:\n",
    "    s = input('Expression: ').strip()\n",
    "    \n",
    "    if not s:\n",
    "        break\n",
    "        \n",
    "    fields = s.split()  # split on whitespace\n",
    "    \n",
    "    if len(fields) != 3:\n",
    "        print(f'Enter NUMBER OP NUMBER, with whitespace!')\n",
    "        continue\n",
    "        \n",
    "    first, op, second = fields\n",
    "\n",
    "    try:    # \"better to ask foregiveness than for permission\"\n",
    "        first = int(first)\n",
    "        second = int(second)\n",
    "    except ValueError as e:\n",
    "        print(f'You need to enter numbers!')\n",
    "        continue\n",
    "    \n",
    "    if op in funcs:   # is this operator a key in our dict?\n",
    "        result = funcs[op](first, second)\n",
    "        print(f'{first} {op} {second} = {result}')\n",
    "    else:\n",
    "        print(f'{op} is not supported')\n",
    "    "
   ]
  },
  {
   "cell_type": "code",
   "execution_count": 8,
   "id": "8e6222e4",
   "metadata": {},
   "outputs": [
    {
     "name": "stdout",
     "output_type": "stream",
     "text": [
      "Expression: 2 + 3\n",
      "2 + 3 = 5\n",
      "Expression: 2 * 6\n",
      "2 * 6 = 12\n",
      "Expression: \n"
     ]
    }
   ],
   "source": [
    "import operator\n",
    "\n",
    "funcs = {'+': operator.add,\n",
    "         '-': operator.sub,\n",
    "        '*':  operator.mul,\n",
    "        '/':  operator.truediv}\n",
    "\n",
    "while True:\n",
    "    s = input('Expression: ').strip()\n",
    "    \n",
    "    if not s:\n",
    "        break\n",
    "        \n",
    "    fields = s.split()  # split on whitespace\n",
    "    \n",
    "    if len(fields) != 3:\n",
    "        print(f'Enter NUMBER OP NUMBER, with whitespace!')\n",
    "        continue\n",
    "        \n",
    "    first, op, second = fields\n",
    "\n",
    "    try:    # \"better to ask foregiveness than for permission\"\n",
    "        first = int(first)\n",
    "        second = int(second)\n",
    "    except ValueError as e:\n",
    "        print(f'You need to enter numbers!')\n",
    "        continue\n",
    "    \n",
    "    if op in funcs:   # is this operator a key in our dict?\n",
    "        result = funcs[op](first, second)\n",
    "        print(f'{first} {op} {second} = {result}')\n",
    "    else:\n",
    "        print(f'{op} is not supported')\n",
    "    "
   ]
  },
  {
   "cell_type": "markdown",
   "id": "700e063c",
   "metadata": {},
   "source": [
    "# `lambda`\n",
    "\n",
    "When I define a function with `def`, I'm really doing two different things:\n",
    "\n",
    "1. Creating a function object\n",
    "2. Assigning that function object to a variable\n",
    "\n",
    "`lambda` does the first, without doing the second -- it creates a function object, but doesn't assign it anywhere.  It allows you to create inline functions.\n",
    "\n",
    "**BUT** `lambda` is very, very limited in Python:\n",
    "1. Only one expression is allowed.\n",
    "2. Only expressions -- no statements. Which means: No `def`, `if`, `for`, `while`, etc.\n",
    "3. Also: No assignment, because assignment in Python is a statement, not an expression.\n",
    "4. Only one line!\n",
    "5. No use of `return` -- the expression's value is returned"
   ]
  },
  {
   "cell_type": "code",
   "execution_count": 9,
   "id": "931dc4b2",
   "metadata": {},
   "outputs": [
    {
     "data": {
      "text/plain": [
       "25"
      ]
     },
     "execution_count": 9,
     "metadata": {},
     "output_type": "execute_result"
    }
   ],
   "source": [
    "def square(x):\n",
    "    return x ** 2\n",
    "\n",
    "square(5)"
   ]
  },
  {
   "cell_type": "code",
   "execution_count": 10,
   "id": "6adc85ab",
   "metadata": {},
   "outputs": [
    {
     "data": {
      "text/plain": [
       "<function __main__.<lambda>(x)>"
      ]
     },
     "execution_count": 10,
     "metadata": {},
     "output_type": "execute_result"
    }
   ],
   "source": [
    "# same thing, with lambda:\n",
    "\n",
    "lambda x: x**2"
   ]
  },
  {
   "cell_type": "code",
   "execution_count": 11,
   "id": "504556eb",
   "metadata": {},
   "outputs": [],
   "source": [
    "# this is basically what def does!\n",
    "\n",
    "square2 = lambda x: x**2"
   ]
  },
  {
   "cell_type": "code",
   "execution_count": 12,
   "id": "f84d553b",
   "metadata": {},
   "outputs": [
    {
     "data": {
      "text/plain": [
       "25"
      ]
     },
     "execution_count": 12,
     "metadata": {},
     "output_type": "execute_result"
    }
   ],
   "source": [
    "square2(5)"
   ]
  },
  {
   "cell_type": "code",
   "execution_count": 13,
   "id": "879e3609",
   "metadata": {},
   "outputs": [
    {
     "name": "stdout",
     "output_type": "stream",
     "text": [
      "Expression: 2 + 3\n",
      "2 + 3 = 5\n",
      "Expression: 100 - 50\n",
      "100 - 50 = 50\n",
      "Expression: \n"
     ]
    }
   ],
   "source": [
    "# let's rewrite the calculator using lambda!\n",
    "\n",
    "funcs = {'+': lambda x,y:x+y,\n",
    "         '-': lambda x,y:x-y,\n",
    "        '*':  lambda x,y:x*y,\n",
    "        '/':  lambda x,y:x/y}\n",
    "\n",
    "while True:\n",
    "    s = input('Expression: ').strip()\n",
    "    \n",
    "    if not s:\n",
    "        break\n",
    "        \n",
    "    fields = s.split()  # split on whitespace\n",
    "    \n",
    "    if len(fields) != 3:\n",
    "        print(f'Enter NUMBER OP NUMBER, with whitespace!')\n",
    "        continue\n",
    "        \n",
    "    first, op, second = fields\n",
    "\n",
    "    try:    # \"better to ask foregiveness than for permission\"\n",
    "        first = int(first)\n",
    "        second = int(second)\n",
    "    except ValueError as e:\n",
    "        print(f'You need to enter numbers!')\n",
    "        continue\n",
    "    \n",
    "    if op in funcs:   # is this operator a key in our dict?\n",
    "        result = funcs[op](first, second)\n",
    "        print(f'{first} {op} {second} = {result}')\n",
    "    else:\n",
    "        print(f'{op} is not supported')\n",
    "    "
   ]
  },
  {
   "cell_type": "markdown",
   "id": "c9967125",
   "metadata": {},
   "source": [
    "# `if` in `lambda`\n",
    "\n",
    "The normal `if` is a statement, not an expression. So you cannot use `if` in a `lambda` body.\n",
    "\n",
    "But... there is an alternative version of `if`, which *is* an expression:\n",
    "\n",
    "RESULT_IF_TRUE if CONDITION else RESULT_IF_FALSE\n",
    "\n",
    "It's sort of, kind of like `?:` (the trinary operator) in many languages, but not quite."
   ]
  },
  {
   "cell_type": "code",
   "execution_count": 16,
   "id": "595bc6de",
   "metadata": {},
   "outputs": [
    {
     "data": {
      "text/plain": [
       "'Yes!'"
      ]
     },
     "execution_count": 16,
     "metadata": {},
     "output_type": "execute_result"
    }
   ],
   "source": [
    "x = 5\n",
    "\n",
    "# this is an expression... so we can use it in lambda\n",
    "'Yes!' if x == 5 else 'No!'"
   ]
  },
  {
   "cell_type": "code",
   "execution_count": 15,
   "id": "f352f4f5",
   "metadata": {},
   "outputs": [
    {
     "data": {
      "text/plain": [
       "'No!'"
      ]
     },
     "execution_count": 15,
     "metadata": {},
     "output_type": "execute_result"
    }
   ],
   "source": [
    "x = 6\n",
    "\n",
    "'Yes!' if x == 5 else 'No!'"
   ]
  },
  {
   "cell_type": "markdown",
   "id": "fbea8262",
   "metadata": {},
   "source": [
    "# Comprehensions!\n",
    "\n"
   ]
  },
  {
   "cell_type": "code",
   "execution_count": 19,
   "id": "c708e692",
   "metadata": {},
   "outputs": [
    {
     "data": {
      "text/plain": [
       "[0, 1, 4, 9, 16, 25, 36, 49, 64, 81]"
      ]
     },
     "execution_count": 19,
     "metadata": {},
     "output_type": "execute_result"
    }
   ],
   "source": [
    "# I have a list of integers\n",
    "numbers = list(range(10))\n",
    "\n",
    "# I want a list of these numbers, but squared\n",
    "output = []\n",
    "\n",
    "# \"not Pythonic\"\n",
    "for one_number in numbers:\n",
    "    output.append(one_number ** 2)\n",
    "    \n",
    "output    "
   ]
  },
  {
   "cell_type": "markdown",
   "id": "e1dcbf48",
   "metadata": {},
   "source": [
    "# When should we use a comprehension?\n",
    "\n",
    "(As opposed to a regular `for` loop?)\n",
    "\n",
    "1. I start with an iterable of some sort (i.e., an object that knows how to behave in a `for` loop)\n",
    "2. I want to get a list back, based on that iterable\n",
    "3. I can write a Python expression that describes the \"mapping\" from the first to the second"
   ]
  },
  {
   "cell_type": "code",
   "execution_count": 20,
   "id": "a88baf0e",
   "metadata": {},
   "outputs": [
    {
     "data": {
      "text/plain": [
       "[0, 1, 4, 9, 16, 25, 36, 49, 64, 81]"
      ]
     },
     "execution_count": 20,
     "metadata": {},
     "output_type": "execute_result"
    }
   ],
   "source": [
    "# the above as a list comprehension\n",
    "\n",
    "output = [one_number ** 2 for one_number in numbers]\n",
    "\n",
    "output"
   ]
  },
  {
   "cell_type": "code",
   "execution_count": 21,
   "id": "b0b5a5da",
   "metadata": {},
   "outputs": [
    {
     "data": {
      "text/plain": [
       "[0, 1, 4, 9, 16, 25, 36, 49, 64, 81]"
      ]
     },
     "execution_count": 21,
     "metadata": {},
     "output_type": "execute_result"
    }
   ],
   "source": [
    "# a list comprehension (like this) creates a new list\n",
    "# the order of items in the output (new list) is based on the order in the original list\n",
    "\n",
    "# if we have parentheses or brackets in Python, we have more freedom with whitespace and newlines\n",
    "\n",
    "[one_number ** 2              # expression -- sort of like SQL's \"SELECT\" -- absolutely any expression\n",
    " for one_number in numbers]   # iteration  -- sort of like SQL's \"FROM\" -- absolutely any iterable"
   ]
  },
  {
   "cell_type": "code",
   "execution_count": 22,
   "id": "1ed0d4df",
   "metadata": {},
   "outputs": [
    {
     "data": {
      "text/plain": [
       "[100, 400, 900]"
      ]
     },
     "execution_count": 22,
     "metadata": {},
     "output_type": "execute_result"
    }
   ],
   "source": [
    "def get_squares(numbers):\n",
    "    return [one_number ** 2           \n",
    "             for one_number in numbers]\n",
    "\n",
    "get_squares([10, 20, 30])"
   ]
  },
  {
   "cell_type": "code",
   "execution_count": 23,
   "id": "3673f749",
   "metadata": {},
   "outputs": [
    {
     "name": "stdout",
     "output_type": "stream",
     "text": [
      "  2           0 LOAD_CONST               1 (<code object <listcomp> at 0x1106714d0, file \"/var/folders/rr/0mnyyv811fs5vyp22gf4fxk00000gn/T/ipykernel_84686/1363252552.py\", line 2>)\n",
      "              2 LOAD_CONST               2 ('get_squares.<locals>.<listcomp>')\n",
      "              4 MAKE_FUNCTION            0\n",
      "\n",
      "  3           6 LOAD_FAST                0 (numbers)\n",
      "\n",
      "  2           8 GET_ITER\n",
      "             10 CALL_FUNCTION            1\n",
      "             12 RETURN_VALUE\n",
      "\n",
      "Disassembly of <code object <listcomp> at 0x1106714d0, file \"/var/folders/rr/0mnyyv811fs5vyp22gf4fxk00000gn/T/ipykernel_84686/1363252552.py\", line 2>:\n",
      "  2           0 BUILD_LIST               0\n",
      "              2 LOAD_FAST                0 (.0)\n",
      "        >>    4 FOR_ITER                 6 (to 18)\n",
      "\n",
      "  3           6 STORE_FAST               1 (one_number)\n",
      "\n",
      "  2           8 LOAD_FAST                1 (one_number)\n",
      "             10 LOAD_CONST               0 (2)\n",
      "             12 BINARY_POWER\n",
      "             14 LIST_APPEND              2\n",
      "             16 JUMP_ABSOLUTE            2 (to 4)\n",
      "        >>   18 RETURN_VALUE\n"
     ]
    }
   ],
   "source": [
    "import dis\n",
    "dis.dis(get_squares)"
   ]
  },
  {
   "cell_type": "code",
   "execution_count": 24,
   "id": "75cbfe9e",
   "metadata": {},
   "outputs": [],
   "source": [
    "# no new scope here!  all global\n",
    "for i in range(3):\n",
    "    n = i ** 2\n",
    "    \n",
    "    "
   ]
  },
  {
   "cell_type": "code",
   "execution_count": 25,
   "id": "e043e5bf",
   "metadata": {},
   "outputs": [
    {
     "data": {
      "text/plain": [
       "2"
      ]
     },
     "execution_count": 25,
     "metadata": {},
     "output_type": "execute_result"
    }
   ],
   "source": [
    "i"
   ]
  },
  {
   "cell_type": "code",
   "execution_count": 26,
   "id": "e6c85227",
   "metadata": {},
   "outputs": [
    {
     "data": {
      "text/plain": [
       "4"
      ]
     },
     "execution_count": 26,
     "metadata": {},
     "output_type": "execute_result"
    }
   ],
   "source": [
    "n"
   ]
  },
  {
   "cell_type": "code",
   "execution_count": 27,
   "id": "1cc4920f",
   "metadata": {},
   "outputs": [],
   "source": [
    "# get rid of them\n",
    "del(i)\n",
    "del(n)"
   ]
  },
  {
   "cell_type": "code",
   "execution_count": 28,
   "id": "b98e71ba",
   "metadata": {},
   "outputs": [
    {
     "data": {
      "text/plain": [
       "[0, 1, 4]"
      ]
     },
     "execution_count": 28,
     "metadata": {},
     "output_type": "execute_result"
    }
   ],
   "source": [
    "# how can it be that i is a local variable, when there isn't a new function here?\n",
    "[i**2 for i in range(3)]"
   ]
  },
  {
   "cell_type": "code",
   "execution_count": 29,
   "id": "555fb366",
   "metadata": {},
   "outputs": [
    {
     "ename": "NameError",
     "evalue": "name 'i' is not defined",
     "output_type": "error",
     "traceback": [
      "\u001b[0;31m---------------------------------------------------------------------------\u001b[0m",
      "\u001b[0;31mNameError\u001b[0m                                 Traceback (most recent call last)",
      "\u001b[0;32m/var/folders/rr/0mnyyv811fs5vyp22gf4fxk00000gn/T/ipykernel_84686/3616029859.py\u001b[0m in \u001b[0;36m<module>\u001b[0;34m\u001b[0m\n\u001b[0;32m----> 1\u001b[0;31m \u001b[0mi\u001b[0m\u001b[0;34m\u001b[0m\u001b[0;34m\u001b[0m\u001b[0m\n\u001b[0m",
      "\u001b[0;31mNameError\u001b[0m: name 'i' is not defined"
     ]
    }
   ],
   "source": [
    "i"
   ]
  },
  {
   "cell_type": "code",
   "execution_count": 30,
   "id": "4478f905",
   "metadata": {},
   "outputs": [
    {
     "data": {
      "text/plain": [
       "'ab*cde*fghij'"
      ]
     },
     "execution_count": 30,
     "metadata": {},
     "output_type": "execute_result"
    }
   ],
   "source": [
    "mylist = ['ab', 'cde', 'fghij']\n",
    "\n",
    "'*'.join(mylist)  # str.join is run on a string (the \"glue\") and takes an iterable of strings"
   ]
  },
  {
   "cell_type": "code",
   "execution_count": 31,
   "id": "3bd88bbe",
   "metadata": {},
   "outputs": [
    {
     "ename": "TypeError",
     "evalue": "sequence item 0: expected str instance, int found",
     "output_type": "error",
     "traceback": [
      "\u001b[0;31m---------------------------------------------------------------------------\u001b[0m",
      "\u001b[0;31mTypeError\u001b[0m                                 Traceback (most recent call last)",
      "\u001b[0;32m/var/folders/rr/0mnyyv811fs5vyp22gf4fxk00000gn/T/ipykernel_84686/126622368.py\u001b[0m in \u001b[0;36m<module>\u001b[0;34m\u001b[0m\n\u001b[1;32m      1\u001b[0m \u001b[0mmylist\u001b[0m \u001b[0;34m=\u001b[0m \u001b[0;34m[\u001b[0m\u001b[0;36m10\u001b[0m\u001b[0;34m,\u001b[0m \u001b[0;36m20\u001b[0m\u001b[0;34m,\u001b[0m \u001b[0;36m30\u001b[0m\u001b[0;34m]\u001b[0m\u001b[0;34m\u001b[0m\u001b[0;34m\u001b[0m\u001b[0m\n\u001b[1;32m      2\u001b[0m \u001b[0;34m\u001b[0m\u001b[0m\n\u001b[0;32m----> 3\u001b[0;31m \u001b[0;34m'*'\u001b[0m\u001b[0;34m.\u001b[0m\u001b[0mjoin\u001b[0m\u001b[0;34m(\u001b[0m\u001b[0mmylist\u001b[0m\u001b[0;34m)\u001b[0m   \u001b[0;31m# str.join expects an iterable of strings, not of integers!\u001b[0m\u001b[0;34m\u001b[0m\u001b[0;34m\u001b[0m\u001b[0m\n\u001b[0m",
      "\u001b[0;31mTypeError\u001b[0m: sequence item 0: expected str instance, int found"
     ]
    }
   ],
   "source": [
    "mylist = [10, 20, 30]\n",
    "\n",
    "'*'.join(mylist)   # str.join expects an iterable of strings, not of integers!"
   ]
  },
  {
   "cell_type": "code",
   "execution_count": 32,
   "id": "1dd39343",
   "metadata": {},
   "outputs": [
    {
     "data": {
      "text/plain": [
       "'10*20*30'"
      ]
     },
     "execution_count": 32,
     "metadata": {},
     "output_type": "execute_result"
    }
   ],
   "source": [
    "# I have a list of integers\n",
    "# I want a list of strings\n",
    "# I can translate from the first to the second using str()\n",
    "\n",
    "'*'.join([str(one_item)\n",
    "         for one_item in mylist])"
   ]
  },
  {
   "cell_type": "code",
   "execution_count": 33,
   "id": "c1e5c2ea",
   "metadata": {},
   "outputs": [
    {
     "data": {
      "text/plain": [
       "'This Is A Bunch Of Words For My Python Course'"
      ]
     },
     "execution_count": 33,
     "metadata": {},
     "output_type": "execute_result"
    }
   ],
   "source": [
    "s = 'this is a bunch of words for my Python course'\n",
    "s.title()  # returns a new string, all words are capitalized"
   ]
  },
  {
   "cell_type": "code",
   "execution_count": 34,
   "id": "2b47b463",
   "metadata": {},
   "outputs": [
    {
     "data": {
      "text/plain": [
       "'This is a bunch of words for my python course'"
      ]
     },
     "execution_count": 34,
     "metadata": {},
     "output_type": "execute_result"
    }
   ],
   "source": [
    "# there's also a \"capitalize\" method, which returns a new string, all \n",
    "# letters are lowercase, except for the first\n",
    "s.capitalize()"
   ]
  },
  {
   "cell_type": "code",
   "execution_count": 37,
   "id": "d449db84",
   "metadata": {},
   "outputs": [
    {
     "data": {
      "text/plain": [
       "'This Is A Bunch Of Words For My Python Course'"
      ]
     },
     "execution_count": 37,
     "metadata": {},
     "output_type": "execute_result"
    }
   ],
   "source": [
    "# what if I want to implement title's functionality\n",
    "# but I only have capitalize to use?\n",
    "\n",
    "# it's very common to use comprehensions on the result of split,\n",
    "# and then to pass the comprehension back to join\n",
    "\n",
    "' '.join([one_item.capitalize()\n",
    "        for one_item in s.split()])"
   ]
  },
  {
   "cell_type": "markdown",
   "id": "ba73eab1",
   "metadata": {},
   "source": [
    "# Exercises with comprehensions\n",
    "\n",
    "1. Ask the user to enter a string, containing integers separated by whitespace.  Use a comprehension to sum these numbers together.\n",
    "2. Ask the user to enter a sentence.  Use a comprehension to count the number of non-whitespace characters in the string."
   ]
  },
  {
   "cell_type": "code",
   "execution_count": 40,
   "id": "2024eb13",
   "metadata": {},
   "outputs": [
    {
     "name": "stdout",
     "output_type": "stream",
     "text": [
      "Enter numbers: 10 20 30\n"
     ]
    },
    {
     "data": {
      "text/plain": [
       "60"
      ]
     },
     "execution_count": 40,
     "metadata": {},
     "output_type": "execute_result"
    }
   ],
   "source": [
    "# sum numbers, with a comprehension\n",
    "\n",
    "# start with: list of strings\n",
    "# end with: list of ints\n",
    "# transform with: int()\n",
    "\n",
    "s = input('Enter numbers: ').strip()\n",
    "\n",
    "sum([int(one_number)\n",
    "     for one_number in s.split()])"
   ]
  },
  {
   "cell_type": "code",
   "execution_count": 45,
   "id": "ea1aecbe",
   "metadata": {},
   "outputs": [
    {
     "name": "stdout",
     "output_type": "stream",
     "text": [
      "Enter sentence: this is a test\n"
     ]
    },
    {
     "data": {
      "text/plain": [
       "11"
      ]
     },
     "execution_count": 45,
     "metadata": {},
     "output_type": "execute_result"
    }
   ],
   "source": [
    "# count non-whitespace characters\n",
    "\n",
    "# start with: list of strings\n",
    "# end with: list of ints\n",
    "# transform with len()\n",
    "\n",
    "s = input('Enter sentence: ').strip()\n",
    "\n",
    "sum([len(one_word)\n",
    "    for one_word in s.split()])"
   ]
  },
  {
   "cell_type": "code",
   "execution_count": 48,
   "id": "a3c9e3cd",
   "metadata": {},
   "outputs": [
    {
     "data": {
      "text/plain": [
       "11"
      ]
     },
     "execution_count": 48,
     "metadata": {},
     "output_type": "execute_result"
    }
   ],
   "source": [
    "s = 'this is a test'\n",
    "\n",
    "sum([ i != \" \" \n",
    "     for i in s]) "
   ]
  },
  {
   "cell_type": "code",
   "execution_count": 49,
   "id": "dcc1430c",
   "metadata": {},
   "outputs": [
    {
     "data": {
      "text/plain": [
       "(int,)"
      ]
     },
     "execution_count": 49,
     "metadata": {},
     "output_type": "execute_result"
    }
   ],
   "source": [
    "bool.__bases__"
   ]
  },
  {
   "cell_type": "code",
   "execution_count": 51,
   "id": "26013726",
   "metadata": {},
   "outputs": [
    {
     "data": {
      "text/plain": [
       "4"
      ]
     },
     "execution_count": 51,
     "metadata": {},
     "output_type": "execute_result"
    }
   ],
   "source": [
    "# True is really a 1, and False is really a 0, when we need to\n",
    "\n",
    "True + True + True + True"
   ]
  },
  {
   "cell_type": "markdown",
   "id": "45a02d87",
   "metadata": {},
   "source": [
    "\"whitespace\" in Python is: ' ', \\n, \\t, \\r, \\v\n",
    "\n"
   ]
  },
  {
   "cell_type": "code",
   "execution_count": 52,
   "id": "d2aa6b94",
   "metadata": {},
   "outputs": [
    {
     "data": {
      "text/plain": [
       "['##\\n',\n",
       " '# User Database\\n',\n",
       " '# \\n',\n",
       " '# Note that this file is consulted directly only when the system is running\\n',\n",
       " '# in single-user mode.  At other times this information is provided by\\n',\n",
       " '# Open Directory.\\n',\n",
       " '#\\n',\n",
       " '# See the opendirectoryd(8) man page for additional information about\\n',\n",
       " '# Open Directory.\\n',\n",
       " '##\\n',\n",
       " 'nobody:*:-2:-2:Unprivileged User:/var/empty:/usr/bin/false\\n',\n",
       " 'root:*:0:0:System Administrator:/var/root:/bin/sh\\n',\n",
       " 'daemon:*:1:1:System Services:/var/root:/usr/bin/false\\n',\n",
       " '_uucp:*:4:4:Unix to Unix Copy Protocol:/var/spool/uucp:/usr/sbin/uucico\\n',\n",
       " '_taskgated:*:13:13:Task Gate Daemon:/var/empty:/usr/bin/false\\n',\n",
       " '_networkd:*:24:24:Network Services:/var/networkd:/usr/bin/false\\n',\n",
       " '_installassistant:*:25:25:Install Assistant:/var/empty:/usr/bin/false\\n',\n",
       " '_lp:*:26:26:Printing Services:/var/spool/cups:/usr/bin/false\\n',\n",
       " '_postfix:*:27:27:Postfix Mail Server:/var/spool/postfix:/usr/bin/false\\n',\n",
       " '_scsd:*:31:31:Service Configuration Service:/var/empty:/usr/bin/false\\n',\n",
       " '_ces:*:32:32:Certificate Enrollment Service:/var/empty:/usr/bin/false\\n',\n",
       " '_appstore:*:33:33:Mac App Store Service:/var/db/appstore:/usr/bin/false\\n',\n",
       " '_mcxalr:*:54:54:MCX AppLaunch:/var/empty:/usr/bin/false\\n',\n",
       " '_appleevents:*:55:55:AppleEvents Daemon:/var/empty:/usr/bin/false\\n',\n",
       " '_geod:*:56:56:Geo Services Daemon:/var/db/geod:/usr/bin/false\\n',\n",
       " '_devdocs:*:59:59:Developer Documentation:/var/empty:/usr/bin/false\\n',\n",
       " '_sandbox:*:60:60:Seatbelt:/var/empty:/usr/bin/false\\n',\n",
       " '_mdnsresponder:*:65:65:mDNSResponder:/var/empty:/usr/bin/false\\n',\n",
       " '_ard:*:67:67:Apple Remote Desktop:/var/empty:/usr/bin/false\\n',\n",
       " '_www:*:70:70:World Wide Web Server:/Library/WebServer:/usr/bin/false\\n',\n",
       " '_eppc:*:71:71:Apple Events User:/var/empty:/usr/bin/false\\n',\n",
       " '_cvs:*:72:72:CVS Server:/var/empty:/usr/bin/false\\n',\n",
       " '_svn:*:73:73:SVN Server:/var/empty:/usr/bin/false\\n',\n",
       " '_mysql:*:74:74:MySQL Server:/var/empty:/usr/bin/false\\n',\n",
       " '_sshd:*:75:75:sshd Privilege separation:/var/empty:/usr/bin/false\\n',\n",
       " '_qtss:*:76:76:QuickTime Streaming Server:/var/empty:/usr/bin/false\\n',\n",
       " '_cyrus:*:77:6:Cyrus Administrator:/var/imap:/usr/bin/false\\n',\n",
       " '_mailman:*:78:78:Mailman List Server:/var/empty:/usr/bin/false\\n',\n",
       " '_appserver:*:79:79:Application Server:/var/empty:/usr/bin/false\\n',\n",
       " '_clamav:*:82:82:ClamAV Daemon:/var/virusmails:/usr/bin/false\\n',\n",
       " '_amavisd:*:83:83:AMaViS Daemon:/var/virusmails:/usr/bin/false\\n',\n",
       " '_jabber:*:84:84:Jabber XMPP Server:/var/empty:/usr/bin/false\\n',\n",
       " '_appowner:*:87:87:Application Owner:/var/empty:/usr/bin/false\\n',\n",
       " '_windowserver:*:88:88:WindowServer:/var/empty:/usr/bin/false\\n',\n",
       " '_spotlight:*:89:89:Spotlight:/var/empty:/usr/bin/false\\n',\n",
       " '_tokend:*:91:91:Token Daemon:/var/empty:/usr/bin/false\\n',\n",
       " '_securityagent:*:92:92:SecurityAgent:/var/db/securityagent:/usr/bin/false\\n',\n",
       " '_calendar:*:93:93:Calendar:/var/empty:/usr/bin/false\\n',\n",
       " '_teamsserver:*:94:94:TeamsServer:/var/teamsserver:/usr/bin/false\\n',\n",
       " '_update_sharing:*:95:-2:Update Sharing:/var/empty:/usr/bin/false\\n',\n",
       " '_installer:*:96:-2:Installer:/var/empty:/usr/bin/false\\n',\n",
       " '_atsserver:*:97:97:ATS Server:/var/empty:/usr/bin/false\\n',\n",
       " '_ftp:*:98:-2:FTP Daemon:/var/empty:/usr/bin/false\\n',\n",
       " '_unknown:*:99:99:Unknown User:/var/empty:/usr/bin/false\\n',\n",
       " '_softwareupdate:*:200:200:Software Update Service:/var/db/softwareupdate:/usr/bin/false\\n',\n",
       " '_coreaudiod:*:202:202:Core Audio Daemon:/var/empty:/usr/bin/false\\n',\n",
       " '_screensaver:*:203:203:Screensaver:/var/empty:/usr/bin/false\\n',\n",
       " '_locationd:*:205:205:Location Daemon:/var/db/locationd:/usr/bin/false\\n',\n",
       " '_trustevaluationagent:*:208:208:Trust Evaluation Agent:/var/empty:/usr/bin/false\\n',\n",
       " '_timezone:*:210:210:AutoTimeZoneDaemon:/var/empty:/usr/bin/false\\n',\n",
       " '_lda:*:211:211:Local Delivery Agent:/var/empty:/usr/bin/false\\n',\n",
       " '_cvmsroot:*:212:212:CVMS Root:/var/empty:/usr/bin/false\\n',\n",
       " '_usbmuxd:*:213:213:iPhone OS Device Helper:/var/db/lockdown:/usr/bin/false\\n',\n",
       " '_dovecot:*:214:6:Dovecot Administrator:/var/empty:/usr/bin/false\\n',\n",
       " '_dpaudio:*:215:215:DP Audio:/var/empty:/usr/bin/false\\n',\n",
       " '_postgres:*:216:216:PostgreSQL Server:/var/empty:/usr/bin/false\\n',\n",
       " '_krbtgt:*:217:-2:Kerberos Ticket Granting Ticket:/var/empty:/usr/bin/false\\n',\n",
       " '_kadmin_admin:*:218:-2:Kerberos Admin Service:/var/empty:/usr/bin/false\\n',\n",
       " '_kadmin_changepw:*:219:-2:Kerberos Change Password Service:/var/empty:/usr/bin/false\\n',\n",
       " '_devicemgr:*:220:220:Device Management Server:/var/empty:/usr/bin/false\\n',\n",
       " '_webauthserver:*:221:221:Web Auth Server:/var/empty:/usr/bin/false\\n',\n",
       " '_netbios:*:222:222:NetBIOS:/var/empty:/usr/bin/false\\n',\n",
       " '_warmd:*:224:224:Warm Daemon:/var/empty:/usr/bin/false\\n',\n",
       " '_dovenull:*:227:227:Dovecot Authentication:/var/empty:/usr/bin/false\\n',\n",
       " '_netstatistics:*:228:228:Network Statistics Daemon:/var/empty:/usr/bin/false\\n',\n",
       " '_avbdeviced:*:229:-2:Ethernet AVB Device Daemon:/var/empty:/usr/bin/false\\n',\n",
       " '_krb_krbtgt:*:230:-2:Open Directory Kerberos Ticket Granting Ticket:/var/empty:/usr/bin/false\\n',\n",
       " '_krb_kadmin:*:231:-2:Open Directory Kerberos Admin Service:/var/empty:/usr/bin/false\\n',\n",
       " '_krb_changepw:*:232:-2:Open Directory Kerberos Change Password Service:/var/empty:/usr/bin/false\\n',\n",
       " '_krb_kerberos:*:233:-2:Open Directory Kerberos:/var/empty:/usr/bin/false\\n',\n",
       " '_krb_anonymous:*:234:-2:Open Directory Kerberos Anonymous:/var/empty:/usr/bin/false\\n',\n",
       " '_assetcache:*:235:235:Asset Cache Service:/var/empty:/usr/bin/false\\n',\n",
       " '_coremediaiod:*:236:236:Core Media IO Daemon:/var/empty:/usr/bin/false\\n',\n",
       " '_launchservicesd:*:239:239:_launchservicesd:/var/empty:/usr/bin/false\\n',\n",
       " '_iconservices:*:240:240:IconServices:/var/empty:/usr/bin/false\\n',\n",
       " '_distnote:*:241:241:DistNote:/var/empty:/usr/bin/false\\n',\n",
       " '_nsurlsessiond:*:242:242:NSURLSession Daemon:/var/db/nsurlsessiond:/usr/bin/false\\n',\n",
       " '_displaypolicyd:*:244:244:Display Policy Daemon:/var/empty:/usr/bin/false\\n',\n",
       " '_astris:*:245:245:Astris Services:/var/db/astris:/usr/bin/false\\n',\n",
       " '_krbfast:*:246:-2:Kerberos FAST Account:/var/empty:/usr/bin/false\\n',\n",
       " '_gamecontrollerd:*:247:247:Game Controller Daemon:/var/empty:/usr/bin/false\\n',\n",
       " '_mbsetupuser:*:248:248:Setup User:/var/setup:/bin/bash\\n',\n",
       " '_ondemand:*:249:249:On Demand Resource Daemon:/var/db/ondemand:/usr/bin/false\\n',\n",
       " '_xserverdocs:*:251:251:macOS Server Documents Service:/var/empty:/usr/bin/false\\n',\n",
       " '_wwwproxy:*:252:252:WWW Proxy:/var/empty:/usr/bin/false\\n',\n",
       " '_mobileasset:*:253:253:MobileAsset User:/var/ma:/usr/bin/false\\n',\n",
       " '_findmydevice:*:254:254:Find My Device Daemon:/var/db/findmydevice:/usr/bin/false\\n',\n",
       " '_datadetectors:*:257:257:DataDetectors:/var/db/datadetectors:/usr/bin/false\\n',\n",
       " '_captiveagent:*:258:258:captiveagent:/var/empty:/usr/bin/false\\n',\n",
       " '_ctkd:*:259:259:ctkd Account:/var/empty:/usr/bin/false\\n',\n",
       " '_applepay:*:260:260:applepay Account:/var/db/applepay:/usr/bin/false\\n',\n",
       " '_hidd:*:261:261:HID Service User:/var/db/hidd:/usr/bin/false\\n',\n",
       " '_cmiodalassistants:*:262:262:CoreMedia IO Assistants User:/var/db/cmiodalassistants:/usr/bin/false\\n',\n",
       " '_analyticsd:*:263:263:Analytics Daemon:/var/db/analyticsd:/usr/bin/false\\n',\n",
       " '_fpsd:*:265:265:FPS Daemon:/var/db/fpsd:/usr/bin/false\\n',\n",
       " '_timed:*:266:266:Time Sync Daemon:/var/db/timed:/usr/bin/false\\n',\n",
       " '_nearbyd:*:268:268:Proximity and Ranging Daemon:/var/db/nearbyd:/usr/bin/false\\n',\n",
       " '_reportmemoryexception:*:269:269:ReportMemoryException:/var/db/reportmemoryexception:/usr/bin/false\\n',\n",
       " '_driverkit:*:270:270:DriverKit:/var/empty:/usr/bin/false\\n',\n",
       " '_diskimagesiod:*:271:271:DiskImages IO Daemon:/var/db/diskimagesiod:/usr/bin/false\\n',\n",
       " '_logd:*:272:272:Log Daemon:/var/db/diagnostics:/usr/bin/false\\n',\n",
       " '_appinstalld:*:273:273:App Install Daemon:/var/db/appinstalld:/usr/bin/false\\n',\n",
       " '_installcoordinationd:*:274:274:Install Coordination Daemon:/var/db/installcoordinationd:/usr/bin/false\\n',\n",
       " '_demod:*:275:275:Demo Daemon:/var/empty:/usr/bin/false\\n',\n",
       " '_rmd:*:277:277:Remote Management Daemon:/var/db/rmd:/usr/bin/false\\n',\n",
       " '_fud:*:278:278:Firmware Update Daemon:/var/db/fud:/usr/bin/false\\n',\n",
       " '_knowledgegraphd:*:279:279:Knowledge Graph Daemon:/var/db/knowledgegraphd:/usr/bin/false\\n',\n",
       " '_coreml:*:280:280:CoreML Services:/var/empty:/usr/bin/false\\n',\n",
       " '_trustd:*:282:282:trustd:/var/empty:/usr/bin/false\\n',\n",
       " '_oahd:*:441:441:OAH Daemon:/var/empty:/usr/bin/false\\n']"
      ]
     },
     "execution_count": 52,
     "metadata": {},
     "output_type": "execute_result"
    }
   ],
   "source": [
    "# if I can use any iterable in a list comprehension,\n",
    "# then I can use a file, as well!\n",
    "\n",
    "[one_line\n",
    " for one_line in open('/etc/passwd')]"
   ]
  },
  {
   "cell_type": "code",
   "execution_count": 54,
   "id": "ae746345",
   "metadata": {},
   "outputs": [
    {
     "data": {
      "text/plain": [
       "['##\\n',\n",
       " '# User Database\\n',\n",
       " '# \\n',\n",
       " '# Note that this file is consulted directly only when the system is running\\n',\n",
       " '# in single-user mode.  At other times this information is provided by\\n',\n",
       " '# Open Directory.\\n',\n",
       " '#\\n',\n",
       " '# See the opendirectoryd(8) man page for additional information about\\n',\n",
       " '# Open Directory.\\n',\n",
       " '##\\n',\n",
       " 'nobody',\n",
       " 'root',\n",
       " 'daemon',\n",
       " '_uucp',\n",
       " '_taskgated',\n",
       " '_networkd',\n",
       " '_installassistant',\n",
       " '_lp',\n",
       " '_postfix',\n",
       " '_scsd',\n",
       " '_ces',\n",
       " '_appstore',\n",
       " '_mcxalr',\n",
       " '_appleevents',\n",
       " '_geod',\n",
       " '_devdocs',\n",
       " '_sandbox',\n",
       " '_mdnsresponder',\n",
       " '_ard',\n",
       " '_www',\n",
       " '_eppc',\n",
       " '_cvs',\n",
       " '_svn',\n",
       " '_mysql',\n",
       " '_sshd',\n",
       " '_qtss',\n",
       " '_cyrus',\n",
       " '_mailman',\n",
       " '_appserver',\n",
       " '_clamav',\n",
       " '_amavisd',\n",
       " '_jabber',\n",
       " '_appowner',\n",
       " '_windowserver',\n",
       " '_spotlight',\n",
       " '_tokend',\n",
       " '_securityagent',\n",
       " '_calendar',\n",
       " '_teamsserver',\n",
       " '_update_sharing',\n",
       " '_installer',\n",
       " '_atsserver',\n",
       " '_ftp',\n",
       " '_unknown',\n",
       " '_softwareupdate',\n",
       " '_coreaudiod',\n",
       " '_screensaver',\n",
       " '_locationd',\n",
       " '_trustevaluationagent',\n",
       " '_timezone',\n",
       " '_lda',\n",
       " '_cvmsroot',\n",
       " '_usbmuxd',\n",
       " '_dovecot',\n",
       " '_dpaudio',\n",
       " '_postgres',\n",
       " '_krbtgt',\n",
       " '_kadmin_admin',\n",
       " '_kadmin_changepw',\n",
       " '_devicemgr',\n",
       " '_webauthserver',\n",
       " '_netbios',\n",
       " '_warmd',\n",
       " '_dovenull',\n",
       " '_netstatistics',\n",
       " '_avbdeviced',\n",
       " '_krb_krbtgt',\n",
       " '_krb_kadmin',\n",
       " '_krb_changepw',\n",
       " '_krb_kerberos',\n",
       " '_krb_anonymous',\n",
       " '_assetcache',\n",
       " '_coremediaiod',\n",
       " '_launchservicesd',\n",
       " '_iconservices',\n",
       " '_distnote',\n",
       " '_nsurlsessiond',\n",
       " '_displaypolicyd',\n",
       " '_astris',\n",
       " '_krbfast',\n",
       " '_gamecontrollerd',\n",
       " '_mbsetupuser',\n",
       " '_ondemand',\n",
       " '_xserverdocs',\n",
       " '_wwwproxy',\n",
       " '_mobileasset',\n",
       " '_findmydevice',\n",
       " '_datadetectors',\n",
       " '_captiveagent',\n",
       " '_ctkd',\n",
       " '_applepay',\n",
       " '_hidd',\n",
       " '_cmiodalassistants',\n",
       " '_analyticsd',\n",
       " '_fpsd',\n",
       " '_timed',\n",
       " '_nearbyd',\n",
       " '_reportmemoryexception',\n",
       " '_driverkit',\n",
       " '_diskimagesiod',\n",
       " '_logd',\n",
       " '_appinstalld',\n",
       " '_installcoordinationd',\n",
       " '_demod',\n",
       " '_rmd',\n",
       " '_fud',\n",
       " '_knowledgegraphd',\n",
       " '_coreml',\n",
       " '_trustd',\n",
       " '_oahd']"
      ]
     },
     "execution_count": 54,
     "metadata": {},
     "output_type": "execute_result"
    }
   ],
   "source": [
    "# if I want to get a list of the usernames on my system,\n",
    "# I can use a list comprehension!\n",
    "\n",
    "[one_line.split(':')[0]              # get each line, turn into a list, grab index 0\n",
    "for one_line in open('/etc/passwd')]  # go through each line in /etc/passwd"
   ]
  },
  {
   "cell_type": "code",
   "execution_count": 55,
   "id": "215f1a23",
   "metadata": {
    "collapsed": true
   },
   "outputs": [
    {
     "data": {
      "text/plain": [
       "['nobody',\n",
       " 'root',\n",
       " 'daemon',\n",
       " '_uucp',\n",
       " '_taskgated',\n",
       " '_networkd',\n",
       " '_installassistant',\n",
       " '_lp',\n",
       " '_postfix',\n",
       " '_scsd',\n",
       " '_ces',\n",
       " '_appstore',\n",
       " '_mcxalr',\n",
       " '_appleevents',\n",
       " '_geod',\n",
       " '_devdocs',\n",
       " '_sandbox',\n",
       " '_mdnsresponder',\n",
       " '_ard',\n",
       " '_www',\n",
       " '_eppc',\n",
       " '_cvs',\n",
       " '_svn',\n",
       " '_mysql',\n",
       " '_sshd',\n",
       " '_qtss',\n",
       " '_cyrus',\n",
       " '_mailman',\n",
       " '_appserver',\n",
       " '_clamav',\n",
       " '_amavisd',\n",
       " '_jabber',\n",
       " '_appowner',\n",
       " '_windowserver',\n",
       " '_spotlight',\n",
       " '_tokend',\n",
       " '_securityagent',\n",
       " '_calendar',\n",
       " '_teamsserver',\n",
       " '_update_sharing',\n",
       " '_installer',\n",
       " '_atsserver',\n",
       " '_ftp',\n",
       " '_unknown',\n",
       " '_softwareupdate',\n",
       " '_coreaudiod',\n",
       " '_screensaver',\n",
       " '_locationd',\n",
       " '_trustevaluationagent',\n",
       " '_timezone',\n",
       " '_lda',\n",
       " '_cvmsroot',\n",
       " '_usbmuxd',\n",
       " '_dovecot',\n",
       " '_dpaudio',\n",
       " '_postgres',\n",
       " '_krbtgt',\n",
       " '_kadmin_admin',\n",
       " '_kadmin_changepw',\n",
       " '_devicemgr',\n",
       " '_webauthserver',\n",
       " '_netbios',\n",
       " '_warmd',\n",
       " '_dovenull',\n",
       " '_netstatistics',\n",
       " '_avbdeviced',\n",
       " '_krb_krbtgt',\n",
       " '_krb_kadmin',\n",
       " '_krb_changepw',\n",
       " '_krb_kerberos',\n",
       " '_krb_anonymous',\n",
       " '_assetcache',\n",
       " '_coremediaiod',\n",
       " '_launchservicesd',\n",
       " '_iconservices',\n",
       " '_distnote',\n",
       " '_nsurlsessiond',\n",
       " '_displaypolicyd',\n",
       " '_astris',\n",
       " '_krbfast',\n",
       " '_gamecontrollerd',\n",
       " '_mbsetupuser',\n",
       " '_ondemand',\n",
       " '_xserverdocs',\n",
       " '_wwwproxy',\n",
       " '_mobileasset',\n",
       " '_findmydevice',\n",
       " '_datadetectors',\n",
       " '_captiveagent',\n",
       " '_ctkd',\n",
       " '_applepay',\n",
       " '_hidd',\n",
       " '_cmiodalassistants',\n",
       " '_analyticsd',\n",
       " '_fpsd',\n",
       " '_timed',\n",
       " '_nearbyd',\n",
       " '_reportmemoryexception',\n",
       " '_driverkit',\n",
       " '_diskimagesiod',\n",
       " '_logd',\n",
       " '_appinstalld',\n",
       " '_installcoordinationd',\n",
       " '_demod',\n",
       " '_rmd',\n",
       " '_fud',\n",
       " '_knowledgegraphd',\n",
       " '_coreml',\n",
       " '_trustd',\n",
       " '_oahd']"
      ]
     },
     "execution_count": 55,
     "metadata": {},
     "output_type": "execute_result"
    }
   ],
   "source": [
    "[one_line.split(':')[0]              # SELECT\n",
    " for one_line in open('/etc/passwd') # FROM\n",
    " if not one_line.startswith('#')]    # WHERE"
   ]
  },
  {
   "cell_type": "code",
   "execution_count": 58,
   "id": "bd4b129b",
   "metadata": {},
   "outputs": [
    {
     "name": "stdout",
     "output_type": "stream",
     "text": [
      "Enter numbers: 10 20 abc 30\n"
     ]
    },
    {
     "data": {
      "text/plain": [
       "60"
      ]
     },
     "execution_count": 58,
     "metadata": {},
     "output_type": "execute_result"
    }
   ],
   "source": [
    "# sum integers from the user's input\n",
    "\n",
    "s = input('Enter numbers: ').strip()\n",
    "\n",
    "sum([int(one_number)\n",
    "    for one_number in s.split()\n",
    "    if one_number.isdigit() ])"
   ]
  },
  {
   "cell_type": "code",
   "execution_count": 60,
   "id": "1597b7ca",
   "metadata": {},
   "outputs": [
    {
     "name": "stdout",
     "output_type": "stream",
     "text": [
      "Enter numbers: 10 20 30 abcd 40\n"
     ]
    },
    {
     "data": {
      "text/plain": [
       "100"
      ]
     },
     "execution_count": 60,
     "metadata": {},
     "output_type": "execute_result"
    }
   ],
   "source": [
    "# sum integers from the user's input\n",
    "\n",
    "s = input('Enter numbers: ').strip()\n",
    "\n",
    "def safe_int(s):\n",
    "    try:\n",
    "        return int(s)\n",
    "    except ValueError as e:\n",
    "        return 0\n",
    "\n",
    "sum([safe_int(one_number)\n",
    "    for one_number in s.split()])"
   ]
  },
  {
   "cell_type": "code",
   "execution_count": 61,
   "id": "2804bd4d",
   "metadata": {},
   "outputs": [
    {
     "name": "stdout",
     "output_type": "stream",
     "text": [
      "5\r\n",
      "\t10     \r\n",
      "\t20\r\n",
      "  \t3\r\n",
      "\t\t   \t20        \r\n",
      "\r\n",
      " 25\r\n"
     ]
    }
   ],
   "source": [
    "!cat nums.txt"
   ]
  },
  {
   "cell_type": "markdown",
   "id": "c344a0f8",
   "metadata": {},
   "source": [
    "# Exercise: Sum numbers\n",
    "\n",
    "1. Use a list comprehension to open and read from `nums.txt`\n",
    "2. Sum the numbers, ignoring whitespace and also ignoring blank lines.  (If you don't, you'll know very quickly that there's trouble.)"
   ]
  },
  {
   "cell_type": "code",
   "execution_count": 69,
   "id": "6f404bd4",
   "metadata": {},
   "outputs": [
    {
     "data": {
      "text/plain": [
       "[5, 10, 20, 3, 20, 25]"
      ]
     },
     "execution_count": 69,
     "metadata": {},
     "output_type": "execute_result"
    }
   ],
   "source": [
    "[int(one_line)\n",
    "for one_line in open('nums.txt')\n",
    "if one_line.strip()]  # if I remove all whitespace from the start + end, and '' remains, we'll get False"
   ]
  },
  {
   "cell_type": "code",
   "execution_count": null,
   "id": "2233efb7",
   "metadata": {},
   "outputs": [],
   "source": [
    "[int(one_line)\n",
    "for one_line in open('nums.txt')\n",
    "if one_line.strip().isdigit()]   # check: after removing whitespace, do we only have digits 0-9?"
   ]
  },
  {
   "cell_type": "code",
   "execution_count": 64,
   "id": "c130d077",
   "metadata": {},
   "outputs": [
    {
     "data": {
      "text/plain": [
       "5"
      ]
     },
     "execution_count": 64,
     "metadata": {},
     "output_type": "execute_result"
    }
   ],
   "source": [
    "int('5')"
   ]
  },
  {
   "cell_type": "code",
   "execution_count": 65,
   "id": "ba8d9690",
   "metadata": {},
   "outputs": [
    {
     "data": {
      "text/plain": [
       "5"
      ]
     },
     "execution_count": 65,
     "metadata": {},
     "output_type": "execute_result"
    }
   ],
   "source": [
    "int('   5      ')"
   ]
  },
  {
   "cell_type": "code",
   "execution_count": 66,
   "id": "eabf9399",
   "metadata": {},
   "outputs": [
    {
     "data": {
      "text/plain": [
       "5"
      ]
     },
     "execution_count": 66,
     "metadata": {},
     "output_type": "execute_result"
    }
   ],
   "source": [
    "int('\\n\\n\\n\\v\\v\\v    5      \\t\\t\\t\\t\\n\\n\\r\\r')"
   ]
  },
  {
   "cell_type": "code",
   "execution_count": 67,
   "id": "eba63c17",
   "metadata": {},
   "outputs": [
    {
     "data": {
      "text/plain": [
       "0"
      ]
     },
     "execution_count": 67,
     "metadata": {},
     "output_type": "execute_result"
    }
   ],
   "source": [
    "int()  # no arguments!"
   ]
  },
  {
   "cell_type": "code",
   "execution_count": 68,
   "id": "8871ae04",
   "metadata": {},
   "outputs": [
    {
     "ename": "ValueError",
     "evalue": "invalid literal for int() with base 10: ''",
     "output_type": "error",
     "traceback": [
      "\u001b[0;31m---------------------------------------------------------------------------\u001b[0m",
      "\u001b[0;31mValueError\u001b[0m                                Traceback (most recent call last)",
      "\u001b[0;32m/var/folders/rr/0mnyyv811fs5vyp22gf4fxk00000gn/T/ipykernel_84686/3174514641.py\u001b[0m in \u001b[0;36m<module>\u001b[0;34m\u001b[0m\n\u001b[0;32m----> 1\u001b[0;31m \u001b[0mint\u001b[0m\u001b[0;34m(\u001b[0m\u001b[0;34m''\u001b[0m\u001b[0;34m)\u001b[0m\u001b[0;34m\u001b[0m\u001b[0;34m\u001b[0m\u001b[0m\n\u001b[0m",
      "\u001b[0;31mValueError\u001b[0m: invalid literal for int() with base 10: ''"
     ]
    }
   ],
   "source": [
    "int('')"
   ]
  },
  {
   "cell_type": "code",
   "execution_count": null,
   "id": "1774d897",
   "metadata": {},
   "outputs": [],
   "source": [
    "sum([int(num)\n",
    "     for num in open('nums.txt').read().split()])"
   ]
  },
  {
   "cell_type": "code",
   "execution_count": 70,
   "id": "52cb1da4",
   "metadata": {},
   "outputs": [
    {
     "name": "stdout",
     "output_type": "stream",
     "text": [
      "Adidas\torange\t43\r\n",
      "Nike\tblack\t41\r\n",
      "Adidas\tblack\t39\r\n",
      "New Balance\tpink\t41\r\n",
      "Nike\twhite\t44\r\n",
      "New Balance\torange\t38\r\n",
      "Nike\tpink\t44\r\n",
      "Adidas\tpink\t44\r\n",
      "New Balance\torange\t39\r\n",
      "New Balance\tblack\t43\r\n"
     ]
    }
   ],
   "source": [
    "!head shoe-data.txt"
   ]
  },
  {
   "cell_type": "markdown",
   "id": "d0876c5a",
   "metadata": {},
   "source": [
    "# Exercise: Shoe dicts\n",
    "\n",
    "1. The file `shoe-data.txt` contains 100 lines, each describing a pair of shoes. Each shoe has three data points, separated by tab (`'\\t'`):\n",
    "    - Brand\n",
    "    - Color\n",
    "    - Size\n",
    "2. Use a list comprehension to create a list of dictionaries, with one dict per line in the file.  Each dict should have the keys `brand`, `color`, and `size`.  You don't need to turn the sizes into integers (but if you want, you can).\n",
    "3. The end result of your list comprehension should then be a list containing 100 dicts, each with the same keys, but with different values.\n",
    "4. I strongly suggest that you write a function to handle each line, rather than try to do it inline in the comprehension (which can get messy)."
   ]
  },
  {
   "cell_type": "code",
   "execution_count": 74,
   "id": "ed8269ad",
   "metadata": {
    "collapsed": true
   },
   "outputs": [
    {
     "data": {
      "text/plain": [
       "[{'brand': 'Adidas', 'color': 'orange', 'size': '43'},\n",
       " {'brand': 'Nike', 'color': 'black', 'size': '41'},\n",
       " {'brand': 'Adidas', 'color': 'black', 'size': '39'},\n",
       " {'brand': 'New Balance', 'color': 'pink', 'size': '41'},\n",
       " {'brand': 'Nike', 'color': 'white', 'size': '44'},\n",
       " {'brand': 'New Balance', 'color': 'orange', 'size': '38'},\n",
       " {'brand': 'Nike', 'color': 'pink', 'size': '44'},\n",
       " {'brand': 'Adidas', 'color': 'pink', 'size': '44'},\n",
       " {'brand': 'New Balance', 'color': 'orange', 'size': '39'},\n",
       " {'brand': 'New Balance', 'color': 'black', 'size': '43'},\n",
       " {'brand': 'New Balance', 'color': 'orange', 'size': '44'},\n",
       " {'brand': 'Nike', 'color': 'black', 'size': '41'},\n",
       " {'brand': 'Adidas', 'color': 'orange', 'size': '37'},\n",
       " {'brand': 'Adidas', 'color': 'black', 'size': '38'},\n",
       " {'brand': 'Adidas', 'color': 'pink', 'size': '41'},\n",
       " {'brand': 'Adidas', 'color': 'white', 'size': '36'},\n",
       " {'brand': 'Adidas', 'color': 'orange', 'size': '36'},\n",
       " {'brand': 'Nike', 'color': 'pink', 'size': '41'},\n",
       " {'brand': 'Adidas', 'color': 'pink', 'size': '35'},\n",
       " {'brand': 'New Balance', 'color': 'orange', 'size': '37'},\n",
       " {'brand': 'Nike', 'color': 'pink', 'size': '43'},\n",
       " {'brand': 'Nike', 'color': 'black', 'size': '43'},\n",
       " {'brand': 'Nike', 'color': 'black', 'size': '42'},\n",
       " {'brand': 'Nike', 'color': 'black', 'size': '35'},\n",
       " {'brand': 'Adidas', 'color': 'black', 'size': '41'},\n",
       " {'brand': 'New Balance', 'color': 'pink', 'size': '40'},\n",
       " {'brand': 'Adidas', 'color': 'white', 'size': '35'},\n",
       " {'brand': 'New Balance', 'color': 'pink', 'size': '41'},\n",
       " {'brand': 'New Balance', 'color': 'orange', 'size': '41'},\n",
       " {'brand': 'Adidas', 'color': 'orange', 'size': '40'},\n",
       " {'brand': 'New Balance', 'color': 'orange', 'size': '40'},\n",
       " {'brand': 'New Balance', 'color': 'white', 'size': '44'},\n",
       " {'brand': 'New Balance', 'color': 'pink', 'size': '40'},\n",
       " {'brand': 'Nike', 'color': 'black', 'size': '43'},\n",
       " {'brand': 'Nike', 'color': 'pink', 'size': '36'},\n",
       " {'brand': 'New Balance', 'color': 'white', 'size': '39'},\n",
       " {'brand': 'Nike', 'color': 'black', 'size': '42'},\n",
       " {'brand': 'Adidas', 'color': 'black', 'size': '41'},\n",
       " {'brand': 'New Balance', 'color': 'orange', 'size': '40'},\n",
       " {'brand': 'New Balance', 'color': 'black', 'size': '40'},\n",
       " {'brand': 'Nike', 'color': 'white', 'size': '37'},\n",
       " {'brand': 'Adidas', 'color': 'black', 'size': '39'},\n",
       " {'brand': 'Adidas', 'color': 'black', 'size': '40'},\n",
       " {'brand': 'Adidas', 'color': 'orange', 'size': '38'},\n",
       " {'brand': 'New Balance', 'color': 'orange', 'size': '39'},\n",
       " {'brand': 'Nike', 'color': 'black', 'size': '35'},\n",
       " {'brand': 'Adidas', 'color': 'white', 'size': '39'},\n",
       " {'brand': 'Nike', 'color': 'white', 'size': '37'},\n",
       " {'brand': 'Adidas', 'color': 'orange', 'size': '37'},\n",
       " {'brand': 'Adidas', 'color': 'pink', 'size': '35'},\n",
       " {'brand': 'New Balance', 'color': 'orange', 'size': '41'},\n",
       " {'brand': 'Nike', 'color': 'pink', 'size': '44'},\n",
       " {'brand': 'Nike', 'color': 'pink', 'size': '38'},\n",
       " {'brand': 'Adidas', 'color': 'black', 'size': '39'},\n",
       " {'brand': 'New Balance', 'color': 'white', 'size': '35'},\n",
       " {'brand': 'Nike', 'color': 'pink', 'size': '40'},\n",
       " {'brand': 'Nike', 'color': 'white', 'size': '44'},\n",
       " {'brand': 'Nike', 'color': 'orange', 'size': '38'},\n",
       " {'brand': 'Adidas', 'color': 'orange', 'size': '42'},\n",
       " {'brand': 'New Balance', 'color': 'orange', 'size': '43'},\n",
       " {'brand': 'Adidas', 'color': 'pink', 'size': '39'},\n",
       " {'brand': 'Adidas', 'color': 'pink', 'size': '41'},\n",
       " {'brand': 'Adidas', 'color': 'pink', 'size': '39'},\n",
       " {'brand': 'Nike', 'color': 'white', 'size': '37'},\n",
       " {'brand': 'Nike', 'color': 'orange', 'size': '38'},\n",
       " {'brand': 'Adidas', 'color': 'orange', 'size': '39'},\n",
       " {'brand': 'Nike', 'color': 'pink', 'size': '40'},\n",
       " {'brand': 'Adidas', 'color': 'white', 'size': '36'},\n",
       " {'brand': 'Nike', 'color': 'orange', 'size': '40'},\n",
       " {'brand': 'New Balance', 'color': 'pink', 'size': '40'},\n",
       " {'brand': 'New Balance', 'color': 'black', 'size': '40'},\n",
       " {'brand': 'New Balance', 'color': 'pink', 'size': '40'},\n",
       " {'brand': 'Adidas', 'color': 'pink', 'size': '41'},\n",
       " {'brand': 'Nike', 'color': 'pink', 'size': '40'},\n",
       " {'brand': 'Nike', 'color': 'black', 'size': '41'},\n",
       " {'brand': 'Nike', 'color': 'black', 'size': '39'},\n",
       " {'brand': 'New Balance', 'color': 'white', 'size': '38'},\n",
       " {'brand': 'Adidas', 'color': 'black', 'size': '41'},\n",
       " {'brand': 'Nike', 'color': 'orange', 'size': '36'},\n",
       " {'brand': 'Nike', 'color': 'black', 'size': '38'},\n",
       " {'brand': 'New Balance', 'color': 'black', 'size': '40'},\n",
       " {'brand': 'New Balance', 'color': 'pink', 'size': '40'},\n",
       " {'brand': 'Adidas', 'color': 'black', 'size': '42'},\n",
       " {'brand': 'Adidas', 'color': 'white', 'size': '40'},\n",
       " {'brand': 'New Balance', 'color': 'orange', 'size': '38'},\n",
       " {'brand': 'Nike', 'color': 'pink', 'size': '41'},\n",
       " {'brand': 'Adidas', 'color': 'orange', 'size': '37'},\n",
       " {'brand': 'Nike', 'color': 'black', 'size': '44'},\n",
       " {'brand': 'Adidas', 'color': 'pink', 'size': '36'},\n",
       " {'brand': 'Adidas', 'color': 'white', 'size': '35'},\n",
       " {'brand': 'Nike', 'color': 'black', 'size': '38'},\n",
       " {'brand': 'Nike', 'color': 'pink', 'size': '42'},\n",
       " {'brand': 'New Balance', 'color': 'black', 'size': '43'},\n",
       " {'brand': 'Nike', 'color': 'white', 'size': '38'},\n",
       " {'brand': 'New Balance', 'color': 'pink', 'size': '39'},\n",
       " {'brand': 'Nike', 'color': 'orange', 'size': '39'},\n",
       " {'brand': 'New Balance', 'color': 'orange', 'size': '40'},\n",
       " {'brand': 'New Balance', 'color': 'white', 'size': '44'},\n",
       " {'brand': 'Adidas', 'color': 'black', 'size': '42'},\n",
       " {'brand': 'Nike', 'color': 'black', 'size': '35'}]"
      ]
     },
     "execution_count": 74,
     "metadata": {},
     "output_type": "execute_result"
    }
   ],
   "source": [
    "def line_to_dict(s):\n",
    "    fields = s.strip().split('\\t')\n",
    "    \n",
    "    return {'brand':fields[0],\n",
    "           'color':fields[1],\n",
    "           'size':fields[2]}\n",
    "\n",
    "[line_to_dict(one_line)\n",
    " for one_line in open('shoe-data.txt')]"
   ]
  },
  {
   "cell_type": "code",
   "execution_count": 75,
   "id": "611ce291",
   "metadata": {
    "collapsed": true
   },
   "outputs": [
    {
     "data": {
      "text/plain": [
       "[{'brand': 'Adidas', 'color': 'orange', 'size': '43'},\n",
       " {'brand': 'Nike', 'color': 'black', 'size': '41'},\n",
       " {'brand': 'Adidas', 'color': 'black', 'size': '39'},\n",
       " {'brand': 'New Balance', 'color': 'pink', 'size': '41'},\n",
       " {'brand': 'Nike', 'color': 'white', 'size': '44'},\n",
       " {'brand': 'New Balance', 'color': 'orange', 'size': '38'},\n",
       " {'brand': 'Nike', 'color': 'pink', 'size': '44'},\n",
       " {'brand': 'Adidas', 'color': 'pink', 'size': '44'},\n",
       " {'brand': 'New Balance', 'color': 'orange', 'size': '39'},\n",
       " {'brand': 'New Balance', 'color': 'black', 'size': '43'},\n",
       " {'brand': 'New Balance', 'color': 'orange', 'size': '44'},\n",
       " {'brand': 'Nike', 'color': 'black', 'size': '41'},\n",
       " {'brand': 'Adidas', 'color': 'orange', 'size': '37'},\n",
       " {'brand': 'Adidas', 'color': 'black', 'size': '38'},\n",
       " {'brand': 'Adidas', 'color': 'pink', 'size': '41'},\n",
       " {'brand': 'Adidas', 'color': 'white', 'size': '36'},\n",
       " {'brand': 'Adidas', 'color': 'orange', 'size': '36'},\n",
       " {'brand': 'Nike', 'color': 'pink', 'size': '41'},\n",
       " {'brand': 'Adidas', 'color': 'pink', 'size': '35'},\n",
       " {'brand': 'New Balance', 'color': 'orange', 'size': '37'},\n",
       " {'brand': 'Nike', 'color': 'pink', 'size': '43'},\n",
       " {'brand': 'Nike', 'color': 'black', 'size': '43'},\n",
       " {'brand': 'Nike', 'color': 'black', 'size': '42'},\n",
       " {'brand': 'Nike', 'color': 'black', 'size': '35'},\n",
       " {'brand': 'Adidas', 'color': 'black', 'size': '41'},\n",
       " {'brand': 'New Balance', 'color': 'pink', 'size': '40'},\n",
       " {'brand': 'Adidas', 'color': 'white', 'size': '35'},\n",
       " {'brand': 'New Balance', 'color': 'pink', 'size': '41'},\n",
       " {'brand': 'New Balance', 'color': 'orange', 'size': '41'},\n",
       " {'brand': 'Adidas', 'color': 'orange', 'size': '40'},\n",
       " {'brand': 'New Balance', 'color': 'orange', 'size': '40'},\n",
       " {'brand': 'New Balance', 'color': 'white', 'size': '44'},\n",
       " {'brand': 'New Balance', 'color': 'pink', 'size': '40'},\n",
       " {'brand': 'Nike', 'color': 'black', 'size': '43'},\n",
       " {'brand': 'Nike', 'color': 'pink', 'size': '36'},\n",
       " {'brand': 'New Balance', 'color': 'white', 'size': '39'},\n",
       " {'brand': 'Nike', 'color': 'black', 'size': '42'},\n",
       " {'brand': 'Adidas', 'color': 'black', 'size': '41'},\n",
       " {'brand': 'New Balance', 'color': 'orange', 'size': '40'},\n",
       " {'brand': 'New Balance', 'color': 'black', 'size': '40'},\n",
       " {'brand': 'Nike', 'color': 'white', 'size': '37'},\n",
       " {'brand': 'Adidas', 'color': 'black', 'size': '39'},\n",
       " {'brand': 'Adidas', 'color': 'black', 'size': '40'},\n",
       " {'brand': 'Adidas', 'color': 'orange', 'size': '38'},\n",
       " {'brand': 'New Balance', 'color': 'orange', 'size': '39'},\n",
       " {'brand': 'Nike', 'color': 'black', 'size': '35'},\n",
       " {'brand': 'Adidas', 'color': 'white', 'size': '39'},\n",
       " {'brand': 'Nike', 'color': 'white', 'size': '37'},\n",
       " {'brand': 'Adidas', 'color': 'orange', 'size': '37'},\n",
       " {'brand': 'Adidas', 'color': 'pink', 'size': '35'},\n",
       " {'brand': 'New Balance', 'color': 'orange', 'size': '41'},\n",
       " {'brand': 'Nike', 'color': 'pink', 'size': '44'},\n",
       " {'brand': 'Nike', 'color': 'pink', 'size': '38'},\n",
       " {'brand': 'Adidas', 'color': 'black', 'size': '39'},\n",
       " {'brand': 'New Balance', 'color': 'white', 'size': '35'},\n",
       " {'brand': 'Nike', 'color': 'pink', 'size': '40'},\n",
       " {'brand': 'Nike', 'color': 'white', 'size': '44'},\n",
       " {'brand': 'Nike', 'color': 'orange', 'size': '38'},\n",
       " {'brand': 'Adidas', 'color': 'orange', 'size': '42'},\n",
       " {'brand': 'New Balance', 'color': 'orange', 'size': '43'},\n",
       " {'brand': 'Adidas', 'color': 'pink', 'size': '39'},\n",
       " {'brand': 'Adidas', 'color': 'pink', 'size': '41'},\n",
       " {'brand': 'Adidas', 'color': 'pink', 'size': '39'},\n",
       " {'brand': 'Nike', 'color': 'white', 'size': '37'},\n",
       " {'brand': 'Nike', 'color': 'orange', 'size': '38'},\n",
       " {'brand': 'Adidas', 'color': 'orange', 'size': '39'},\n",
       " {'brand': 'Nike', 'color': 'pink', 'size': '40'},\n",
       " {'brand': 'Adidas', 'color': 'white', 'size': '36'},\n",
       " {'brand': 'Nike', 'color': 'orange', 'size': '40'},\n",
       " {'brand': 'New Balance', 'color': 'pink', 'size': '40'},\n",
       " {'brand': 'New Balance', 'color': 'black', 'size': '40'},\n",
       " {'brand': 'New Balance', 'color': 'pink', 'size': '40'},\n",
       " {'brand': 'Adidas', 'color': 'pink', 'size': '41'},\n",
       " {'brand': 'Nike', 'color': 'pink', 'size': '40'},\n",
       " {'brand': 'Nike', 'color': 'black', 'size': '41'},\n",
       " {'brand': 'Nike', 'color': 'black', 'size': '39'},\n",
       " {'brand': 'New Balance', 'color': 'white', 'size': '38'},\n",
       " {'brand': 'Adidas', 'color': 'black', 'size': '41'},\n",
       " {'brand': 'Nike', 'color': 'orange', 'size': '36'},\n",
       " {'brand': 'Nike', 'color': 'black', 'size': '38'},\n",
       " {'brand': 'New Balance', 'color': 'black', 'size': '40'},\n",
       " {'brand': 'New Balance', 'color': 'pink', 'size': '40'},\n",
       " {'brand': 'Adidas', 'color': 'black', 'size': '42'},\n",
       " {'brand': 'Adidas', 'color': 'white', 'size': '40'},\n",
       " {'brand': 'New Balance', 'color': 'orange', 'size': '38'},\n",
       " {'brand': 'Nike', 'color': 'pink', 'size': '41'},\n",
       " {'brand': 'Adidas', 'color': 'orange', 'size': '37'},\n",
       " {'brand': 'Nike', 'color': 'black', 'size': '44'},\n",
       " {'brand': 'Adidas', 'color': 'pink', 'size': '36'},\n",
       " {'brand': 'Adidas', 'color': 'white', 'size': '35'},\n",
       " {'brand': 'Nike', 'color': 'black', 'size': '38'},\n",
       " {'brand': 'Nike', 'color': 'pink', 'size': '42'},\n",
       " {'brand': 'New Balance', 'color': 'black', 'size': '43'},\n",
       " {'brand': 'Nike', 'color': 'white', 'size': '38'},\n",
       " {'brand': 'New Balance', 'color': 'pink', 'size': '39'},\n",
       " {'brand': 'Nike', 'color': 'orange', 'size': '39'},\n",
       " {'brand': 'New Balance', 'color': 'orange', 'size': '40'},\n",
       " {'brand': 'New Balance', 'color': 'white', 'size': '44'},\n",
       " {'brand': 'Adidas', 'color': 'black', 'size': '42'},\n",
       " {'brand': 'Nike', 'color': 'black', 'size': '35'}]"
      ]
     },
     "execution_count": 75,
     "metadata": {},
     "output_type": "execute_result"
    }
   ],
   "source": [
    "def line_to_dict(s):\n",
    "    brand, color, size = s.strip().split('\\t')   # unpacking!\n",
    "    \n",
    "    return {'brand':brand,\n",
    "           'color':color,\n",
    "           'size':size}\n",
    "\n",
    "[line_to_dict(one_line)\n",
    " for one_line in open('shoe-data.txt')]"
   ]
  },
  {
   "cell_type": "code",
   "execution_count": 76,
   "id": "2905ee5a",
   "metadata": {},
   "outputs": [],
   "source": [
    "# create a dict from a list of 2-element tuples\n",
    "mylist = [('a', 1), ('b', 2), ('c',3)]"
   ]
  },
  {
   "cell_type": "code",
   "execution_count": 77,
   "id": "d3cbb660",
   "metadata": {},
   "outputs": [
    {
     "data": {
      "text/plain": [
       "{'a': 1, 'b': 2, 'c': 3}"
      ]
     },
     "execution_count": 77,
     "metadata": {},
     "output_type": "execute_result"
    }
   ],
   "source": [
    "dict(mylist)"
   ]
  },
  {
   "cell_type": "code",
   "execution_count": 78,
   "id": "df20f7bf",
   "metadata": {},
   "outputs": [
    {
     "data": {
      "text/plain": [
       "dict_items([('a', 1), ('b', 2), ('c', 3)])"
      ]
     },
     "execution_count": 78,
     "metadata": {},
     "output_type": "execute_result"
    }
   ],
   "source": [
    "d = dict(mylist)\n",
    "d.items()"
   ]
  },
  {
   "cell_type": "code",
   "execution_count": 79,
   "id": "a934975a",
   "metadata": {},
   "outputs": [
    {
     "data": {
      "text/plain": [
       "<zip at 0x111c1c200>"
      ]
     },
     "execution_count": 79,
     "metadata": {},
     "output_type": "execute_result"
    }
   ],
   "source": [
    "# if I can get my keys and my values into a list (or iterable) or tuples,\n",
    "# then I create the dict\n",
    "\n",
    "# zip takes two iterables and creates a new iterable of tuples -- index 0 is\n",
    "# from index 0 of the two iterables, index 1 from index 1 of them both, etc.\n",
    "\n",
    "zip('abc', [10, 20, 30])"
   ]
  },
  {
   "cell_type": "code",
   "execution_count": 80,
   "id": "a594d818",
   "metadata": {},
   "outputs": [
    {
     "data": {
      "text/plain": [
       "[('a', 10), ('b', 20), ('c', 30)]"
      ]
     },
     "execution_count": 80,
     "metadata": {},
     "output_type": "execute_result"
    }
   ],
   "source": [
    "list(zip('abc', [10, 20, 30]))"
   ]
  },
  {
   "cell_type": "code",
   "execution_count": 81,
   "id": "f846ab44",
   "metadata": {},
   "outputs": [
    {
     "data": {
      "text/plain": [
       "{'a': 10, 'b': 20, 'c': 30}"
      ]
     },
     "execution_count": 81,
     "metadata": {},
     "output_type": "execute_result"
    }
   ],
   "source": [
    "dict(zip('abc', [10, 20, 30]))"
   ]
  },
  {
   "cell_type": "code",
   "execution_count": 82,
   "id": "aa3f1124",
   "metadata": {},
   "outputs": [
    {
     "data": {
      "text/plain": [
       "[{'brand': 'Adidas', 'color': 'orange', 'size': '43'},\n",
       " {'brand': 'Nike', 'color': 'black', 'size': '41'},\n",
       " {'brand': 'Adidas', 'color': 'black', 'size': '39'},\n",
       " {'brand': 'New Balance', 'color': 'pink', 'size': '41'},\n",
       " {'brand': 'Nike', 'color': 'white', 'size': '44'},\n",
       " {'brand': 'New Balance', 'color': 'orange', 'size': '38'},\n",
       " {'brand': 'Nike', 'color': 'pink', 'size': '44'},\n",
       " {'brand': 'Adidas', 'color': 'pink', 'size': '44'},\n",
       " {'brand': 'New Balance', 'color': 'orange', 'size': '39'},\n",
       " {'brand': 'New Balance', 'color': 'black', 'size': '43'},\n",
       " {'brand': 'New Balance', 'color': 'orange', 'size': '44'},\n",
       " {'brand': 'Nike', 'color': 'black', 'size': '41'},\n",
       " {'brand': 'Adidas', 'color': 'orange', 'size': '37'},\n",
       " {'brand': 'Adidas', 'color': 'black', 'size': '38'},\n",
       " {'brand': 'Adidas', 'color': 'pink', 'size': '41'},\n",
       " {'brand': 'Adidas', 'color': 'white', 'size': '36'},\n",
       " {'brand': 'Adidas', 'color': 'orange', 'size': '36'},\n",
       " {'brand': 'Nike', 'color': 'pink', 'size': '41'},\n",
       " {'brand': 'Adidas', 'color': 'pink', 'size': '35'},\n",
       " {'brand': 'New Balance', 'color': 'orange', 'size': '37'},\n",
       " {'brand': 'Nike', 'color': 'pink', 'size': '43'},\n",
       " {'brand': 'Nike', 'color': 'black', 'size': '43'},\n",
       " {'brand': 'Nike', 'color': 'black', 'size': '42'},\n",
       " {'brand': 'Nike', 'color': 'black', 'size': '35'},\n",
       " {'brand': 'Adidas', 'color': 'black', 'size': '41'},\n",
       " {'brand': 'New Balance', 'color': 'pink', 'size': '40'},\n",
       " {'brand': 'Adidas', 'color': 'white', 'size': '35'},\n",
       " {'brand': 'New Balance', 'color': 'pink', 'size': '41'},\n",
       " {'brand': 'New Balance', 'color': 'orange', 'size': '41'},\n",
       " {'brand': 'Adidas', 'color': 'orange', 'size': '40'},\n",
       " {'brand': 'New Balance', 'color': 'orange', 'size': '40'},\n",
       " {'brand': 'New Balance', 'color': 'white', 'size': '44'},\n",
       " {'brand': 'New Balance', 'color': 'pink', 'size': '40'},\n",
       " {'brand': 'Nike', 'color': 'black', 'size': '43'},\n",
       " {'brand': 'Nike', 'color': 'pink', 'size': '36'},\n",
       " {'brand': 'New Balance', 'color': 'white', 'size': '39'},\n",
       " {'brand': 'Nike', 'color': 'black', 'size': '42'},\n",
       " {'brand': 'Adidas', 'color': 'black', 'size': '41'},\n",
       " {'brand': 'New Balance', 'color': 'orange', 'size': '40'},\n",
       " {'brand': 'New Balance', 'color': 'black', 'size': '40'},\n",
       " {'brand': 'Nike', 'color': 'white', 'size': '37'},\n",
       " {'brand': 'Adidas', 'color': 'black', 'size': '39'},\n",
       " {'brand': 'Adidas', 'color': 'black', 'size': '40'},\n",
       " {'brand': 'Adidas', 'color': 'orange', 'size': '38'},\n",
       " {'brand': 'New Balance', 'color': 'orange', 'size': '39'},\n",
       " {'brand': 'Nike', 'color': 'black', 'size': '35'},\n",
       " {'brand': 'Adidas', 'color': 'white', 'size': '39'},\n",
       " {'brand': 'Nike', 'color': 'white', 'size': '37'},\n",
       " {'brand': 'Adidas', 'color': 'orange', 'size': '37'},\n",
       " {'brand': 'Adidas', 'color': 'pink', 'size': '35'},\n",
       " {'brand': 'New Balance', 'color': 'orange', 'size': '41'},\n",
       " {'brand': 'Nike', 'color': 'pink', 'size': '44'},\n",
       " {'brand': 'Nike', 'color': 'pink', 'size': '38'},\n",
       " {'brand': 'Adidas', 'color': 'black', 'size': '39'},\n",
       " {'brand': 'New Balance', 'color': 'white', 'size': '35'},\n",
       " {'brand': 'Nike', 'color': 'pink', 'size': '40'},\n",
       " {'brand': 'Nike', 'color': 'white', 'size': '44'},\n",
       " {'brand': 'Nike', 'color': 'orange', 'size': '38'},\n",
       " {'brand': 'Adidas', 'color': 'orange', 'size': '42'},\n",
       " {'brand': 'New Balance', 'color': 'orange', 'size': '43'},\n",
       " {'brand': 'Adidas', 'color': 'pink', 'size': '39'},\n",
       " {'brand': 'Adidas', 'color': 'pink', 'size': '41'},\n",
       " {'brand': 'Adidas', 'color': 'pink', 'size': '39'},\n",
       " {'brand': 'Nike', 'color': 'white', 'size': '37'},\n",
       " {'brand': 'Nike', 'color': 'orange', 'size': '38'},\n",
       " {'brand': 'Adidas', 'color': 'orange', 'size': '39'},\n",
       " {'brand': 'Nike', 'color': 'pink', 'size': '40'},\n",
       " {'brand': 'Adidas', 'color': 'white', 'size': '36'},\n",
       " {'brand': 'Nike', 'color': 'orange', 'size': '40'},\n",
       " {'brand': 'New Balance', 'color': 'pink', 'size': '40'},\n",
       " {'brand': 'New Balance', 'color': 'black', 'size': '40'},\n",
       " {'brand': 'New Balance', 'color': 'pink', 'size': '40'},\n",
       " {'brand': 'Adidas', 'color': 'pink', 'size': '41'},\n",
       " {'brand': 'Nike', 'color': 'pink', 'size': '40'},\n",
       " {'brand': 'Nike', 'color': 'black', 'size': '41'},\n",
       " {'brand': 'Nike', 'color': 'black', 'size': '39'},\n",
       " {'brand': 'New Balance', 'color': 'white', 'size': '38'},\n",
       " {'brand': 'Adidas', 'color': 'black', 'size': '41'},\n",
       " {'brand': 'Nike', 'color': 'orange', 'size': '36'},\n",
       " {'brand': 'Nike', 'color': 'black', 'size': '38'},\n",
       " {'brand': 'New Balance', 'color': 'black', 'size': '40'},\n",
       " {'brand': 'New Balance', 'color': 'pink', 'size': '40'},\n",
       " {'brand': 'Adidas', 'color': 'black', 'size': '42'},\n",
       " {'brand': 'Adidas', 'color': 'white', 'size': '40'},\n",
       " {'brand': 'New Balance', 'color': 'orange', 'size': '38'},\n",
       " {'brand': 'Nike', 'color': 'pink', 'size': '41'},\n",
       " {'brand': 'Adidas', 'color': 'orange', 'size': '37'},\n",
       " {'brand': 'Nike', 'color': 'black', 'size': '44'},\n",
       " {'brand': 'Adidas', 'color': 'pink', 'size': '36'},\n",
       " {'brand': 'Adidas', 'color': 'white', 'size': '35'},\n",
       " {'brand': 'Nike', 'color': 'black', 'size': '38'},\n",
       " {'brand': 'Nike', 'color': 'pink', 'size': '42'},\n",
       " {'brand': 'New Balance', 'color': 'black', 'size': '43'},\n",
       " {'brand': 'Nike', 'color': 'white', 'size': '38'},\n",
       " {'brand': 'New Balance', 'color': 'pink', 'size': '39'},\n",
       " {'brand': 'Nike', 'color': 'orange', 'size': '39'},\n",
       " {'brand': 'New Balance', 'color': 'orange', 'size': '40'},\n",
       " {'brand': 'New Balance', 'color': 'white', 'size': '44'},\n",
       " {'brand': 'Adidas', 'color': 'black', 'size': '42'},\n",
       " {'brand': 'Nike', 'color': 'black', 'size': '35'}]"
      ]
     },
     "execution_count": 82,
     "metadata": {},
     "output_type": "execute_result"
    }
   ],
   "source": [
    "fields = ['brand', 'color', 'size']\n",
    "\n",
    "def line_to_dict(s):\n",
    "    return dict(zip(fields,\n",
    "                    s.strip().split('\\t')))\n",
    "\n",
    "[line_to_dict(one_line)\n",
    " for one_line in open('shoe-data.txt')]"
   ]
  },
  {
   "cell_type": "markdown",
   "id": "6d3b6c81",
   "metadata": {},
   "source": [
    "# Next up\n",
    "\n",
    "- Set comprehensions!\n",
    "- Dict comprehensions!\n",
    "- Nested comprehensions!\n",
    "\n",
    "Resume at :20"
   ]
  },
  {
   "cell_type": "code",
   "execution_count": 84,
   "id": "ad85c10c",
   "metadata": {},
   "outputs": [
    {
     "name": "stdout",
     "output_type": "stream",
     "text": [
      "# This is a comment\r\n",
      "# You should ignore me\r\n",
      "root:x:0:0:root:/root:/bin/bash\r\n",
      "daemon:x:1:1:daemon:/usr/sbin:/usr/sbin/nologin\r\n",
      "bin:x:2:2:bin:/bin:/usr/sbin/nologin\r\n",
      "sys:x:3:3:sys:/dev:/usr/sbin/nologin\r\n",
      "sync:x:4:65534:sync:/bin:/bin/sync\r\n",
      "games:x:5:60:games:/usr/games:/usr/sbin/nologin\r\n",
      "man:x:6:12:man:/var/cache/man:/usr/sbin/nologin\r\n",
      "lp:x:7:7:lp:/var/spool/lpd:/usr/sbin/nologin\r\n",
      "mail:x:8:8:mail:/var/mail:/usr/sbin/nologin\r\n",
      "\r\n",
      "\r\n",
      "\r\n",
      "news:x:9:9:news:/var/spool/news:/usr/sbin/nologin\r\n",
      "uucp:x:10:10:uucp:/var/spool/uucp:/usr/sbin/nologin\r\n",
      "proxy:x:13:13:proxy:/bin:/usr/sbin/nologin\r\n",
      "www-data:x:33:33:www-data:/var/www:/usr/sbin/nologin\r\n",
      "backup:x:34:34:backup:/var/backups:/usr/sbin/nologin\r\n",
      "list:x:38:38:Mailing List Manager:/var/list:/usr/sbin/nologin\r\n"
     ]
    }
   ],
   "source": [
    "!head -20 linux-etc-passwd.txt"
   ]
  },
  {
   "cell_type": "code",
   "execution_count": 86,
   "id": "15b369af",
   "metadata": {
    "collapsed": true
   },
   "outputs": [
    {
     "data": {
      "text/plain": [
       "['root:x:0:0:root:/root:/bin/bash\\n',\n",
       " 'daemon:x:1:1:daemon:/usr/sbin:/usr/sbin/nologin\\n',\n",
       " 'bin:x:2:2:bin:/bin:/usr/sbin/nologin\\n',\n",
       " 'sys:x:3:3:sys:/dev:/usr/sbin/nologin\\n',\n",
       " 'sync:x:4:65534:sync:/bin:/bin/sync\\n',\n",
       " 'games:x:5:60:games:/usr/games:/usr/sbin/nologin\\n',\n",
       " 'man:x:6:12:man:/var/cache/man:/usr/sbin/nologin\\n',\n",
       " 'lp:x:7:7:lp:/var/spool/lpd:/usr/sbin/nologin\\n',\n",
       " 'mail:x:8:8:mail:/var/mail:/usr/sbin/nologin\\n',\n",
       " 'news:x:9:9:news:/var/spool/news:/usr/sbin/nologin\\n',\n",
       " 'uucp:x:10:10:uucp:/var/spool/uucp:/usr/sbin/nologin\\n',\n",
       " 'proxy:x:13:13:proxy:/bin:/usr/sbin/nologin\\n',\n",
       " 'www-data:x:33:33:www-data:/var/www:/usr/sbin/nologin\\n',\n",
       " 'backup:x:34:34:backup:/var/backups:/usr/sbin/nologin\\n',\n",
       " 'list:x:38:38:Mailing List Manager:/var/list:/usr/sbin/nologin\\n',\n",
       " 'irc:x:39:39:ircd:/var/run/ircd:/usr/sbin/nologin\\n',\n",
       " 'gnats:x:41:41:Gnats Bug-Reporting System (admin):/var/lib/gnats:/usr/sbin/nologin\\n',\n",
       " 'nobody:x:65534:65534:nobody:/nonexistent:/usr/sbin/nologin\\n',\n",
       " 'syslog:x:101:104::/home/syslog:/bin/false\\n',\n",
       " 'messagebus:x:102:106::/var/run/dbus:/bin/false\\n',\n",
       " 'landscape:x:103:109::/var/lib/landscape:/bin/false\\n',\n",
       " 'jci:x:955:955::/home/jci:/bin/bash\\n',\n",
       " 'sshd:x:104:65534::/var/run/sshd:/usr/sbin/nologin\\n',\n",
       " 'user:x:1000:1000:user,,,:/home/user:/bin/bash\\n',\n",
       " 'reuven:x:1001:1001:Reuven M. Lerner,,,:/home/reuven:/bin/bash\\n',\n",
       " 'postfix:x:105:113::/var/spool/postfix:/bin/false\\n',\n",
       " 'colord:x:106:116:colord colour management daemon,,,:/var/lib/colord:/bin/false\\n',\n",
       " 'postgres:x:107:117:PostgreSQL administrator,,,:/var/lib/postgresql:/bin/bash\\n',\n",
       " 'dovecot:x:108:119:Dovecot mail server,,,:/usr/lib/dovecot:/bin/false\\n',\n",
       " 'dovenull:x:109:120:Dovecot login user,,,:/nonexistent:/bin/false\\n',\n",
       " 'postgrey:x:110:121::/var/lib/postgrey:/bin/false\\n',\n",
       " 'debian-spamd:x:111:122::/var/lib/spamassassin:/bin/sh\\n',\n",
       " 'memcache:x:113:124:Memcached,,,:/nonexistent:/bin/false\\n',\n",
       " 'genadi:x:1002:1003:Genadi Reznichenko,,,:/home/genadi:/bin/bash\\n',\n",
       " 'shira:x:1003:1004:Shira Friedman,,,:/home/shira:/bin/bash\\n',\n",
       " 'atara:x:1004:1005:Atara Lerner-Friedman,,,:/home/atara:/bin/bash\\n',\n",
       " 'shikma:x:1005:1006:Shikma Lerner-Friedman,,,:/home/shikma:/bin/bash\\n',\n",
       " 'amotz:x:1006:1007:Amotz Lerner-Friedman,,,:/home/amotz:/bin/bash\\n',\n",
       " 'mysql:x:114:125:MySQL Server,,,:/nonexistent:/bin/false\\n',\n",
       " 'clamav:x:115:126::/var/lib/clamav:/bin/false\\n',\n",
       " 'amavis:x:116:127:AMaViS system user,,,:/var/lib/amavis:/bin/sh\\n',\n",
       " 'opendkim:x:117:128::/var/run/opendkim:/bin/false\\n',\n",
       " 'gitlab-redis:x:999:1009::/var/opt/gitlab/redis:/bin/nologin\\n',\n",
       " 'gitlab-psql:x:998:1010::/var/opt/gitlab/postgresql:/bin/sh\\n',\n",
       " 'git:x:1007:1008:GitLab,,,:/home/git:/bin/bash\\n',\n",
       " 'opendmarc:x:118:129::/var/run/opendmarc:/bin/false\\n',\n",
       " 'dkim-milter-python:x:119:130::/var/run/dkim-milter-python:/bin/false\\n',\n",
       " 'deploy:x:1008:1011:Deploy,,,:/home/deploy:/bin/bash\\n',\n",
       " 'redis:x:112:123:redis server,,,:/var/lib/redis:/bin/false\\n']"
      ]
     },
     "execution_count": 86,
     "metadata": {},
     "output_type": "execute_result"
    }
   ],
   "source": [
    "# I want to get the login shell for each user on the system\n",
    "\n",
    "[one_line\n",
    " for one_line in open('linux-etc-passwd.txt')\n",
    " if not one_line.startswith('#') and not one_line.startswith('\\n')]"
   ]
  },
  {
   "cell_type": "code",
   "execution_count": null,
   "id": "981faec0",
   "metadata": {},
   "outputs": [],
   "source": [
    "# multiple \"if\" lines\n",
    "\n",
    "[one_line\n",
    " for one_line in open('linux-etc-passwd.txt')\n",
    " if not one_line.startswith('#')     # you can have more than one \"if\" line .. they are \"and\"ed together\n",
    " if not one_line.startswith('\\n')]"
   ]
  },
  {
   "cell_type": "code",
   "execution_count": null,
   "id": "235fc569",
   "metadata": {},
   "outputs": [],
   "source": [
    "# str.startswith takes a string argument\n",
    "# *OR* a tuple of strings!\n",
    "\n",
    "[one_line\n",
    " for one_line in open('linux-etc-passwd.txt')\n",
    " if not one_line.startswith(('#', '\\n'))]   # this means: not starting with either # or \\n"
   ]
  },
  {
   "cell_type": "code",
   "execution_count": 90,
   "id": "69456fbd",
   "metadata": {
    "collapsed": true
   },
   "outputs": [
    {
     "data": {
      "text/plain": [
       "['/bin/bash',\n",
       " '/usr/sbin/nologin',\n",
       " '/usr/sbin/nologin',\n",
       " '/usr/sbin/nologin',\n",
       " '/bin/sync',\n",
       " '/usr/sbin/nologin',\n",
       " '/usr/sbin/nologin',\n",
       " '/usr/sbin/nologin',\n",
       " '/usr/sbin/nologin',\n",
       " '/usr/sbin/nologin',\n",
       " '/usr/sbin/nologin',\n",
       " '/usr/sbin/nologin',\n",
       " '/usr/sbin/nologin',\n",
       " '/usr/sbin/nologin',\n",
       " '/usr/sbin/nologin',\n",
       " '/usr/sbin/nologin',\n",
       " '/usr/sbin/nologin',\n",
       " '/usr/sbin/nologin',\n",
       " '/bin/false',\n",
       " '/bin/false',\n",
       " '/bin/false',\n",
       " '/bin/bash',\n",
       " '/usr/sbin/nologin',\n",
       " '/bin/bash',\n",
       " '/bin/bash',\n",
       " '/bin/false',\n",
       " '/bin/false',\n",
       " '/bin/bash',\n",
       " '/bin/false',\n",
       " '/bin/false',\n",
       " '/bin/false',\n",
       " '/bin/sh',\n",
       " '/bin/false',\n",
       " '/bin/bash',\n",
       " '/bin/bash',\n",
       " '/bin/bash',\n",
       " '/bin/bash',\n",
       " '/bin/bash',\n",
       " '/bin/false',\n",
       " '/bin/false',\n",
       " '/bin/sh',\n",
       " '/bin/false',\n",
       " '/bin/nologin',\n",
       " '/bin/sh',\n",
       " '/bin/bash',\n",
       " '/bin/false',\n",
       " '/bin/false',\n",
       " '/bin/bash',\n",
       " '/bin/false']"
      ]
     },
     "execution_count": 90,
     "metadata": {},
     "output_type": "execute_result"
    }
   ],
   "source": [
    "# we now have a list of login shells on the system\n",
    "[one_line.split(':')[-1].strip()\n",
    " for one_line in open('linux-etc-passwd.txt')\n",
    " if not one_line.startswith(('#', '\\n'))]"
   ]
  },
  {
   "cell_type": "code",
   "execution_count": 91,
   "id": "9eee412c",
   "metadata": {},
   "outputs": [
    {
     "data": {
      "text/plain": [
       "Counter({'/bin/bash': 12,\n",
       "         '/usr/sbin/nologin': 17,\n",
       "         '/bin/sync': 1,\n",
       "         '/bin/false': 15,\n",
       "         '/bin/sh': 3,\n",
       "         '/bin/nologin': 1})"
      ]
     },
     "execution_count": 91,
     "metadata": {},
     "output_type": "execute_result"
    }
   ],
   "source": [
    "# how many times does each login shell appear in this list?\n",
    "\n",
    "from collections import Counter\n",
    "c = Counter([one_line.split(':')[-1].strip()\n",
    "         for one_line in open('linux-etc-passwd.txt')\n",
    "         if not one_line.startswith(('#', '\\n'))])\n",
    "\n",
    "c"
   ]
  },
  {
   "cell_type": "code",
   "execution_count": 93,
   "id": "043274e8",
   "metadata": {},
   "outputs": [
    {
     "data": {
      "text/plain": [
       "[('/usr/sbin/nologin', 17),\n",
       " ('/bin/false', 15),\n",
       " ('/bin/bash', 12),\n",
       " ('/bin/sh', 3),\n",
       " ('/bin/sync', 1),\n",
       " ('/bin/nologin', 1)]"
      ]
     },
     "execution_count": 93,
     "metadata": {},
     "output_type": "execute_result"
    }
   ],
   "source": [
    "c.most_common() # returns a list of tuples, sorted from most common to least common"
   ]
  },
  {
   "cell_type": "code",
   "execution_count": 94,
   "id": "cef95b09",
   "metadata": {},
   "outputs": [
    {
     "data": {
      "text/plain": [
       "[('/usr/sbin/nologin', 17), ('/bin/false', 15), ('/bin/bash', 12)]"
      ]
     },
     "execution_count": 94,
     "metadata": {},
     "output_type": "execute_result"
    }
   ],
   "source": [
    "c.most_common(3)   # find the 3 most common items"
   ]
  },
  {
   "cell_type": "code",
   "execution_count": 97,
   "id": "c806805b",
   "metadata": {},
   "outputs": [
    {
     "name": "stdout",
     "output_type": "stream",
     "text": [
      "Enter numbers: 10 20 30 10 20 30\n"
     ]
    },
    {
     "data": {
      "text/plain": [
       "120"
      ]
     },
     "execution_count": 97,
     "metadata": {},
     "output_type": "execute_result"
    }
   ],
   "source": [
    "# let's get integers from the user and sum them!\n",
    "\n",
    "s = input('Enter numbers: ').strip()\n",
    "\n",
    "sum([int(one_number)\n",
    "    for one_number in s.split()])"
   ]
  },
  {
   "cell_type": "code",
   "execution_count": 99,
   "id": "6782447a",
   "metadata": {},
   "outputs": [
    {
     "name": "stdout",
     "output_type": "stream",
     "text": [
      "Enter numbers: 10 20 30 10 20 30 10 20 30\n"
     ]
    },
    {
     "data": {
      "text/plain": [
       "60"
      ]
     },
     "execution_count": 99,
     "metadata": {},
     "output_type": "execute_result"
    }
   ],
   "source": [
    "# let's get integers from the user and sum the *DIFFERENT* or *UNIQUE* numbers we got\n",
    "\n",
    "# sets are like the keys from a dict -- \n",
    "# (1) guaranteed to be unique\n",
    "# (2) all must be hashable\n",
    "\n",
    "# I can create a set from a list by invoking set() on the list\n",
    "\n",
    "s = input('Enter numbers: ').strip()\n",
    "\n",
    "sum(set([int(one_number)\n",
    "        for one_number in s.split()]))"
   ]
  },
  {
   "cell_type": "code",
   "execution_count": 101,
   "id": "59673b26",
   "metadata": {},
   "outputs": [
    {
     "name": "stdout",
     "output_type": "stream",
     "text": [
      "10 20 30 10 20 30 10 20 30\n"
     ]
    },
    {
     "data": {
      "text/plain": [
       "60"
      ]
     },
     "execution_count": 101,
     "metadata": {},
     "output_type": "execute_result"
    }
   ],
   "source": [
    "# why work so hard?  We can use a *set* comprehension\n",
    "# this looks and works just like a list comprehension\n",
    "# *but* it returns a set\n",
    "\n",
    "# perfect when you're asked to find the different values in a file, or other input\n",
    "\n",
    "# set comprehension: just like a list comprehension, but it uses {}\n",
    "\n",
    "print(s)\n",
    "sum({int(one_number)\n",
    "        for one_number in s.split()})"
   ]
  },
  {
   "cell_type": "code",
   "execution_count": 106,
   "id": "0a25b72f",
   "metadata": {},
   "outputs": [
    {
     "data": {
      "text/plain": [
       "{'/bin/bash',\n",
       " '/bin/false',\n",
       " '/bin/nologin',\n",
       " '/bin/sh',\n",
       " '/bin/sync',\n",
       " '/usr/sbin/nologin'}"
      ]
     },
     "execution_count": 106,
     "metadata": {},
     "output_type": "execute_result"
    }
   ],
   "source": [
    "# because sets may only contain hashable values, we cannot pass lists to them\n",
    "\n",
    "# I want to find the unique/different shells in linux-etc-passwd.txt\n",
    "\n",
    "{one_line.split(':')[-1].strip()                 # map\n",
    "for one_line in open('linux-etc-passwd.txt')\n",
    "if not one_line.startswith(('\\n', '#'))}         # filter"
   ]
  },
  {
   "cell_type": "markdown",
   "id": "9d45103a",
   "metadata": {},
   "source": [
    "# Exercises\n",
    "\n",
    "1. Count how many times each IP address is mentioned in `mini-access-log.txt` (which is an old Apache httpd logfile).  Which were the 5 most common addresses there?\n",
    "2. Create a set from those addresses."
   ]
  },
  {
   "cell_type": "code",
   "execution_count": 107,
   "id": "c1c81185",
   "metadata": {},
   "outputs": [
    {
     "name": "stdout",
     "output_type": "stream",
     "text": [
      "config.txt\t      mini-access-log.txt  output.txt\r\n",
      "linux-etc-passwd.txt  nums.txt\t\t   shoe-data.txt\r\n"
     ]
    }
   ],
   "source": []
  },
  {
   "cell_type": "code",
   "execution_count": 108,
   "id": "5742673a",
   "metadata": {},
   "outputs": [
    {
     "name": "stdout",
     "output_type": "stream",
     "text": [
      "67.218.116.165 - - [30/Jan/2010:00:03:18 +0200] \"GET /robots.txt HTTP/1.0\" 200 99 \"-\" \"Mozilla/5.0 (Twiceler-0.9 http://www.cuil.com/twiceler/robot.html)\"\r\n",
      "66.249.71.65 - - [30/Jan/2010:00:12:06 +0200] \"GET /browse/one_node/1557 HTTP/1.1\" 200 39208 \"-\" \"Mozilla/5.0 (compatible; Googlebot/2.1; +http://www.google.com/bot.html)\"\r\n",
      "65.55.106.183 - - [30/Jan/2010:01:29:23 +0200] \"GET /robots.txt HTTP/1.1\" 200 99 \"-\" \"msnbot/2.0b (+http://search.msn.com/msnbot.htm)\"\r\n",
      "65.55.106.183 - - [30/Jan/2010:01:30:06 +0200] \"GET /browse/one_model/2162 HTTP/1.1\" 200 2181 \"-\" \"msnbot/2.0b (+http://search.msn.com/msnbot.htm)\"\r\n",
      "66.249.71.65 - - [30/Jan/2010:02:07:14 +0200] \"GET /browse/browse_applet_tab/2593 HTTP/1.1\" 200 10305 \"-\" \"Mozilla/5.0 (compatible; Googlebot/2.1; +http://www.google.com/bot.html)\"\r\n",
      "66.249.71.65 - - [30/Jan/2010:02:10:39 +0200] \"GET /browse/browse_files_tab/2499?tab=true HTTP/1.1\" 200 446 \"-\" \"Mozilla/5.0 (compatible; Googlebot/2.1; +http://www.google.com/bot.html)\"\r\n",
      "66.249.65.12 - - [30/Jan/2010:03:13:34 +0200] \"GET /robots.txt HTTP/1.1\" 200 99 \"-\" \"Mozilla/5.0 (compatible; Googlebot/2.1; +http://www.google.com/bot.html)\"\r\n",
      "66.249.65.12 - - [30/Jan/2010:03:13:34 +0200] \"GET /browse/one_node/2715 HTTP/1.1\" 200 26433 \"-\" \"Mozilla/5.0 (compatible; Googlebot/2.1; +http://www.google.com/bot.html)\"\r\n",
      "66.249.65.12 - - [30/Jan/2010:03:43:39 +0200] \"GET /browse/download_model/1969 HTTP/1.1\" 200 31713 \"-\" \"Mozilla/5.0 (compatible; Googlebot/2.1; +http://www.google.com/bot.html)\"\r\n",
      "66.249.65.12 - - [30/Jan/2010:04:05:43 +0200] \"GET /browse/one_node/1406 HTTP/1.1\" 302 118 \"-\" \"Mozilla/5.0 (compatible; Googlebot/2.1; +http://www.google.com/bot.html)\"\r\n"
     ]
    }
   ],
   "source": [
    "!head mini-access-log.txt"
   ]
  },
  {
   "cell_type": "code",
   "execution_count": 111,
   "id": "8f191313",
   "metadata": {},
   "outputs": [
    {
     "data": {
      "text/plain": [
       "Counter({'67.218.116.165': 2,\n",
       "         '66.249.71.65': 3,\n",
       "         '65.55.106.183': 2,\n",
       "         '66.249.65.12': 32,\n",
       "         '65.55.106.131': 2,\n",
       "         '65.55.106.186': 2,\n",
       "         '74.52.245.146': 2,\n",
       "         '66.249.65.43': 3,\n",
       "         '65.55.207.25': 2,\n",
       "         '65.55.207.94': 2,\n",
       "         '65.55.207.71': 1,\n",
       "         '98.242.170.241': 1,\n",
       "         '66.249.65.38': 100,\n",
       "         '65.55.207.126': 2,\n",
       "         '82.34.9.20': 2,\n",
       "         '65.55.106.155': 2,\n",
       "         '65.55.207.77': 2,\n",
       "         '208.80.193.28': 1,\n",
       "         '89.248.172.58': 22,\n",
       "         '67.195.112.35': 16,\n",
       "         '65.55.207.50': 3,\n",
       "         '65.55.215.75': 2})"
      ]
     },
     "execution_count": 111,
     "metadata": {},
     "output_type": "execute_result"
    }
   ],
   "source": [
    "from collections import Counter\n",
    "\n",
    "c = Counter([one_line.split()[0]\n",
    "         for one_line in open('mini-access-log.txt')])\n",
    "c"
   ]
  },
  {
   "cell_type": "code",
   "execution_count": 112,
   "id": "56b68c67",
   "metadata": {},
   "outputs": [
    {
     "data": {
      "text/plain": [
       "[('66.249.65.38', 100),\n",
       " ('66.249.65.12', 32),\n",
       " ('89.248.172.58', 22),\n",
       " ('67.195.112.35', 16),\n",
       " ('66.249.71.65', 3),\n",
       " ('66.249.65.43', 3),\n",
       " ('65.55.207.50', 3),\n",
       " ('67.218.116.165', 2),\n",
       " ('65.55.106.183', 2),\n",
       " ('65.55.106.131', 2),\n",
       " ('65.55.106.186', 2),\n",
       " ('74.52.245.146', 2),\n",
       " ('65.55.207.25', 2),\n",
       " ('65.55.207.94', 2),\n",
       " ('65.55.207.126', 2),\n",
       " ('82.34.9.20', 2),\n",
       " ('65.55.106.155', 2),\n",
       " ('65.55.207.77', 2),\n",
       " ('65.55.215.75', 2),\n",
       " ('65.55.207.71', 1),\n",
       " ('98.242.170.241', 1),\n",
       " ('208.80.193.28', 1)]"
      ]
     },
     "execution_count": 112,
     "metadata": {},
     "output_type": "execute_result"
    }
   ],
   "source": [
    "c.most_common()"
   ]
  },
  {
   "cell_type": "code",
   "execution_count": 118,
   "id": "23923cd3",
   "metadata": {},
   "outputs": [
    {
     "name": "stdout",
     "output_type": "stream",
     "text": [
      "67.218.116.165  : x\n",
      "66.249.71.65    : x\n",
      "65.55.106.183   : x\n",
      "66.249.65.12    : xxxxxxxxxxxxxxxx\n",
      "65.55.106.131   : x\n",
      "65.55.106.186   : x\n",
      "74.52.245.146   : x\n",
      "66.249.65.43    : x\n",
      "65.55.207.25    : x\n",
      "65.55.207.94    : x\n",
      "65.55.207.71    : \n",
      "98.242.170.241  : \n",
      "66.249.65.38    : xxxxxxxxxxxxxxxxxxxxxxxxxxxxxxxxxxxxxxxxxxxxxxxxxx\n",
      "65.55.207.126   : x\n",
      "82.34.9.20      : x\n",
      "65.55.106.155   : x\n",
      "65.55.207.77    : x\n",
      "208.80.193.28   : \n",
      "89.248.172.58   : xxxxxxxxxxx\n",
      "67.195.112.35   : xxxxxxxx\n",
      "65.55.207.50    : x\n",
      "65.55.215.75    : x\n"
     ]
    }
   ],
   "source": [
    "for key, value in c.items():\n",
    "    print(f'{key:16}: {value//2 * \"x\"}')"
   ]
  },
  {
   "cell_type": "code",
   "execution_count": 119,
   "id": "f1e984c9",
   "metadata": {},
   "outputs": [
    {
     "data": {
      "text/plain": [
       "dict_keys(['67.218.116.165', '66.249.71.65', '65.55.106.183', '66.249.65.12', '65.55.106.131', '65.55.106.186', '74.52.245.146', '66.249.65.43', '65.55.207.25', '65.55.207.94', '65.55.207.71', '98.242.170.241', '66.249.65.38', '65.55.207.126', '82.34.9.20', '65.55.106.155', '65.55.207.77', '208.80.193.28', '89.248.172.58', '67.195.112.35', '65.55.207.50', '65.55.215.75'])"
      ]
     },
     "execution_count": 119,
     "metadata": {},
     "output_type": "execute_result"
    }
   ],
   "source": [
    "c.keys()"
   ]
  },
  {
   "cell_type": "code",
   "execution_count": 120,
   "id": "1039b7bd",
   "metadata": {},
   "outputs": [
    {
     "data": {
      "text/plain": [
       "{'208.80.193.28',\n",
       " '65.55.106.131',\n",
       " '65.55.106.155',\n",
       " '65.55.106.183',\n",
       " '65.55.106.186',\n",
       " '65.55.207.126',\n",
       " '65.55.207.25',\n",
       " '65.55.207.50',\n",
       " '65.55.207.71',\n",
       " '65.55.207.77',\n",
       " '65.55.207.94',\n",
       " '65.55.215.75',\n",
       " '66.249.65.12',\n",
       " '66.249.65.38',\n",
       " '66.249.65.43',\n",
       " '66.249.71.65',\n",
       " '67.195.112.35',\n",
       " '67.218.116.165',\n",
       " '74.52.245.146',\n",
       " '82.34.9.20',\n",
       " '89.248.172.58',\n",
       " '98.242.170.241'}"
      ]
     },
     "execution_count": 120,
     "metadata": {},
     "output_type": "execute_result"
    }
   ],
   "source": [
    "# set comprehension\n",
    "\n",
    "{one_line.split()[0]\n",
    " for one_line in open('mini-access-log.txt')}"
   ]
  },
  {
   "cell_type": "code",
   "execution_count": 122,
   "id": "c12d2725",
   "metadata": {},
   "outputs": [
    {
     "data": {
      "text/plain": [
       "[('this', 4),\n",
       " ('is', 2),\n",
       " ('a', 1),\n",
       " ('bunch', 5),\n",
       " ('of', 2),\n",
       " ('words', 5),\n",
       " ('for', 3),\n",
       " ('my', 2),\n",
       " ('Python', 6),\n",
       " ('course', 6)]"
      ]
     },
     "execution_count": 122,
     "metadata": {},
     "output_type": "execute_result"
    }
   ],
   "source": [
    "# dict comprehensions!\n",
    "\n",
    "words = 'this is a bunch of words for my Python course'\n",
    "\n",
    "# I want a dict from this sentence, where the keys are words and the values are lengths of words\n",
    "\n",
    "# one way: use a list comprehension + dict()\n",
    "[(one_word, len(one_word))\n",
    "  for one_word in words.split()]"
   ]
  },
  {
   "cell_type": "code",
   "execution_count": 123,
   "id": "75261999",
   "metadata": {},
   "outputs": [
    {
     "data": {
      "text/plain": [
       "{'this': 4,\n",
       " 'is': 2,\n",
       " 'a': 1,\n",
       " 'bunch': 5,\n",
       " 'of': 2,\n",
       " 'words': 5,\n",
       " 'for': 3,\n",
       " 'my': 2,\n",
       " 'Python': 6,\n",
       " 'course': 6}"
      ]
     },
     "execution_count": 123,
     "metadata": {},
     "output_type": "execute_result"
    }
   ],
   "source": [
    "dict([(one_word, len(one_word))\n",
    "  for one_word in words.split()])"
   ]
  },
  {
   "cell_type": "code",
   "execution_count": null,
   "id": "af1a8d09",
   "metadata": {},
   "outputs": [],
   "source": []
  }
 ],
 "metadata": {
  "kernelspec": {
   "display_name": "Python 3 (ipykernel)",
   "language": "python",
   "name": "python3"
  },
  "language_info": {
   "codemirror_mode": {
    "name": "ipython",
    "version": 3
   },
   "file_extension": ".py",
   "mimetype": "text/x-python",
   "name": "python",
   "nbconvert_exporter": "python",
   "pygments_lexer": "ipython3",
   "version": "3.10.1"
  }
 },
 "nbformat": 4,
 "nbformat_minor": 5
}
