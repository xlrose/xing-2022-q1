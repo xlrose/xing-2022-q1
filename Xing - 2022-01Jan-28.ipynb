{
 "cells": [
  {
   "cell_type": "markdown",
   "id": "61716e94",
   "metadata": {},
   "source": [
    "# Agenda\n",
    "\n",
    "1. Dispatch tables\n",
    "2. `lambda`\n",
    "3. Comprehensions\n",
    "    - List comprehensions\n",
    "    - Dict comprehensions\n",
    "    - Set comprehensions\n",
    "    - Nested comprehensions"
   ]
  },
  {
   "cell_type": "code",
   "execution_count": 1,
   "id": "45d0245e",
   "metadata": {},
   "outputs": [
    {
     "name": "stdout",
     "output_type": "stream",
     "text": [
      "Choose: a\n",
      "A\n",
      "Choose: b\n",
      "B\n",
      "Choose: c\n",
      "Bad choice, c\n",
      "Choose: \n"
     ]
    }
   ],
   "source": [
    "def a():\n",
    "    return 'A'\n",
    "\n",
    "def b():\n",
    "    return 'B'\n",
    "\n",
    "while True:\n",
    "    s = input('Choose: ').strip()\n",
    "    \n",
    "    if not s:   # exit if we get an empty string\n",
    "        break\n",
    "        \n",
    "    elif s == 'a':\n",
    "        print(a())  # call the function a, print its result\n",
    "        \n",
    "    elif s == 'b':\n",
    "        print(b())  # call the function b, print its result\n",
    "        \n",
    "    else:\n",
    "        print(f'Bad choice, {s}')"
   ]
  },
  {
   "cell_type": "code",
   "execution_count": 2,
   "id": "e996d835",
   "metadata": {},
   "outputs": [
    {
     "name": "stdout",
     "output_type": "stream",
     "text": [
      "Choose: a\n",
      "A\n",
      "Choose: b\n",
      "B\n",
      "Choose: c\n",
      "Bad choice, c\n",
      "Choose: \n"
     ]
    }
   ],
   "source": [
    "# dispatch table -- a dictionary!\n",
    "\n",
    "def a():\n",
    "    return 'A'\n",
    "\n",
    "def b():\n",
    "    return 'B'\n",
    "\n",
    "funcs = {'a':a,   # keys are strings \n",
    "         'b':b}   # values are functions (not the result of running the function!)\n",
    "\n",
    "while True:\n",
    "    s = input('Choose: ').strip()\n",
    "    \n",
    "    if not s:   # exit if we get an empty string\n",
    "        break\n",
    "        \n",
    "    elif s in funcs:   # is the user's choice a key in our dict?\n",
    "        print(funcs[s]())  # retrieve the function based on the user's choice, and run it\n",
    "        \n",
    "    else:\n",
    "        print(f'Bad choice, {s}')"
   ]
  },
  {
   "cell_type": "markdown",
   "id": "d4b319c5",
   "metadata": {},
   "source": [
    "# Exercise: Calculator\n",
    "\n",
    "1. Define functions `add` and `sub`, which implement addition and subtraction, in order.\n",
    "2. Put these functions in a dispatch table (dictionary).\n",
    "3. Ask the user, repeatedly, to enter a simple math expression using two numbers and an operator, separated by spaces.\n",
    "4. Call the appropriate function, passing the arguments.\n",
    "5. If the operator isn't known, then complain to the user.\n",
    "\n",
    "Example:\n",
    "\n",
    "    Expression: 2 + 3\n",
    "    2 + 3 = 5\n",
    "    Expression: 10 - 6\n",
    "    10 - 6 = 4\n",
    "    Expression: 10 / 4\n",
    "    / is not supported\n",
    "    Expression: [ENTER]\n",
    "    "
   ]
  },
  {
   "cell_type": "code",
   "execution_count": 7,
   "id": "5881edae",
   "metadata": {},
   "outputs": [
    {
     "name": "stdout",
     "output_type": "stream",
     "text": [
      "Expression: 2+3\n",
      "Enter NUMBER OP NUMBER, with whitespace!\n",
      "Expression: 2 + 3\n",
      "2 + 3 = 5\n",
      "Expression: 2 + a\n",
      "You need to enter numbers!\n",
      "Expression: a + 2\n",
      "You need to enter numbers!\n",
      "Expression: \n"
     ]
    }
   ],
   "source": [
    "def add(first, second):\n",
    "    return first + second\n",
    "\n",
    "def sub(first, second):\n",
    "    return first - second\n",
    "\n",
    "funcs = {'+': add,\n",
    "         '-': sub}\n",
    "\n",
    "while True:\n",
    "    s = input('Expression: ').strip()\n",
    "    \n",
    "    if not s:\n",
    "        break\n",
    "        \n",
    "    fields = s.split()  # split on whitespace\n",
    "    \n",
    "    if len(fields) != 3:\n",
    "        print(f'Enter NUMBER OP NUMBER, with whitespace!')\n",
    "        continue\n",
    "        \n",
    "    first, op, second = fields\n",
    "\n",
    "    try:    # \"better to ask foregiveness than for permission\"\n",
    "        first = int(first)\n",
    "        second = int(second)\n",
    "    except ValueError as e:\n",
    "        print(f'You need to enter numbers!')\n",
    "        continue\n",
    "    \n",
    "    if op in funcs:   # is this operator a key in our dict?\n",
    "        result = funcs[op](first, second)\n",
    "        print(f'{first} {op} {second} = {result}')\n",
    "    else:\n",
    "        print(f'{op} is not supported')\n",
    "    "
   ]
  },
  {
   "cell_type": "code",
   "execution_count": 8,
   "id": "5c9a6bd0",
   "metadata": {},
   "outputs": [
    {
     "name": "stdout",
     "output_type": "stream",
     "text": [
      "Expression: 2 + 3\n",
      "2 + 3 = 5\n",
      "Expression: 2 * 6\n",
      "2 * 6 = 12\n",
      "Expression: \n"
     ]
    }
   ],
   "source": [
    "import operator\n",
    "\n",
    "funcs = {'+': operator.add,\n",
    "         '-': operator.sub,\n",
    "        '*':  operator.mul,\n",
    "        '/':  operator.truediv}\n",
    "\n",
    "while True:\n",
    "    s = input('Expression: ').strip()\n",
    "    \n",
    "    if not s:\n",
    "        break\n",
    "        \n",
    "    fields = s.split()  # split on whitespace\n",
    "    \n",
    "    if len(fields) != 3:\n",
    "        print(f'Enter NUMBER OP NUMBER, with whitespace!')\n",
    "        continue\n",
    "        \n",
    "    first, op, second = fields\n",
    "\n",
    "    try:    # \"better to ask foregiveness than for permission\"\n",
    "        first = int(first)\n",
    "        second = int(second)\n",
    "    except ValueError as e:\n",
    "        print(f'You need to enter numbers!')\n",
    "        continue\n",
    "    \n",
    "    if op in funcs:   # is this operator a key in our dict?\n",
    "        result = funcs[op](first, second)\n",
    "        print(f'{first} {op} {second} = {result}')\n",
    "    else:\n",
    "        print(f'{op} is not supported')\n",
    "    "
   ]
  },
  {
   "cell_type": "markdown",
   "id": "1e535b8c",
   "metadata": {},
   "source": [
    "# `lambda`\n",
    "\n",
    "When I define a function with `def`, I'm really doing two different things:\n",
    "\n",
    "1. Creating a function object\n",
    "2. Assigning that function object to a variable\n",
    "\n",
    "`lambda` does the first, without doing the second -- it creates a function object, but doesn't assign it anywhere.  It allows you to create inline functions.\n",
    "\n",
    "**BUT** `lambda` is very, very limited in Python:\n",
    "1. Only one expression is allowed.\n",
    "2. Only expressions -- no statements. Which means: No `def`, `if`, `for`, `while`, etc.\n",
    "3. Also: No assignment, because assignment in Python is a statement, not an expression.\n",
    "4. Only one line!\n",
    "5. No use of `return` -- the expression's value is returned"
   ]
  },
  {
   "cell_type": "code",
   "execution_count": 9,
   "id": "82221483",
   "metadata": {},
   "outputs": [
    {
     "data": {
      "text/plain": [
       "25"
      ]
     },
     "execution_count": 9,
     "metadata": {},
     "output_type": "execute_result"
    }
   ],
   "source": [
    "def square(x):\n",
    "    return x ** 2\n",
    "\n",
    "square(5)"
   ]
  },
  {
   "cell_type": "code",
   "execution_count": 10,
   "id": "12140191",
   "metadata": {},
   "outputs": [
    {
     "data": {
      "text/plain": [
       "<function __main__.<lambda>(x)>"
      ]
     },
     "execution_count": 10,
     "metadata": {},
     "output_type": "execute_result"
    }
   ],
   "source": [
    "# same thing, with lambda:\n",
    "\n",
    "lambda x: x**2"
   ]
  },
  {
   "cell_type": "code",
   "execution_count": 11,
   "id": "65884eb1",
   "metadata": {},
   "outputs": [],
   "source": [
    "# this is basically what def does!\n",
    "\n",
    "square2 = lambda x: x**2"
   ]
  },
  {
   "cell_type": "code",
   "execution_count": 12,
   "id": "3dae2bd8",
   "metadata": {},
   "outputs": [
    {
     "data": {
      "text/plain": [
       "25"
      ]
     },
     "execution_count": 12,
     "metadata": {},
     "output_type": "execute_result"
    }
   ],
   "source": [
    "square2(5)"
   ]
  },
  {
   "cell_type": "code",
   "execution_count": 13,
   "id": "09a5a0f4",
   "metadata": {},
   "outputs": [
    {
     "name": "stdout",
     "output_type": "stream",
     "text": [
      "Expression: 2 + 3\n",
      "2 + 3 = 5\n",
      "Expression: 100 - 50\n",
      "100 - 50 = 50\n",
      "Expression: \n"
     ]
    }
   ],
   "source": [
    "# let's rewrite the calculator using lambda!\n",
    "\n",
    "funcs = {'+': lambda x,y:x+y,\n",
    "         '-': lambda x,y:x-y,\n",
    "        '*':  lambda x,y:x*y,\n",
    "        '/':  lambda x,y:x/y}\n",
    "\n",
    "while True:\n",
    "    s = input('Expression: ').strip()\n",
    "    \n",
    "    if not s:\n",
    "        break\n",
    "        \n",
    "    fields = s.split()  # split on whitespace\n",
    "    \n",
    "    if len(fields) != 3:\n",
    "        print(f'Enter NUMBER OP NUMBER, with whitespace!')\n",
    "        continue\n",
    "        \n",
    "    first, op, second = fields\n",
    "\n",
    "    try:    # \"better to ask foregiveness than for permission\"\n",
    "        first = int(first)\n",
    "        second = int(second)\n",
    "    except ValueError as e:\n",
    "        print(f'You need to enter numbers!')\n",
    "        continue\n",
    "    \n",
    "    if op in funcs:   # is this operator a key in our dict?\n",
    "        result = funcs[op](first, second)\n",
    "        print(f'{first} {op} {second} = {result}')\n",
    "    else:\n",
    "        print(f'{op} is not supported')\n",
    "    "
   ]
  },
  {
   "cell_type": "markdown",
   "id": "791190c4",
   "metadata": {},
   "source": [
    "# `if` in `lambda`\n",
    "\n",
    "The normal `if` is a statement, not an expression. So you cannot use `if` in a `lambda` body.\n",
    "\n",
    "But... there is an alternative version of `if`, which *is* an expression:\n",
    "\n",
    "RESULT_IF_TRUE if CONDITION else RESULT_IF_FALSE\n",
    "\n",
    "It's sort of, kind of like `?:` (the trinary operator) in many languages, but not quite."
   ]
  },
  {
   "cell_type": "code",
   "execution_count": 16,
   "id": "6cfe7cd7",
   "metadata": {},
   "outputs": [
    {
     "data": {
      "text/plain": [
       "'Yes!'"
      ]
     },
     "execution_count": 16,
     "metadata": {},
     "output_type": "execute_result"
    }
   ],
   "source": [
    "x = 5\n",
    "\n",
    "# this is an expression... so we can use it in lambda\n",
    "'Yes!' if x == 5 else 'No!'"
   ]
  },
  {
   "cell_type": "code",
   "execution_count": 15,
   "id": "9cc88a2b",
   "metadata": {},
   "outputs": [
    {
     "data": {
      "text/plain": [
       "'No!'"
      ]
     },
     "execution_count": 15,
     "metadata": {},
     "output_type": "execute_result"
    }
   ],
   "source": [
    "x = 6\n",
    "\n",
    "'Yes!' if x == 5 else 'No!'"
   ]
  },
  {
   "cell_type": "markdown",
   "id": "6dec941d",
   "metadata": {},
   "source": [
    "# Comprehensions!\n",
    "\n"
   ]
  },
  {
   "cell_type": "code",
   "execution_count": 19,
   "id": "5695778d",
   "metadata": {},
   "outputs": [
    {
     "data": {
      "text/plain": [
       "[0, 1, 4, 9, 16, 25, 36, 49, 64, 81]"
      ]
     },
     "execution_count": 19,
     "metadata": {},
     "output_type": "execute_result"
    }
   ],
   "source": [
    "# I have a list of integers\n",
    "numbers = list(range(10))\n",
    "\n",
    "# I want a list of these numbers, but squared\n",
    "output = []\n",
    "\n",
    "# \"not Pythonic\"\n",
    "for one_number in numbers:\n",
    "    output.append(one_number ** 2)\n",
    "    \n",
    "output    "
   ]
  },
  {
   "cell_type": "markdown",
   "id": "3953091c",
   "metadata": {},
   "source": [
    "# When should we use a comprehension?\n",
    "\n",
    "(As opposed to a regular `for` loop?)\n",
    "\n",
    "1. I start with an iterable of some sort (i.e., an object that knows how to behave in a `for` loop)\n",
    "2. I want to get a list back, based on that iterable\n",
    "3. I can write a Python expression that describes the \"mapping\" from the first to the second"
   ]
  },
  {
   "cell_type": "code",
   "execution_count": 20,
   "id": "60d1b137",
   "metadata": {},
   "outputs": [
    {
     "data": {
      "text/plain": [
       "[0, 1, 4, 9, 16, 25, 36, 49, 64, 81]"
      ]
     },
     "execution_count": 20,
     "metadata": {},
     "output_type": "execute_result"
    }
   ],
   "source": [
    "# the above as a list comprehension\n",
    "\n",
    "output = [one_number ** 2 for one_number in numbers]\n",
    "\n",
    "output"
   ]
  },
  {
   "cell_type": "code",
   "execution_count": null,
   "id": "04ecbfa2",
   "metadata": {},
   "outputs": [],
   "source": [
    "# a list comprehension (like this) creates a new list\n",
    "[one_number ** 2 for one_number in numbers]"
   ]
  }
 ],
 "metadata": {
  "kernelspec": {
   "display_name": "Python 3 (ipykernel)",
   "language": "python",
   "name": "python3"
  },
  "language_info": {
   "codemirror_mode": {
    "name": "ipython",
    "version": 3
   },
   "file_extension": ".py",
   "mimetype": "text/x-python",
   "name": "python",
   "nbconvert_exporter": "python",
   "pygments_lexer": "ipython3",
   "version": "3.10.1"
  }
 },
 "nbformat": 4,
 "nbformat_minor": 5
}
