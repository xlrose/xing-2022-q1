{
 "cells": [
  {
   "cell_type": "markdown",
   "id": "61716e94",
   "metadata": {},
   "source": [
    "# Agenda\n",
    "\n",
    "1. Dispatch tables\n",
    "2. `lambda`\n",
    "3. Comprehensions\n",
    "    - List comprehensions\n",
    "    - Dict comprehensions\n",
    "    - Set comprehensions\n",
    "    - Nested comprehensions"
   ]
  },
  {
   "cell_type": "code",
   "execution_count": 1,
   "id": "6ae8419e",
   "metadata": {},
   "outputs": [
    {
     "name": "stdout",
     "output_type": "stream",
     "text": [
      "Choose: a\n",
      "A\n",
      "Choose: b\n",
      "B\n",
      "Choose: c\n",
      "Bad choice, c\n",
      "Choose: \n"
     ]
    }
   ],
   "source": [
    "def a():\n",
    "    return 'A'\n",
    "\n",
    "def b():\n",
    "    return 'B'\n",
    "\n",
    "while True:\n",
    "    s = input('Choose: ').strip()\n",
    "    \n",
    "    if not s:   # exit if we get an empty string\n",
    "        break\n",
    "        \n",
    "    elif s == 'a':\n",
    "        print(a())  # call the function a, print its result\n",
    "        \n",
    "    elif s == 'b':\n",
    "        print(b())  # call the function b, print its result\n",
    "        \n",
    "    else:\n",
    "        print(f'Bad choice, {s}')"
   ]
  },
  {
   "cell_type": "code",
   "execution_count": 2,
   "id": "ff9b26d9",
   "metadata": {},
   "outputs": [
    {
     "name": "stdout",
     "output_type": "stream",
     "text": [
      "Choose: a\n",
      "A\n",
      "Choose: b\n",
      "B\n",
      "Choose: c\n",
      "Bad choice, c\n",
      "Choose: \n"
     ]
    }
   ],
   "source": [
    "# dispatch table -- a dictionary!\n",
    "\n",
    "def a():\n",
    "    return 'A'\n",
    "\n",
    "def b():\n",
    "    return 'B'\n",
    "\n",
    "funcs = {'a':a,   # keys are strings \n",
    "         'b':b}   # values are functions (not the result of running the function!)\n",
    "\n",
    "while True:\n",
    "    s = input('Choose: ').strip()\n",
    "    \n",
    "    if not s:   # exit if we get an empty string\n",
    "        break\n",
    "        \n",
    "    elif s in funcs:   # is the user's choice a key in our dict?\n",
    "        print(funcs[s]())  # retrieve the function based on the user's choice, and run it\n",
    "        \n",
    "    else:\n",
    "        print(f'Bad choice, {s}')"
   ]
  },
  {
   "cell_type": "markdown",
   "id": "fcc30dac",
   "metadata": {},
   "source": [
    "# Exercise: Calculator\n",
    "\n",
    "1. Define functions `add` and `sub`, which implement addition and subtraction, in order.\n",
    "2. Put these functions in a dispatch table (dictionary).\n",
    "3. Ask the user, repeatedly, to enter a simple math expression using two numbers and an operator, separated by spaces.\n",
    "4. Call the appropriate function, passing the arguments.\n",
    "5. If the operator isn't known, then complain to the user.\n",
    "\n",
    "Example:\n",
    "\n",
    "    Expression: 2 + 3\n",
    "    2 + 3 = 5\n",
    "    Expression: 10 - 6\n",
    "    10 - 6 = 4\n",
    "    Expression: 10 / 4\n",
    "    / is not supported\n",
    "    Expression: [ENTER]\n",
    "    "
   ]
  },
  {
   "cell_type": "code",
   "execution_count": 7,
   "id": "01a62d93",
   "metadata": {},
   "outputs": [
    {
     "name": "stdout",
     "output_type": "stream",
     "text": [
      "Expression: 2+3\n",
      "Enter NUMBER OP NUMBER, with whitespace!\n",
      "Expression: 2 + 3\n",
      "2 + 3 = 5\n",
      "Expression: 2 + a\n",
      "You need to enter numbers!\n",
      "Expression: a + 2\n",
      "You need to enter numbers!\n",
      "Expression: \n"
     ]
    }
   ],
   "source": [
    "def add(first, second):\n",
    "    return first + second\n",
    "\n",
    "def sub(first, second):\n",
    "    return first - second\n",
    "\n",
    "funcs = {'+': add,\n",
    "         '-': sub}\n",
    "\n",
    "while True:\n",
    "    s = input('Expression: ').strip()\n",
    "    \n",
    "    if not s:\n",
    "        break\n",
    "        \n",
    "    fields = s.split()  # split on whitespace\n",
    "    \n",
    "    if len(fields) != 3:\n",
    "        print(f'Enter NUMBER OP NUMBER, with whitespace!')\n",
    "        continue\n",
    "        \n",
    "    first, op, second = fields\n",
    "\n",
    "    try:    # \"better to ask foregiveness than for permission\"\n",
    "        first = int(first)\n",
    "        second = int(second)\n",
    "    except ValueError as e:\n",
    "        print(f'You need to enter numbers!')\n",
    "        continue\n",
    "    \n",
    "    if op in funcs:   # is this operator a key in our dict?\n",
    "        result = funcs[op](first, second)\n",
    "        print(f'{first} {op} {second} = {result}')\n",
    "    else:\n",
    "        print(f'{op} is not supported')\n",
    "    "
   ]
  },
  {
   "cell_type": "code",
   "execution_count": 8,
   "id": "345bf05a",
   "metadata": {},
   "outputs": [
    {
     "name": "stdout",
     "output_type": "stream",
     "text": [
      "Expression: 2 + 3\n",
      "2 + 3 = 5\n",
      "Expression: 2 * 6\n",
      "2 * 6 = 12\n",
      "Expression: \n"
     ]
    }
   ],
   "source": [
    "import operator\n",
    "\n",
    "funcs = {'+': operator.add,\n",
    "         '-': operator.sub,\n",
    "        '*':  operator.mul,\n",
    "        '/':  operator.truediv}\n",
    "\n",
    "while True:\n",
    "    s = input('Expression: ').strip()\n",
    "    \n",
    "    if not s:\n",
    "        break\n",
    "        \n",
    "    fields = s.split()  # split on whitespace\n",
    "    \n",
    "    if len(fields) != 3:\n",
    "        print(f'Enter NUMBER OP NUMBER, with whitespace!')\n",
    "        continue\n",
    "        \n",
    "    first, op, second = fields\n",
    "\n",
    "    try:    # \"better to ask foregiveness than for permission\"\n",
    "        first = int(first)\n",
    "        second = int(second)\n",
    "    except ValueError as e:\n",
    "        print(f'You need to enter numbers!')\n",
    "        continue\n",
    "    \n",
    "    if op in funcs:   # is this operator a key in our dict?\n",
    "        result = funcs[op](first, second)\n",
    "        print(f'{first} {op} {second} = {result}')\n",
    "    else:\n",
    "        print(f'{op} is not supported')\n",
    "    "
   ]
  },
  {
   "cell_type": "markdown",
   "id": "ef0ca2a3",
   "metadata": {},
   "source": [
    "# `lambda`\n",
    "\n",
    "When I define a function with `def`, I'm really doing two different things:\n",
    "\n",
    "1. Creating a function object\n",
    "2. Assigning that function object to a variable\n",
    "\n",
    "`lambda` does the first, without doing the second -- it creates a function object, but doesn't assign it anywhere.  It allows you to create inline functions.\n",
    "\n",
    "**BUT** `lambda` is very, very limited in Python:\n",
    "1. Only one expression is allowed.\n",
    "2. Only expressions -- no statements. Which means: No `def`, `if`, `for`, `while`, etc.\n",
    "3. Also: No assignment, because assignment in Python is a statement, not an expression.\n",
    "4. Only one line!\n",
    "5. No use of `return` -- the expression's value is returned"
   ]
  },
  {
   "cell_type": "code",
   "execution_count": 9,
   "id": "cfa66046",
   "metadata": {},
   "outputs": [
    {
     "data": {
      "text/plain": [
       "25"
      ]
     },
     "execution_count": 9,
     "metadata": {},
     "output_type": "execute_result"
    }
   ],
   "source": [
    "def square(x):\n",
    "    return x ** 2\n",
    "\n",
    "square(5)"
   ]
  },
  {
   "cell_type": "code",
   "execution_count": 10,
   "id": "8cd0419b",
   "metadata": {},
   "outputs": [
    {
     "data": {
      "text/plain": [
       "<function __main__.<lambda>(x)>"
      ]
     },
     "execution_count": 10,
     "metadata": {},
     "output_type": "execute_result"
    }
   ],
   "source": [
    "# same thing, with lambda:\n",
    "\n",
    "lambda x: x**2"
   ]
  },
  {
   "cell_type": "code",
   "execution_count": 11,
   "id": "df1f81ec",
   "metadata": {},
   "outputs": [],
   "source": [
    "# this is basically what def does!\n",
    "\n",
    "square2 = lambda x: x**2"
   ]
  },
  {
   "cell_type": "code",
   "execution_count": 12,
   "id": "0d497371",
   "metadata": {},
   "outputs": [
    {
     "data": {
      "text/plain": [
       "25"
      ]
     },
     "execution_count": 12,
     "metadata": {},
     "output_type": "execute_result"
    }
   ],
   "source": [
    "square2(5)"
   ]
  },
  {
   "cell_type": "code",
   "execution_count": 13,
   "id": "a4189ac7",
   "metadata": {},
   "outputs": [
    {
     "name": "stdout",
     "output_type": "stream",
     "text": [
      "Expression: 2 + 3\n",
      "2 + 3 = 5\n",
      "Expression: 100 - 50\n",
      "100 - 50 = 50\n",
      "Expression: \n"
     ]
    }
   ],
   "source": [
    "# let's rewrite the calculator using lambda!\n",
    "\n",
    "funcs = {'+': lambda x,y:x+y,\n",
    "         '-': lambda x,y:x-y,\n",
    "        '*':  lambda x,y:x*y,\n",
    "        '/':  lambda x,y:x/y}\n",
    "\n",
    "while True:\n",
    "    s = input('Expression: ').strip()\n",
    "    \n",
    "    if not s:\n",
    "        break\n",
    "        \n",
    "    fields = s.split()  # split on whitespace\n",
    "    \n",
    "    if len(fields) != 3:\n",
    "        print(f'Enter NUMBER OP NUMBER, with whitespace!')\n",
    "        continue\n",
    "        \n",
    "    first, op, second = fields\n",
    "\n",
    "    try:    # \"better to ask foregiveness than for permission\"\n",
    "        first = int(first)\n",
    "        second = int(second)\n",
    "    except ValueError as e:\n",
    "        print(f'You need to enter numbers!')\n",
    "        continue\n",
    "    \n",
    "    if op in funcs:   # is this operator a key in our dict?\n",
    "        result = funcs[op](first, second)\n",
    "        print(f'{first} {op} {second} = {result}')\n",
    "    else:\n",
    "        print(f'{op} is not supported')\n",
    "    "
   ]
  },
  {
   "cell_type": "markdown",
   "id": "6fa2ceda",
   "metadata": {},
   "source": [
    "# `if` in `lambda`\n",
    "\n",
    "The normal `if` is a statement, not an expression. So you cannot use `if` in a `lambda` body.\n",
    "\n",
    "But... there is an alternative version of `if`, which *is* an expression:\n",
    "\n",
    "RESULT_IF_TRUE if CONDITION else RESULT_IF_FALSE\n",
    "\n",
    "It's sort of, kind of like `?:` (the trinary operator) in many languages, but not quite."
   ]
  },
  {
   "cell_type": "code",
   "execution_count": 16,
   "id": "6ec518c4",
   "metadata": {},
   "outputs": [
    {
     "data": {
      "text/plain": [
       "'Yes!'"
      ]
     },
     "execution_count": 16,
     "metadata": {},
     "output_type": "execute_result"
    }
   ],
   "source": [
    "x = 5\n",
    "\n",
    "# this is an expression... so we can use it in lambda\n",
    "'Yes!' if x == 5 else 'No!'"
   ]
  },
  {
   "cell_type": "code",
   "execution_count": 15,
   "id": "43cf0da9",
   "metadata": {},
   "outputs": [
    {
     "data": {
      "text/plain": [
       "'No!'"
      ]
     },
     "execution_count": 15,
     "metadata": {},
     "output_type": "execute_result"
    }
   ],
   "source": [
    "x = 6\n",
    "\n",
    "'Yes!' if x == 5 else 'No!'"
   ]
  },
  {
   "cell_type": "markdown",
   "id": "21fd471a",
   "metadata": {},
   "source": [
    "# Comprehensions!\n",
    "\n"
   ]
  },
  {
   "cell_type": "code",
   "execution_count": 19,
   "id": "0940212a",
   "metadata": {},
   "outputs": [
    {
     "data": {
      "text/plain": [
       "[0, 1, 4, 9, 16, 25, 36, 49, 64, 81]"
      ]
     },
     "execution_count": 19,
     "metadata": {},
     "output_type": "execute_result"
    }
   ],
   "source": [
    "# I have a list of integers\n",
    "numbers = list(range(10))\n",
    "\n",
    "# I want a list of these numbers, but squared\n",
    "output = []\n",
    "\n",
    "# \"not Pythonic\"\n",
    "for one_number in numbers:\n",
    "    output.append(one_number ** 2)\n",
    "    \n",
    "output    "
   ]
  },
  {
   "cell_type": "markdown",
   "id": "3e13368d",
   "metadata": {},
   "source": [
    "# When should we use a comprehension?\n",
    "\n",
    "(As opposed to a regular `for` loop?)\n",
    "\n",
    "1. I start with an iterable of some sort (i.e., an object that knows how to behave in a `for` loop)\n",
    "2. I want to get a list back, based on that iterable\n",
    "3. I can write a Python expression that describes the \"mapping\" from the first to the second"
   ]
  },
  {
   "cell_type": "code",
   "execution_count": 20,
   "id": "ae67f7ae",
   "metadata": {},
   "outputs": [
    {
     "data": {
      "text/plain": [
       "[0, 1, 4, 9, 16, 25, 36, 49, 64, 81]"
      ]
     },
     "execution_count": 20,
     "metadata": {},
     "output_type": "execute_result"
    }
   ],
   "source": [
    "# the above as a list comprehension\n",
    "\n",
    "output = [one_number ** 2 for one_number in numbers]\n",
    "\n",
    "output"
   ]
  },
  {
   "cell_type": "code",
   "execution_count": 21,
   "id": "0fac36cc",
   "metadata": {},
   "outputs": [
    {
     "data": {
      "text/plain": [
       "[0, 1, 4, 9, 16, 25, 36, 49, 64, 81]"
      ]
     },
     "execution_count": 21,
     "metadata": {},
     "output_type": "execute_result"
    }
   ],
   "source": [
    "# a list comprehension (like this) creates a new list\n",
    "# the order of items in the output (new list) is based on the order in the original list\n",
    "\n",
    "# if we have parentheses or brackets in Python, we have more freedom with whitespace and newlines\n",
    "\n",
    "[one_number ** 2              # expression -- sort of like SQL's \"SELECT\" -- absolutely any expression\n",
    " for one_number in numbers]   # iteration  -- sort of like SQL's \"FROM\" -- absolutely any iterable"
   ]
  },
  {
   "cell_type": "code",
   "execution_count": 22,
   "id": "dbf797d2",
   "metadata": {},
   "outputs": [
    {
     "data": {
      "text/plain": [
       "[100, 400, 900]"
      ]
     },
     "execution_count": 22,
     "metadata": {},
     "output_type": "execute_result"
    }
   ],
   "source": [
    "def get_squares(numbers):\n",
    "    return [one_number ** 2           \n",
    "             for one_number in numbers]\n",
    "\n",
    "get_squares([10, 20, 30])"
   ]
  },
  {
   "cell_type": "code",
   "execution_count": 23,
   "id": "9b682fac",
   "metadata": {},
   "outputs": [
    {
     "name": "stdout",
     "output_type": "stream",
     "text": [
      "  2           0 LOAD_CONST               1 (<code object <listcomp> at 0x1106714d0, file \"/var/folders/rr/0mnyyv811fs5vyp22gf4fxk00000gn/T/ipykernel_84686/1363252552.py\", line 2>)\n",
      "              2 LOAD_CONST               2 ('get_squares.<locals>.<listcomp>')\n",
      "              4 MAKE_FUNCTION            0\n",
      "\n",
      "  3           6 LOAD_FAST                0 (numbers)\n",
      "\n",
      "  2           8 GET_ITER\n",
      "             10 CALL_FUNCTION            1\n",
      "             12 RETURN_VALUE\n",
      "\n",
      "Disassembly of <code object <listcomp> at 0x1106714d0, file \"/var/folders/rr/0mnyyv811fs5vyp22gf4fxk00000gn/T/ipykernel_84686/1363252552.py\", line 2>:\n",
      "  2           0 BUILD_LIST               0\n",
      "              2 LOAD_FAST                0 (.0)\n",
      "        >>    4 FOR_ITER                 6 (to 18)\n",
      "\n",
      "  3           6 STORE_FAST               1 (one_number)\n",
      "\n",
      "  2           8 LOAD_FAST                1 (one_number)\n",
      "             10 LOAD_CONST               0 (2)\n",
      "             12 BINARY_POWER\n",
      "             14 LIST_APPEND              2\n",
      "             16 JUMP_ABSOLUTE            2 (to 4)\n",
      "        >>   18 RETURN_VALUE\n"
     ]
    }
   ],
   "source": [
    "import dis\n",
    "dis.dis(get_squares)"
   ]
  },
  {
   "cell_type": "code",
   "execution_count": 24,
   "id": "66fae6ee",
   "metadata": {},
   "outputs": [],
   "source": [
    "# no new scope here!  all global\n",
    "for i in range(3):\n",
    "    n = i ** 2\n",
    "    \n",
    "    "
   ]
  },
  {
   "cell_type": "code",
   "execution_count": 25,
   "id": "81d561a5",
   "metadata": {},
   "outputs": [
    {
     "data": {
      "text/plain": [
       "2"
      ]
     },
     "execution_count": 25,
     "metadata": {},
     "output_type": "execute_result"
    }
   ],
   "source": [
    "i"
   ]
  },
  {
   "cell_type": "code",
   "execution_count": 26,
   "id": "c37eaaab",
   "metadata": {},
   "outputs": [
    {
     "data": {
      "text/plain": [
       "4"
      ]
     },
     "execution_count": 26,
     "metadata": {},
     "output_type": "execute_result"
    }
   ],
   "source": [
    "n"
   ]
  },
  {
   "cell_type": "code",
   "execution_count": 27,
   "id": "70957f3b",
   "metadata": {},
   "outputs": [],
   "source": [
    "# get rid of them\n",
    "del(i)\n",
    "del(n)"
   ]
  },
  {
   "cell_type": "code",
   "execution_count": 28,
   "id": "454a98be",
   "metadata": {},
   "outputs": [
    {
     "data": {
      "text/plain": [
       "[0, 1, 4]"
      ]
     },
     "execution_count": 28,
     "metadata": {},
     "output_type": "execute_result"
    }
   ],
   "source": [
    "# how can it be that i is a local variable, when there isn't a new function here?\n",
    "[i**2 for i in range(3)]"
   ]
  },
  {
   "cell_type": "code",
   "execution_count": 29,
   "id": "8a149258",
   "metadata": {},
   "outputs": [
    {
     "ename": "NameError",
     "evalue": "name 'i' is not defined",
     "output_type": "error",
     "traceback": [
      "\u001b[0;31m---------------------------------------------------------------------------\u001b[0m",
      "\u001b[0;31mNameError\u001b[0m                                 Traceback (most recent call last)",
      "\u001b[0;32m/var/folders/rr/0mnyyv811fs5vyp22gf4fxk00000gn/T/ipykernel_84686/3616029859.py\u001b[0m in \u001b[0;36m<module>\u001b[0;34m\u001b[0m\n\u001b[0;32m----> 1\u001b[0;31m \u001b[0mi\u001b[0m\u001b[0;34m\u001b[0m\u001b[0;34m\u001b[0m\u001b[0m\n\u001b[0m",
      "\u001b[0;31mNameError\u001b[0m: name 'i' is not defined"
     ]
    }
   ],
   "source": [
    "i"
   ]
  },
  {
   "cell_type": "code",
   "execution_count": 30,
   "id": "d4aef976",
   "metadata": {},
   "outputs": [
    {
     "data": {
      "text/plain": [
       "'ab*cde*fghij'"
      ]
     },
     "execution_count": 30,
     "metadata": {},
     "output_type": "execute_result"
    }
   ],
   "source": [
    "mylist = ['ab', 'cde', 'fghij']\n",
    "\n",
    "'*'.join(mylist)  # str.join is run on a string (the \"glue\") and takes an iterable of strings"
   ]
  },
  {
   "cell_type": "code",
   "execution_count": 31,
   "id": "924ffb09",
   "metadata": {},
   "outputs": [
    {
     "ename": "TypeError",
     "evalue": "sequence item 0: expected str instance, int found",
     "output_type": "error",
     "traceback": [
      "\u001b[0;31m---------------------------------------------------------------------------\u001b[0m",
      "\u001b[0;31mTypeError\u001b[0m                                 Traceback (most recent call last)",
      "\u001b[0;32m/var/folders/rr/0mnyyv811fs5vyp22gf4fxk00000gn/T/ipykernel_84686/126622368.py\u001b[0m in \u001b[0;36m<module>\u001b[0;34m\u001b[0m\n\u001b[1;32m      1\u001b[0m \u001b[0mmylist\u001b[0m \u001b[0;34m=\u001b[0m \u001b[0;34m[\u001b[0m\u001b[0;36m10\u001b[0m\u001b[0;34m,\u001b[0m \u001b[0;36m20\u001b[0m\u001b[0;34m,\u001b[0m \u001b[0;36m30\u001b[0m\u001b[0;34m]\u001b[0m\u001b[0;34m\u001b[0m\u001b[0;34m\u001b[0m\u001b[0m\n\u001b[1;32m      2\u001b[0m \u001b[0;34m\u001b[0m\u001b[0m\n\u001b[0;32m----> 3\u001b[0;31m \u001b[0;34m'*'\u001b[0m\u001b[0;34m.\u001b[0m\u001b[0mjoin\u001b[0m\u001b[0;34m(\u001b[0m\u001b[0mmylist\u001b[0m\u001b[0;34m)\u001b[0m   \u001b[0;31m# str.join expects an iterable of strings, not of integers!\u001b[0m\u001b[0;34m\u001b[0m\u001b[0;34m\u001b[0m\u001b[0m\n\u001b[0m",
      "\u001b[0;31mTypeError\u001b[0m: sequence item 0: expected str instance, int found"
     ]
    }
   ],
   "source": [
    "mylist = [10, 20, 30]\n",
    "\n",
    "'*'.join(mylist)   # str.join expects an iterable of strings, not of integers!"
   ]
  },
  {
   "cell_type": "code",
   "execution_count": 32,
   "id": "706fefb0",
   "metadata": {},
   "outputs": [
    {
     "data": {
      "text/plain": [
       "'10*20*30'"
      ]
     },
     "execution_count": 32,
     "metadata": {},
     "output_type": "execute_result"
    }
   ],
   "source": [
    "# I have a list of integers\n",
    "# I want a list of strings\n",
    "# I can translate from the first to the second using str()\n",
    "\n",
    "'*'.join([str(one_item)\n",
    "         for one_item in mylist])"
   ]
  },
  {
   "cell_type": "code",
   "execution_count": 33,
   "id": "88538170",
   "metadata": {},
   "outputs": [
    {
     "data": {
      "text/plain": [
       "'This Is A Bunch Of Words For My Python Course'"
      ]
     },
     "execution_count": 33,
     "metadata": {},
     "output_type": "execute_result"
    }
   ],
   "source": [
    "s = 'this is a bunch of words for my Python course'\n",
    "s.title()  # returns a new string, all words are capitalized"
   ]
  },
  {
   "cell_type": "code",
   "execution_count": 34,
   "id": "2ad21adb",
   "metadata": {},
   "outputs": [
    {
     "data": {
      "text/plain": [
       "'This is a bunch of words for my python course'"
      ]
     },
     "execution_count": 34,
     "metadata": {},
     "output_type": "execute_result"
    }
   ],
   "source": [
    "# there's also a \"capitalize\" method, which returns a new string, all \n",
    "# letters are lowercase, except for the first\n",
    "s.capitalize()"
   ]
  },
  {
   "cell_type": "code",
   "execution_count": 37,
   "id": "11bb950b",
   "metadata": {},
   "outputs": [
    {
     "data": {
      "text/plain": [
       "'This Is A Bunch Of Words For My Python Course'"
      ]
     },
     "execution_count": 37,
     "metadata": {},
     "output_type": "execute_result"
    }
   ],
   "source": [
    "# what if I want to implement title's functionality\n",
    "# but I only have capitalize to use?\n",
    "\n",
    "# it's very common to use comprehensions on the result of split,\n",
    "# and then to pass the comprehension back to join\n",
    "\n",
    "' '.join([one_item.capitalize()\n",
    "        for one_item in s.split()])"
   ]
  },
  {
   "cell_type": "markdown",
   "id": "f6171dd3",
   "metadata": {},
   "source": [
    "# Exercises with comprehensions\n",
    "\n",
    "1. Ask the user to enter a string, containing integers separated by whitespace.  Use a comprehension to sum these numbers together.\n",
    "2. Ask the user to enter a sentence.  Use a comprehension to count the number of non-whitespace characters in the string."
   ]
  },
  {
   "cell_type": "code",
   "execution_count": 40,
   "id": "7216504c",
   "metadata": {},
   "outputs": [
    {
     "name": "stdout",
     "output_type": "stream",
     "text": [
      "Enter numbers: 10 20 30\n"
     ]
    },
    {
     "data": {
      "text/plain": [
       "60"
      ]
     },
     "execution_count": 40,
     "metadata": {},
     "output_type": "execute_result"
    }
   ],
   "source": [
    "# sum numbers, with a comprehension\n",
    "\n",
    "# start with: list of strings\n",
    "# end with: list of ints\n",
    "# transform with: int()\n",
    "\n",
    "s = input('Enter numbers: ').strip()\n",
    "\n",
    "sum([int(one_number)\n",
    "     for one_number in s.split()])"
   ]
  },
  {
   "cell_type": "code",
   "execution_count": 45,
   "id": "ca21dc88",
   "metadata": {},
   "outputs": [
    {
     "name": "stdout",
     "output_type": "stream",
     "text": [
      "Enter sentence: this is a test\n"
     ]
    },
    {
     "data": {
      "text/plain": [
       "11"
      ]
     },
     "execution_count": 45,
     "metadata": {},
     "output_type": "execute_result"
    }
   ],
   "source": [
    "# count non-whitespace characters\n",
    "\n",
    "# start with: list of strings\n",
    "# end with: list of ints\n",
    "# transform with len()\n",
    "\n",
    "s = input('Enter sentence: ').strip()\n",
    "\n",
    "sum([len(one_word)\n",
    "    for one_word in s.split()])"
   ]
  },
  {
   "cell_type": "code",
   "execution_count": 48,
   "id": "3d674dd5",
   "metadata": {},
   "outputs": [
    {
     "data": {
      "text/plain": [
       "11"
      ]
     },
     "execution_count": 48,
     "metadata": {},
     "output_type": "execute_result"
    }
   ],
   "source": [
    "s = 'this is a test'\n",
    "\n",
    "sum([ i != \" \" \n",
    "     for i in s]) "
   ]
  },
  {
   "cell_type": "code",
   "execution_count": 49,
   "id": "f09cea63",
   "metadata": {},
   "outputs": [
    {
     "data": {
      "text/plain": [
       "(int,)"
      ]
     },
     "execution_count": 49,
     "metadata": {},
     "output_type": "execute_result"
    }
   ],
   "source": [
    "bool.__bases__"
   ]
  },
  {
   "cell_type": "code",
   "execution_count": 51,
   "id": "9f2fa40e",
   "metadata": {},
   "outputs": [
    {
     "data": {
      "text/plain": [
       "4"
      ]
     },
     "execution_count": 51,
     "metadata": {},
     "output_type": "execute_result"
    }
   ],
   "source": [
    "# True is really a 1, and False is really a 0, when we need to\n",
    "\n",
    "True + True + True + True"
   ]
  },
  {
   "cell_type": "markdown",
   "id": "1270ee0e",
   "metadata": {},
   "source": [
    "\"whitespace\" in Python is: ' ', \\n, \\t, \\r, \\v\n",
    "\n"
   ]
  }
 ],
 "metadata": {
  "kernelspec": {
   "display_name": "Python 3 (ipykernel)",
   "language": "python",
   "name": "python3"
  },
  "language_info": {
   "codemirror_mode": {
    "name": "ipython",
    "version": 3
   },
   "file_extension": ".py",
   "mimetype": "text/x-python",
   "name": "python",
   "nbconvert_exporter": "python",
   "pygments_lexer": "ipython3",
   "version": "3.10.1"
  }
 },
 "nbformat": 4,
 "nbformat_minor": 5
}
