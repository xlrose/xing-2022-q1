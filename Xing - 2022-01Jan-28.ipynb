{
 "cells": [
  {
   "cell_type": "markdown",
   "id": "61716e94",
   "metadata": {},
   "source": [
    "# Agenda\n",
    "\n",
    "1. Dispatch tables\n",
    "2. `lambda`\n",
    "3. Comprehensions\n",
    "    - List comprehensions\n",
    "    - Dict comprehensions\n",
    "    - Set comprehensions\n",
    "    - Nested comprehensions"
   ]
  },
  {
   "cell_type": "code",
   "execution_count": 1,
   "id": "a1683534",
   "metadata": {},
   "outputs": [
    {
     "name": "stdout",
     "output_type": "stream",
     "text": [
      "Choose: a\n",
      "A\n",
      "Choose: b\n",
      "B\n",
      "Choose: c\n",
      "Bad choice, c\n",
      "Choose: \n"
     ]
    }
   ],
   "source": [
    "def a():\n",
    "    return 'A'\n",
    "\n",
    "def b():\n",
    "    return 'B'\n",
    "\n",
    "while True:\n",
    "    s = input('Choose: ').strip()\n",
    "    \n",
    "    if not s:   # exit if we get an empty string\n",
    "        break\n",
    "        \n",
    "    elif s == 'a':\n",
    "        print(a())  # call the function a, print its result\n",
    "        \n",
    "    elif s == 'b':\n",
    "        print(b())  # call the function b, print its result\n",
    "        \n",
    "    else:\n",
    "        print(f'Bad choice, {s}')"
   ]
  },
  {
   "cell_type": "code",
   "execution_count": 2,
   "id": "e02550b8",
   "metadata": {},
   "outputs": [
    {
     "name": "stdout",
     "output_type": "stream",
     "text": [
      "Choose: a\n",
      "A\n",
      "Choose: b\n",
      "B\n",
      "Choose: c\n",
      "Bad choice, c\n",
      "Choose: \n"
     ]
    }
   ],
   "source": [
    "# dispatch table -- a dictionary!\n",
    "\n",
    "def a():\n",
    "    return 'A'\n",
    "\n",
    "def b():\n",
    "    return 'B'\n",
    "\n",
    "funcs = {'a':a,   # keys are strings \n",
    "         'b':b}   # values are functions (not the result of running the function!)\n",
    "\n",
    "while True:\n",
    "    s = input('Choose: ').strip()\n",
    "    \n",
    "    if not s:   # exit if we get an empty string\n",
    "        break\n",
    "        \n",
    "    elif s in funcs:   # is the user's choice a key in our dict?\n",
    "        print(funcs[s]())  # retrieve the function based on the user's choice, and run it\n",
    "        \n",
    "    else:\n",
    "        print(f'Bad choice, {s}')"
   ]
  },
  {
   "cell_type": "code",
   "execution_count": null,
   "id": "fa6c7e01",
   "metadata": {},
   "outputs": [],
   "source": []
  }
 ],
 "metadata": {
  "kernelspec": {
   "display_name": "Python 3 (ipykernel)",
   "language": "python",
   "name": "python3"
  },
  "language_info": {
   "codemirror_mode": {
    "name": "ipython",
    "version": 3
   },
   "file_extension": ".py",
   "mimetype": "text/x-python",
   "name": "python",
   "nbconvert_exporter": "python",
   "pygments_lexer": "ipython3",
   "version": "3.10.1"
  }
 },
 "nbformat": 4,
 "nbformat_minor": 5
}
