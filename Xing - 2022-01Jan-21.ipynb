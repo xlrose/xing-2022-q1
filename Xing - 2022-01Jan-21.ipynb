{
 "cells": [
  {
   "cell_type": "markdown",
   "id": "1a439d53",
   "metadata": {},
   "source": [
    "# Agenda\n",
    "\n",
    "- Function internals\n",
    "- arguments and parameters\n",
    "- defaults\n",
    "- scoping"
   ]
  },
  {
   "cell_type": "code",
   "execution_count": 2,
   "id": "90c2993b",
   "metadata": {},
   "outputs": [
    {
     "name": "stdout",
     "output_type": "stream",
     "text": [
      "Hello\n"
     ]
    }
   ],
   "source": [
    "# print is a function -- it doesn't belong to any object\n",
    "print('Hello')"
   ]
  },
  {
   "cell_type": "code",
   "execution_count": 3,
   "id": "cf9400da",
   "metadata": {},
   "outputs": [
    {
     "data": {
      "text/plain": [
       "'ABCD'"
      ]
     },
     "execution_count": 3,
     "metadata": {},
     "output_type": "execute_result"
    }
   ],
   "source": [
    "s = 'abcd'\n",
    "s.upper()  # you cannot run upper without saying what it's connected to"
   ]
  },
  {
   "cell_type": "code",
   "execution_count": 4,
   "id": "5d9e4c36",
   "metadata": {},
   "outputs": [
    {
     "data": {
      "text/plain": [
       "'ABCD'"
      ]
     },
     "execution_count": 4,
     "metadata": {},
     "output_type": "execute_result"
    }
   ],
   "source": [
    "s.upper()  # rewritten to str.upper(s)"
   ]
  },
  {
   "cell_type": "code",
   "execution_count": 5,
   "id": "62a2e3df",
   "metadata": {},
   "outputs": [
    {
     "data": {
      "text/plain": [
       "50"
      ]
     },
     "execution_count": 5,
     "metadata": {},
     "output_type": "execute_result"
    }
   ],
   "source": [
    "import random\n",
    "random.randint(0, 100)  # this is a function, not a method -- but a function in a module"
   ]
  },
  {
   "cell_type": "code",
   "execution_count": 6,
   "id": "f144936d",
   "metadata": {},
   "outputs": [
    {
     "data": {
      "text/plain": [
       "int"
      ]
     },
     "execution_count": 6,
     "metadata": {},
     "output_type": "execute_result"
    }
   ],
   "source": [
    "s = 'abcd'\n",
    "x = len(s)\n",
    "\n",
    "type(x)  "
   ]
  },
  {
   "cell_type": "code",
   "execution_count": 7,
   "id": "0e91034f",
   "metadata": {},
   "outputs": [
    {
     "data": {
      "text/plain": [
       "4"
      ]
     },
     "execution_count": 7,
     "metadata": {},
     "output_type": "execute_result"
    }
   ],
   "source": [
    "x"
   ]
  },
  {
   "cell_type": "code",
   "execution_count": 8,
   "id": "6681a50a",
   "metadata": {},
   "outputs": [
    {
     "data": {
      "text/plain": [
       "str"
      ]
     },
     "execution_count": 8,
     "metadata": {},
     "output_type": "execute_result"
    }
   ],
   "source": [
    "s = 'abcd'\n",
    "x = s.upper()\n",
    "\n",
    "type(x)"
   ]
  },
  {
   "cell_type": "code",
   "execution_count": 9,
   "id": "99a4ffb4",
   "metadata": {},
   "outputs": [
    {
     "data": {
      "text/plain": [
       "'ABCD'"
      ]
     },
     "execution_count": 9,
     "metadata": {},
     "output_type": "execute_result"
    }
   ],
   "source": [
    "x"
   ]
  },
  {
   "cell_type": "code",
   "execution_count": 10,
   "id": "5642bbc5",
   "metadata": {},
   "outputs": [],
   "source": [
    "s = 'abcd'\n",
    "x = s.upper"
   ]
  },
  {
   "cell_type": "code",
   "execution_count": 11,
   "id": "1087315e",
   "metadata": {},
   "outputs": [
    {
     "data": {
      "text/plain": [
       "builtin_function_or_method"
      ]
     },
     "execution_count": 11,
     "metadata": {},
     "output_type": "execute_result"
    }
   ],
   "source": [
    "type(x)"
   ]
  },
  {
   "cell_type": "code",
   "execution_count": 12,
   "id": "135581c8",
   "metadata": {},
   "outputs": [],
   "source": [
    "def hello():\n",
    "    return f'Hello!'\n",
    "\n",
    "# when I define a function with \"def\", two things happen:\n",
    "# (1) I create a function object\n",
    "# (2) I assign that object to a variable -- in this case, hello"
   ]
  },
  {
   "cell_type": "code",
   "execution_count": 13,
   "id": "2026dfaa",
   "metadata": {},
   "outputs": [
    {
     "data": {
      "text/plain": [
       "'Hello!'"
      ]
     },
     "execution_count": 13,
     "metadata": {},
     "output_type": "execute_result"
    }
   ],
   "source": [
    "hello()   # Python (1) looks for the object that hello refers to and (2) tries to execute it"
   ]
  },
  {
   "cell_type": "code",
   "execution_count": 14,
   "id": "ba3ec703",
   "metadata": {},
   "outputs": [
    {
     "data": {
      "text/plain": [
       "'Hello!'"
      ]
     },
     "execution_count": 14,
     "metadata": {},
     "output_type": "execute_result"
    }
   ],
   "source": [
    "x = hello()\n",
    "x"
   ]
  },
  {
   "cell_type": "code",
   "execution_count": 15,
   "id": "35eb2dbd",
   "metadata": {},
   "outputs": [
    {
     "data": {
      "text/plain": [
       "<function __main__.hello()>"
      ]
     },
     "execution_count": 15,
     "metadata": {},
     "output_type": "execute_result"
    }
   ],
   "source": [
    "x = hello\n",
    "x"
   ]
  },
  {
   "cell_type": "code",
   "execution_count": 16,
   "id": "92628882",
   "metadata": {},
   "outputs": [
    {
     "data": {
      "text/plain": [
       "'Hello!'"
      ]
     },
     "execution_count": 16,
     "metadata": {},
     "output_type": "execute_result"
    }
   ],
   "source": [
    "x()   "
   ]
  },
  {
   "cell_type": "code",
   "execution_count": 17,
   "id": "61a0f5bb",
   "metadata": {},
   "outputs": [
    {
     "data": {
      "text/plain": [
       "<function str.upper()>"
      ]
     },
     "execution_count": 17,
     "metadata": {},
     "output_type": "execute_result"
    }
   ],
   "source": [
    "s = 'abcd'\n",
    "x = s.upper   # assigning a function to a variable is totally fine -- we get a reference to the function object\n",
    "\n",
    "x"
   ]
  },
  {
   "cell_type": "code",
   "execution_count": 18,
   "id": "d709e4f7",
   "metadata": {},
   "outputs": [
    {
     "data": {
      "text/plain": [
       "'ABCD'"
      ]
     },
     "execution_count": 18,
     "metadata": {},
     "output_type": "execute_result"
    }
   ],
   "source": [
    "x()"
   ]
  },
  {
   "cell_type": "code",
   "execution_count": 19,
   "id": "9f228c97",
   "metadata": {},
   "outputs": [
    {
     "name": "stdout",
     "output_type": "stream",
     "text": [
      "Yes, it contains only digits!\n"
     ]
    }
   ],
   "source": [
    "s = '890'\n",
    "\n",
    "if s.isdigit():\n",
    "    print('Yes, it contains only digits!')"
   ]
  },
  {
   "cell_type": "code",
   "execution_count": 21,
   "id": "e605ca79",
   "metadata": {},
   "outputs": [
    {
     "name": "stdout",
     "output_type": "stream",
     "text": [
      "Yes, it contains only digits!\n"
     ]
    }
   ],
   "source": [
    "s = 'abc'\n",
    "\n",
    "if s.isdigit:   # no parentheses -- if is checking if s.isdigit is True -- and (almost) all objects are True!\n",
    "    print('Yes, it contains only digits!')"
   ]
  },
  {
   "cell_type": "code",
   "execution_count": 22,
   "id": "e7b91024",
   "metadata": {},
   "outputs": [
    {
     "name": "stdout",
     "output_type": "stream",
     "text": [
      "a: 1\n",
      "b: 2\n",
      "c: 3\n"
     ]
    }
   ],
   "source": [
    "d = {'a':1, 'b':2, 'c':3}\n",
    "\n",
    "for key, value in d.items():\n",
    "    print(f'{key}: {value}')"
   ]
  },
  {
   "cell_type": "code",
   "execution_count": 23,
   "id": "a19e1d51",
   "metadata": {},
   "outputs": [
    {
     "ename": "TypeError",
     "evalue": "'builtin_function_or_method' object is not iterable",
     "output_type": "error",
     "traceback": [
      "\u001b[0;31m---------------------------------------------------------------------------\u001b[0m",
      "\u001b[0;31mTypeError\u001b[0m                                 Traceback (most recent call last)",
      "\u001b[0;32m/var/folders/rr/0mnyyv811fs5vyp22gf4fxk00000gn/T/ipykernel_22121/2821455755.py\u001b[0m in \u001b[0;36m<module>\u001b[0;34m\u001b[0m\n\u001b[1;32m      1\u001b[0m \u001b[0md\u001b[0m \u001b[0;34m=\u001b[0m \u001b[0;34m{\u001b[0m\u001b[0;34m'a'\u001b[0m\u001b[0;34m:\u001b[0m\u001b[0;36m1\u001b[0m\u001b[0;34m,\u001b[0m \u001b[0;34m'b'\u001b[0m\u001b[0;34m:\u001b[0m\u001b[0;36m2\u001b[0m\u001b[0;34m,\u001b[0m \u001b[0;34m'c'\u001b[0m\u001b[0;34m:\u001b[0m\u001b[0;36m3\u001b[0m\u001b[0;34m}\u001b[0m\u001b[0;34m\u001b[0m\u001b[0;34m\u001b[0m\u001b[0m\n\u001b[1;32m      2\u001b[0m \u001b[0;34m\u001b[0m\u001b[0m\n\u001b[0;32m----> 3\u001b[0;31m \u001b[0;32mfor\u001b[0m \u001b[0mkey\u001b[0m\u001b[0;34m,\u001b[0m \u001b[0mvalue\u001b[0m \u001b[0;32min\u001b[0m \u001b[0md\u001b[0m\u001b[0;34m.\u001b[0m\u001b[0mitems\u001b[0m\u001b[0;34m:\u001b[0m\u001b[0;34m\u001b[0m\u001b[0;34m\u001b[0m\u001b[0m\n\u001b[0m\u001b[1;32m      4\u001b[0m     \u001b[0mprint\u001b[0m\u001b[0;34m(\u001b[0m\u001b[0;34mf'{key}: {value}'\u001b[0m\u001b[0;34m)\u001b[0m\u001b[0;34m\u001b[0m\u001b[0;34m\u001b[0m\u001b[0m\n",
      "\u001b[0;31mTypeError\u001b[0m: 'builtin_function_or_method' object is not iterable"
     ]
    }
   ],
   "source": [
    "d = {'a':1, 'b':2, 'c':3}\n",
    "\n",
    "for key, value in d.items:\n",
    "    print(f'{key}: {value}')"
   ]
  },
  {
   "cell_type": "code",
   "execution_count": 24,
   "id": "25059ff2",
   "metadata": {},
   "outputs": [],
   "source": [
    "def hello(name):\n",
    "    return f'Hello, {name}!'"
   ]
  },
  {
   "cell_type": "code",
   "execution_count": 25,
   "id": "78ae52bd",
   "metadata": {},
   "outputs": [
    {
     "data": {
      "text/plain": [
       "'Hello, Reuven!'"
      ]
     },
     "execution_count": 25,
     "metadata": {},
     "output_type": "execute_result"
    }
   ],
   "source": [
    "hello('Reuven')"
   ]
  },
  {
   "cell_type": "code",
   "execution_count": 26,
   "id": "9b8feda3",
   "metadata": {},
   "outputs": [
    {
     "ename": "TypeError",
     "evalue": "hello() missing 1 required positional argument: 'name'",
     "output_type": "error",
     "traceback": [
      "\u001b[0;31m---------------------------------------------------------------------------\u001b[0m",
      "\u001b[0;31mTypeError\u001b[0m                                 Traceback (most recent call last)",
      "\u001b[0;32m/var/folders/rr/0mnyyv811fs5vyp22gf4fxk00000gn/T/ipykernel_22121/1151411644.py\u001b[0m in \u001b[0;36m<module>\u001b[0;34m\u001b[0m\n\u001b[0;32m----> 1\u001b[0;31m \u001b[0mhello\u001b[0m\u001b[0;34m(\u001b[0m\u001b[0;34m)\u001b[0m\u001b[0;34m\u001b[0m\u001b[0;34m\u001b[0m\u001b[0m\n\u001b[0m",
      "\u001b[0;31mTypeError\u001b[0m: hello() missing 1 required positional argument: 'name'"
     ]
    }
   ],
   "source": [
    "hello() "
   ]
  },
  {
   "cell_type": "code",
   "execution_count": 27,
   "id": "89821f87",
   "metadata": {},
   "outputs": [
    {
     "name": "stdout",
     "output_type": "stream",
     "text": [
      "7\n"
     ]
    }
   ],
   "source": [
    "x = 5\n",
    "x = 7\n",
    "\n",
    "print(x)"
   ]
  },
  {
   "cell_type": "code",
   "execution_count": 28,
   "id": "26a68681",
   "metadata": {},
   "outputs": [
    {
     "ename": "TypeError",
     "evalue": "hello() missing 1 required positional argument: 'name'",
     "output_type": "error",
     "traceback": [
      "\u001b[0;31m---------------------------------------------------------------------------\u001b[0m",
      "\u001b[0;31mTypeError\u001b[0m                                 Traceback (most recent call last)",
      "\u001b[0;32m/var/folders/rr/0mnyyv811fs5vyp22gf4fxk00000gn/T/ipykernel_22121/1593924345.py\u001b[0m in \u001b[0;36m<module>\u001b[0;34m\u001b[0m\n\u001b[1;32m      2\u001b[0m     \u001b[0;32mreturn\u001b[0m \u001b[0;34mf'Hello, {name}!'\u001b[0m\u001b[0;34m\u001b[0m\u001b[0;34m\u001b[0m\u001b[0m\n\u001b[1;32m      3\u001b[0m \u001b[0;34m\u001b[0m\u001b[0m\n\u001b[0;32m----> 4\u001b[0;31m \u001b[0mhello\u001b[0m\u001b[0;34m(\u001b[0m\u001b[0;34m)\u001b[0m\u001b[0;34m\u001b[0m\u001b[0;34m\u001b[0m\u001b[0m\n\u001b[0m",
      "\u001b[0;31mTypeError\u001b[0m: hello() missing 1 required positional argument: 'name'"
     ]
    }
   ],
   "source": [
    "def hello(name):\n",
    "    return f'Hello, {name}!'\n",
    "\n",
    "hello()"
   ]
  },
  {
   "cell_type": "markdown",
   "id": "fde77265",
   "metadata": {},
   "source": [
    "# Argument types in Python\n",
    "\n",
    "When we call a function, we pass some number of arguments.  Python only knows about two types of arguments. The type of argument you pass influences how that argument will be assigned to the function's parameters.\n",
    "\n",
    "(Remember: Arguments are values, parameters are variables.)\n",
    "\n",
    "- Positional arguments -- these will be assigned to parameters based on their locations (positions).  The first argument goes to the first parameter, the second to the second, etc.\n",
    "- Keyword arguments -- These all have the form of `name=value`. They are assigned to parameters based on the names. The name in the keyword argument must (normally) match the name of a parameter."
   ]
  },
  {
   "cell_type": "code",
   "execution_count": 29,
   "id": "5f53143b",
   "metadata": {},
   "outputs": [
    {
     "data": {
      "text/plain": [
       "13"
      ]
     },
     "execution_count": 29,
     "metadata": {},
     "output_type": "execute_result"
    }
   ],
   "source": [
    "def add(first, second):\n",
    "    return first + second\n",
    "\n",
    "add(10, 3) # both positional\n",
    "\n",
    "# parameters: first second\n",
    "# arguments     10    3"
   ]
  },
  {
   "cell_type": "code",
   "execution_count": 30,
   "id": "2f45ede5",
   "metadata": {},
   "outputs": [
    {
     "ename": "TypeError",
     "evalue": "add() missing 1 required positional argument: 'second'",
     "output_type": "error",
     "traceback": [
      "\u001b[0;31m---------------------------------------------------------------------------\u001b[0m",
      "\u001b[0;31mTypeError\u001b[0m                                 Traceback (most recent call last)",
      "\u001b[0;32m/var/folders/rr/0mnyyv811fs5vyp22gf4fxk00000gn/T/ipykernel_22121/896788823.py\u001b[0m in \u001b[0;36m<module>\u001b[0;34m\u001b[0m\n\u001b[0;32m----> 1\u001b[0;31m \u001b[0madd\u001b[0m\u001b[0;34m(\u001b[0m\u001b[0;36m10\u001b[0m\u001b[0;34m)\u001b[0m    \u001b[0;31m#only one positional argument\u001b[0m\u001b[0;34m\u001b[0m\u001b[0;34m\u001b[0m\u001b[0m\n\u001b[0m",
      "\u001b[0;31mTypeError\u001b[0m: add() missing 1 required positional argument: 'second'"
     ]
    }
   ],
   "source": [
    "add(10)    #only one positional argument"
   ]
  },
  {
   "cell_type": "code",
   "execution_count": 31,
   "id": "e72277e9",
   "metadata": {},
   "outputs": [
    {
     "data": {
      "text/plain": [
       "('first', 'second')"
      ]
     },
     "execution_count": 31,
     "metadata": {},
     "output_type": "execute_result"
    }
   ],
   "source": [
    "# look inside of the function object to understand what Python is looking for\n",
    "# much of that is on the __code__ attribute in the function object\n",
    "\n",
    "add.__code__.co_varnames   # tuple of the local variables in our function"
   ]
  },
  {
   "cell_type": "code",
   "execution_count": 32,
   "id": "3b5e2cb6",
   "metadata": {},
   "outputs": [
    {
     "data": {
      "text/plain": [
       "2"
      ]
     },
     "execution_count": 32,
     "metadata": {},
     "output_type": "execute_result"
    }
   ],
   "source": [
    "add.__code__.co_argcount   # how many arguments does the function expect to get?"
   ]
  },
  {
   "cell_type": "code",
   "execution_count": 33,
   "id": "9322f43f",
   "metadata": {},
   "outputs": [
    {
     "data": {
      "text/plain": [
       "13"
      ]
     },
     "execution_count": 33,
     "metadata": {},
     "output_type": "execute_result"
    }
   ],
   "source": [
    "def add(first, second):\n",
    "    total = first + second\n",
    "    return total\n",
    "\n",
    "add(10, 3) # both positional\n"
   ]
  },
  {
   "cell_type": "code",
   "execution_count": 34,
   "id": "79c9d081",
   "metadata": {},
   "outputs": [
    {
     "data": {
      "text/plain": [
       "2"
      ]
     },
     "execution_count": 34,
     "metadata": {},
     "output_type": "execute_result"
    }
   ],
   "source": [
    "add.__code__.co_argcount"
   ]
  },
  {
   "cell_type": "code",
   "execution_count": 35,
   "id": "aee9efd9",
   "metadata": {},
   "outputs": [
    {
     "data": {
      "text/plain": [
       "('first', 'second', 'total')"
      ]
     },
     "execution_count": 35,
     "metadata": {},
     "output_type": "execute_result"
    }
   ],
   "source": [
    "add.__code__.co_varnames"
   ]
  },
  {
   "cell_type": "code",
   "execution_count": 36,
   "id": "f76622bd",
   "metadata": {},
   "outputs": [],
   "source": [
    "def hello(name):\n",
    "    return f'Hello, {name}!'"
   ]
  },
  {
   "cell_type": "code",
   "execution_count": 37,
   "id": "ffbb7e69",
   "metadata": {},
   "outputs": [
    {
     "data": {
      "text/plain": [
       "'Hello, world!'"
      ]
     },
     "execution_count": 37,
     "metadata": {},
     "output_type": "execute_result"
    }
   ],
   "source": [
    "hello('world')"
   ]
  },
  {
   "cell_type": "code",
   "execution_count": 38,
   "id": "af78ebf0",
   "metadata": {},
   "outputs": [
    {
     "data": {
      "text/plain": [
       "'Hello, 5!'"
      ]
     },
     "execution_count": 38,
     "metadata": {},
     "output_type": "execute_result"
    }
   ],
   "source": [
    "hello(5)"
   ]
  },
  {
   "cell_type": "code",
   "execution_count": 39,
   "id": "59eb21cc",
   "metadata": {},
   "outputs": [
    {
     "data": {
      "text/plain": [
       "'Hello, [10, 20, 30]!'"
      ]
     },
     "execution_count": 39,
     "metadata": {},
     "output_type": "execute_result"
    }
   ],
   "source": [
    "hello([10, 20, 30])"
   ]
  },
  {
   "cell_type": "code",
   "execution_count": 40,
   "id": "2a0ee78e",
   "metadata": {},
   "outputs": [
    {
     "data": {
      "text/plain": [
       "'Hello, <function hello at 0x11c313010>!'"
      ]
     },
     "execution_count": 40,
     "metadata": {},
     "output_type": "execute_result"
    }
   ],
   "source": [
    "hello(hello)"
   ]
  },
  {
   "cell_type": "code",
   "execution_count": 41,
   "id": "2920c34a",
   "metadata": {},
   "outputs": [],
   "source": [
    "# type hints\n",
    "\n",
    "# the function takes a string argument\n",
    "# the function returns a string\n",
    "def hello(name:str) -> str:\n",
    "    return f'Hello, {name}!'"
   ]
  },
  {
   "cell_type": "code",
   "execution_count": 42,
   "id": "03727c1d",
   "metadata": {},
   "outputs": [
    {
     "data": {
      "text/plain": [
       "'Hello, world!'"
      ]
     },
     "execution_count": 42,
     "metadata": {},
     "output_type": "execute_result"
    }
   ],
   "source": [
    "hello('world')"
   ]
  },
  {
   "cell_type": "code",
   "execution_count": 43,
   "id": "7e2fe48c",
   "metadata": {},
   "outputs": [
    {
     "data": {
      "text/plain": [
       "'Hello, 5!'"
      ]
     },
     "execution_count": 43,
     "metadata": {},
     "output_type": "execute_result"
    }
   ],
   "source": [
    "hello(5)"
   ]
  },
  {
   "cell_type": "code",
   "execution_count": 44,
   "id": "9cbe5385",
   "metadata": {},
   "outputs": [
    {
     "data": {
      "text/plain": [
       "'Hello, [10, 20, 30]!'"
      ]
     },
     "execution_count": 44,
     "metadata": {},
     "output_type": "execute_result"
    }
   ],
   "source": [
    "hello([10, 20, 30])"
   ]
  },
  {
   "cell_type": "code",
   "execution_count": 45,
   "id": "134cd0e7",
   "metadata": {},
   "outputs": [
    {
     "data": {
      "text/plain": [
       "{'name': str, 'return': str}"
      ]
     },
     "execution_count": 45,
     "metadata": {},
     "output_type": "execute_result"
    }
   ],
   "source": [
    "hello.__annotations__"
   ]
  },
  {
   "cell_type": "code",
   "execution_count": 46,
   "id": "54263672",
   "metadata": {},
   "outputs": [
    {
     "data": {
      "text/plain": [
       "7"
      ]
     },
     "execution_count": 46,
     "metadata": {},
     "output_type": "execute_result"
    }
   ],
   "source": [
    "def add(first, second):\n",
    "    total = first + second\n",
    "    return total\n",
    "\n",
    "# can I use keyword arguments?  YES!\n",
    "\n",
    "add(first=3, second=4)\n",
    "\n",
    "# parameters: first   second\n",
    "# arguments:  3         4"
   ]
  },
  {
   "cell_type": "code",
   "execution_count": 48,
   "id": "83f821bd",
   "metadata": {},
   "outputs": [
    {
     "data": {
      "text/plain": [
       "7"
      ]
     },
     "execution_count": 48,
     "metadata": {},
     "output_type": "execute_result"
    }
   ],
   "source": [
    "add(second=4, first=3)  # yes, this will work!\n",
    "\n",
    "# parameters:  first   second\n",
    "# assignments   3        4"
   ]
  },
  {
   "cell_type": "code",
   "execution_count": 49,
   "id": "a89bb2ed",
   "metadata": {},
   "outputs": [
    {
     "data": {
      "text/plain": [
       "7"
      ]
     },
     "execution_count": 49,
     "metadata": {},
     "output_type": "execute_result"
    }
   ],
   "source": [
    "# can I mix positional and keyword arguments?\n",
    "# yes, but ALL POSITIONAL must come before ALL KEYWORD\n",
    "\n",
    "add(4, second=3)"
   ]
  },
  {
   "cell_type": "code",
   "execution_count": 50,
   "id": "2ffe1358",
   "metadata": {},
   "outputs": [
    {
     "ename": "SyntaxError",
     "evalue": "positional argument follows keyword argument (587028117.py, line 2)",
     "output_type": "error",
     "traceback": [
      "\u001b[0;36m  File \u001b[0;32m\"/var/folders/rr/0mnyyv811fs5vyp22gf4fxk00000gn/T/ipykernel_22121/587028117.py\"\u001b[0;36m, line \u001b[0;32m2\u001b[0m\n\u001b[0;31m    add(first=4, 3)\u001b[0m\n\u001b[0m                  ^\u001b[0m\n\u001b[0;31mSyntaxError\u001b[0m\u001b[0;31m:\u001b[0m positional argument follows keyword argument\n"
     ]
    }
   ],
   "source": [
    "# cannot say\n",
    "add(first=4, 3)"
   ]
  },
  {
   "cell_type": "code",
   "execution_count": 51,
   "id": "9ea2205c",
   "metadata": {},
   "outputs": [
    {
     "ename": "TypeError",
     "evalue": "add() got multiple values for argument 'first'",
     "output_type": "error",
     "traceback": [
      "\u001b[0;31m---------------------------------------------------------------------------\u001b[0m",
      "\u001b[0;31mTypeError\u001b[0m                                 Traceback (most recent call last)",
      "\u001b[0;32m/var/folders/rr/0mnyyv811fs5vyp22gf4fxk00000gn/T/ipykernel_22121/3482291404.py\u001b[0m in \u001b[0;36m<module>\u001b[0;34m\u001b[0m\n\u001b[1;32m      1\u001b[0m \u001b[0;31m# what about this:\u001b[0m\u001b[0;34m\u001b[0m\u001b[0;34m\u001b[0m\u001b[0m\n\u001b[0;32m----> 2\u001b[0;31m \u001b[0madd\u001b[0m\u001b[0;34m(\u001b[0m\u001b[0;36m4\u001b[0m\u001b[0;34m,\u001b[0m \u001b[0mfirst\u001b[0m\u001b[0;34m=\u001b[0m\u001b[0;36m3\u001b[0m\u001b[0;34m)\u001b[0m\u001b[0;34m\u001b[0m\u001b[0;34m\u001b[0m\u001b[0m\n\u001b[0m",
      "\u001b[0;31mTypeError\u001b[0m: add() got multiple values for argument 'first'"
     ]
    }
   ],
   "source": [
    "# what about this:\n",
    "add(4, first=3)"
   ]
  },
  {
   "cell_type": "markdown",
   "id": "8fed9d1b",
   "metadata": {},
   "source": [
    "# Parameters, so far\n",
    "\n",
    "1. Regular (mandatory) parameters, can get values via either positional or keyword args"
   ]
  },
  {
   "cell_type": "code",
   "execution_count": 52,
   "id": "6aaa4d0b",
   "metadata": {},
   "outputs": [],
   "source": [
    "def add(first, second=10):\n",
    "    total = first + second\n",
    "    return total"
   ]
  },
  {
   "cell_type": "code",
   "execution_count": 53,
   "id": "6959f8cc",
   "metadata": {},
   "outputs": [
    {
     "data": {
      "text/plain": [
       "7"
      ]
     },
     "execution_count": 53,
     "metadata": {},
     "output_type": "execute_result"
    }
   ],
   "source": [
    "add(3, 4)\n",
    "\n",
    "# parameters: first second\n",
    "# arguments:    3     4"
   ]
  },
  {
   "cell_type": "code",
   "execution_count": 56,
   "id": "b2a07276",
   "metadata": {},
   "outputs": [
    {
     "data": {
      "text/plain": [
       "13"
      ]
     },
     "execution_count": 56,
     "metadata": {},
     "output_type": "execute_result"
    }
   ],
   "source": [
    "add(3)\n",
    "\n",
    "# parameters: first second\n",
    "# arguments:    3     10"
   ]
  },
  {
   "cell_type": "code",
   "execution_count": 54,
   "id": "23bf68d6",
   "metadata": {},
   "outputs": [
    {
     "data": {
      "text/plain": [
       "(10,)"
      ]
     },
     "execution_count": 54,
     "metadata": {},
     "output_type": "execute_result"
    }
   ],
   "source": [
    "# check for default arguments values\n",
    "add.__defaults__"
   ]
  },
  {
   "cell_type": "code",
   "execution_count": 55,
   "id": "821894a5",
   "metadata": {},
   "outputs": [
    {
     "data": {
      "text/plain": [
       "2"
      ]
     },
     "execution_count": 55,
     "metadata": {},
     "output_type": "execute_result"
    }
   ],
   "source": [
    "add.__code__.co_argcount"
   ]
  },
  {
   "cell_type": "code",
   "execution_count": 57,
   "id": "4462dc18",
   "metadata": {},
   "outputs": [],
   "source": [
    "def add(a, b, c, d=10, e=20, f=30):\n",
    "    return a + b + c + d + e + f"
   ]
  },
  {
   "cell_type": "code",
   "execution_count": 58,
   "id": "15f98b06",
   "metadata": {},
   "outputs": [
    {
     "data": {
      "text/plain": [
       "(10, 20, 30)"
      ]
     },
     "execution_count": 58,
     "metadata": {},
     "output_type": "execute_result"
    }
   ],
   "source": [
    "add.__defaults__"
   ]
  },
  {
   "cell_type": "code",
   "execution_count": 59,
   "id": "fc84ae34",
   "metadata": {},
   "outputs": [
    {
     "data": {
      "text/plain": [
       "21"
      ]
     },
     "execution_count": 59,
     "metadata": {},
     "output_type": "execute_result"
    }
   ],
   "source": [
    "add(1,2,3,4,5,6)  # no defaults needed"
   ]
  },
  {
   "cell_type": "code",
   "execution_count": 60,
   "id": "078ede6d",
   "metadata": {},
   "outputs": [
    {
     "data": {
      "text/plain": [
       "60"
      ]
     },
     "execution_count": 60,
     "metadata": {},
     "output_type": "execute_result"
    }
   ],
   "source": [
    "add(1,2,3,4)  # 2 defaults needed -- it takes the 2 from the end of __defaults__"
   ]
  },
  {
   "cell_type": "code",
   "execution_count": 61,
   "id": "d9a9f049",
   "metadata": {},
   "outputs": [
    {
     "data": {
      "text/plain": [
       "136"
      ]
     },
     "execution_count": 61,
     "metadata": {},
     "output_type": "execute_result"
    }
   ],
   "source": [
    "add(1,2,3,f=100)"
   ]
  },
  {
   "cell_type": "code",
   "execution_count": 62,
   "id": "2f0ee37a",
   "metadata": {},
   "outputs": [
    {
     "ename": "SyntaxError",
     "evalue": "non-default argument follows default argument (4250905537.py, line 1)",
     "output_type": "error",
     "traceback": [
      "\u001b[0;36m  File \u001b[0;32m\"/var/folders/rr/0mnyyv811fs5vyp22gf4fxk00000gn/T/ipykernel_22121/4250905537.py\"\u001b[0;36m, line \u001b[0;32m1\u001b[0m\n\u001b[0;31m    def add(first=10, second):\u001b[0m\n\u001b[0m                      ^\u001b[0m\n\u001b[0;31mSyntaxError\u001b[0m\u001b[0;31m:\u001b[0m non-default argument follows default argument\n"
     ]
    }
   ],
   "source": [
    "def add(first=10, second):\n",
    "    return first + second"
   ]
  },
  {
   "cell_type": "code",
   "execution_count": 64,
   "id": "26a62a8d",
   "metadata": {},
   "outputs": [
    {
     "data": {
      "text/plain": [
       "[10, 20, 30, 1]"
      ]
     },
     "execution_count": 64,
     "metadata": {},
     "output_type": "execute_result"
    }
   ],
   "source": [
    "def add_one(x):\n",
    "    x.append(1)\n",
    "    return x\n",
    "\n",
    "mylist = [10, 20, 30]\n",
    "add_one(mylist)   \n",
    "\n",
    "mylist   # what is mylist after passing it to our function?"
   ]
  },
  {
   "cell_type": "code",
   "execution_count": 65,
   "id": "37781f95",
   "metadata": {},
   "outputs": [
    {
     "data": {
      "text/plain": [
       "[10, 20, 30, 1, 1]"
      ]
     },
     "execution_count": 65,
     "metadata": {},
     "output_type": "execute_result"
    }
   ],
   "source": [
    "add_one(mylist)\n",
    "mylist"
   ]
  },
  {
   "cell_type": "code",
   "execution_count": 66,
   "id": "ea9c99e7",
   "metadata": {},
   "outputs": [
    {
     "data": {
      "text/plain": [
       "[10, 20, 30, 1, 1, 1]"
      ]
     },
     "execution_count": 66,
     "metadata": {},
     "output_type": "execute_result"
    }
   ],
   "source": [
    "# now, I'll have a default for x\n",
    "def add_one(x=[]):\n",
    "    x.append(1)\n",
    "    return x\n",
    "\n",
    "add_one(mylist)"
   ]
  },
  {
   "cell_type": "code",
   "execution_count": 67,
   "id": "9e3bf559",
   "metadata": {},
   "outputs": [
    {
     "data": {
      "text/plain": [
       "[1]"
      ]
     },
     "execution_count": 67,
     "metadata": {},
     "output_type": "execute_result"
    }
   ],
   "source": [
    "add_one()  # no arguments"
   ]
  },
  {
   "cell_type": "code",
   "execution_count": 68,
   "id": "86c652e5",
   "metadata": {},
   "outputs": [
    {
     "data": {
      "text/plain": [
       "[1, 1]"
      ]
     },
     "execution_count": 68,
     "metadata": {},
     "output_type": "execute_result"
    }
   ],
   "source": [
    "add_one()"
   ]
  },
  {
   "cell_type": "code",
   "execution_count": 69,
   "id": "3c1ebc50",
   "metadata": {},
   "outputs": [
    {
     "data": {
      "text/plain": [
       "[1, 1, 1]"
      ]
     },
     "execution_count": 69,
     "metadata": {},
     "output_type": "execute_result"
    }
   ],
   "source": [
    "add_one()"
   ]
  },
  {
   "cell_type": "code",
   "execution_count": 70,
   "id": "c6a79f78",
   "metadata": {},
   "outputs": [],
   "source": [
    "# Python thinks: When someone calls this function without any argument,\n",
    "# let's assign x the empty list we were passed at definition time!\n",
    "\n",
    "def add_one(x=[]):   # never, ever use mutable default values!\n",
    "    x.append(1)\n",
    "    return x\n"
   ]
  },
  {
   "cell_type": "code",
   "execution_count": 71,
   "id": "66611218",
   "metadata": {},
   "outputs": [
    {
     "data": {
      "text/plain": [
       "([],)"
      ]
     },
     "execution_count": 71,
     "metadata": {},
     "output_type": "execute_result"
    }
   ],
   "source": [
    "add_one.__defaults__"
   ]
  },
  {
   "cell_type": "code",
   "execution_count": 72,
   "id": "4bef6753",
   "metadata": {},
   "outputs": [
    {
     "data": {
      "text/plain": [
       "[1]"
      ]
     },
     "execution_count": 72,
     "metadata": {},
     "output_type": "execute_result"
    }
   ],
   "source": [
    "add_one()   # no argument, so __defaults__[0] is assigned to x (the local variable)"
   ]
  },
  {
   "cell_type": "code",
   "execution_count": 73,
   "id": "a69bd99e",
   "metadata": {},
   "outputs": [
    {
     "data": {
      "text/plain": [
       "([1],)"
      ]
     },
     "execution_count": 73,
     "metadata": {},
     "output_type": "execute_result"
    }
   ],
   "source": [
    "add_one.__defaults__"
   ]
  },
  {
   "cell_type": "code",
   "execution_count": 75,
   "id": "433592a1",
   "metadata": {},
   "outputs": [],
   "source": [
    "def add_one(x=None):  \n",
    "    if x is None:\n",
    "        x = []    # this list is defined and assigned at RUN TIME, not compile time\n",
    "    x.append(1)\n",
    "    return x"
   ]
  },
  {
   "cell_type": "code",
   "execution_count": 76,
   "id": "4c6813eb",
   "metadata": {},
   "outputs": [
    {
     "data": {
      "text/plain": [
       "[1]"
      ]
     },
     "execution_count": 76,
     "metadata": {},
     "output_type": "execute_result"
    }
   ],
   "source": [
    "add_one()"
   ]
  },
  {
   "cell_type": "code",
   "execution_count": 77,
   "id": "06dd436b",
   "metadata": {},
   "outputs": [
    {
     "data": {
      "text/plain": [
       "[1]"
      ]
     },
     "execution_count": 77,
     "metadata": {},
     "output_type": "execute_result"
    }
   ],
   "source": [
    "add_one()"
   ]
  },
  {
   "cell_type": "code",
   "execution_count": 78,
   "id": "7eaebd62",
   "metadata": {},
   "outputs": [
    {
     "data": {
      "text/plain": [
       "[1]"
      ]
     },
     "execution_count": 78,
     "metadata": {},
     "output_type": "execute_result"
    }
   ],
   "source": [
    "add_one()"
   ]
  },
  {
   "cell_type": "code",
   "execution_count": null,
   "id": "9ce114f2",
   "metadata": {},
   "outputs": [],
   "source": []
  },
  {
   "cell_type": "markdown",
   "id": "bd33cb49",
   "metadata": {},
   "source": [
    "# Parameters, so far\n",
    "\n",
    "1. Regular (mandatory) parameters, can get values via either positional or keyword args\n",
    "2. Optional parameters, which have default values"
   ]
  },
  {
   "cell_type": "code",
   "execution_count": 80,
   "id": "64d56609",
   "metadata": {},
   "outputs": [],
   "source": [
    "def mysum(numbers):\n",
    "    print(f'{numbers=}')\n",
    "    total = 0\n",
    "    \n",
    "    for one_number in numbers:\n",
    "        total += one_number\n",
    "        \n",
    "    return total"
   ]
  },
  {
   "cell_type": "code",
   "execution_count": 81,
   "id": "1fd32e37",
   "metadata": {},
   "outputs": [
    {
     "name": "stdout",
     "output_type": "stream",
     "text": [
      "numbers=[10, 20, 30, 40, 50]\n"
     ]
    },
    {
     "data": {
      "text/plain": [
       "150"
      ]
     },
     "execution_count": 81,
     "metadata": {},
     "output_type": "execute_result"
    }
   ],
   "source": [
    "mysum([10, 20, 30, 40, 50])"
   ]
  },
  {
   "cell_type": "code",
   "execution_count": 82,
   "id": "11bec7c1",
   "metadata": {},
   "outputs": [
    {
     "name": "stdout",
     "output_type": "stream",
     "text": [
      "numbers=(100, 200, 300)\n"
     ]
    },
    {
     "data": {
      "text/plain": [
       "600"
      ]
     },
     "execution_count": 82,
     "metadata": {},
     "output_type": "execute_result"
    }
   ],
   "source": [
    "mysum((100, 200, 300))"
   ]
  },
  {
   "cell_type": "code",
   "execution_count": 83,
   "id": "0be290b0",
   "metadata": {},
   "outputs": [
    {
     "ename": "TypeError",
     "evalue": "mysum() takes 1 positional argument but 5 were given",
     "output_type": "error",
     "traceback": [
      "\u001b[0;31m---------------------------------------------------------------------------\u001b[0m",
      "\u001b[0;31mTypeError\u001b[0m                                 Traceback (most recent call last)",
      "\u001b[0;32m/var/folders/rr/0mnyyv811fs5vyp22gf4fxk00000gn/T/ipykernel_22121/636296544.py\u001b[0m in \u001b[0;36m<module>\u001b[0;34m\u001b[0m\n\u001b[1;32m      2\u001b[0m \u001b[0;31m# a list or tuple of numbers?\u001b[0m\u001b[0;34m\u001b[0m\u001b[0;34m\u001b[0m\u001b[0m\n\u001b[1;32m      3\u001b[0m \u001b[0;34m\u001b[0m\u001b[0m\n\u001b[0;32m----> 4\u001b[0;31m \u001b[0mmysum\u001b[0m\u001b[0;34m(\u001b[0m\u001b[0;36m10\u001b[0m\u001b[0;34m,\u001b[0m \u001b[0;36m20\u001b[0m\u001b[0;34m,\u001b[0m \u001b[0;36m30\u001b[0m\u001b[0;34m,\u001b[0m \u001b[0;36m40\u001b[0m\u001b[0;34m,\u001b[0m \u001b[0;36m50\u001b[0m\u001b[0;34m)\u001b[0m\u001b[0;34m\u001b[0m\u001b[0;34m\u001b[0m\u001b[0m\n\u001b[0m",
      "\u001b[0;31mTypeError\u001b[0m: mysum() takes 1 positional argument but 5 were given"
     ]
    }
   ],
   "source": [
    "# wouldn't it be nice if I could just call \"mysum\" with a bunch of numeric arguments, not\n",
    "# a list or tuple of numbers?\n",
    "\n",
    "mysum(10, 20, 30, 40, 50)"
   ]
  },
  {
   "cell_type": "markdown",
   "id": "97ce5218",
   "metadata": {},
   "source": [
    "# `*args`  (\"splat args\")\n",
    "\n",
    "If we have a parameter in our function whose name is preceded by `*` (the name is often `args`, but doesn't have to be), then:\n",
    "\n",
    "- That parameter gets all of the *positional arguments* that no other parameter took\n",
    "- That parameter is a tuple.\n",
    "- Comes after all other positional parameters"
   ]
  },
  {
   "cell_type": "code",
   "execution_count": 84,
   "id": "44bd90b4",
   "metadata": {},
   "outputs": [],
   "source": [
    "def myfunc(a, b, *args):\n",
    "    return f'{a=}, {b=}, {args=}'"
   ]
  },
  {
   "cell_type": "code",
   "execution_count": 85,
   "id": "d8027ed5",
   "metadata": {},
   "outputs": [
    {
     "data": {
      "text/plain": [
       "'a=10, b=20, args=(30, 40, 50)'"
      ]
     },
     "execution_count": 85,
     "metadata": {},
     "output_type": "execute_result"
    }
   ],
   "source": [
    "myfunc(10, 20, 30, 40, 50)"
   ]
  },
  {
   "cell_type": "code",
   "execution_count": 86,
   "id": "55071ab8",
   "metadata": {},
   "outputs": [
    {
     "data": {
      "text/plain": [
       "'a=10, b=20, args=()'"
      ]
     },
     "execution_count": 86,
     "metadata": {},
     "output_type": "execute_result"
    }
   ],
   "source": [
    "myfunc(10, 20)"
   ]
  },
  {
   "cell_type": "code",
   "execution_count": 87,
   "id": "021e6e1c",
   "metadata": {},
   "outputs": [],
   "source": [
    "def mysum(*numbers):\n",
    "    print(f'{numbers=}')\n",
    "    total = 0\n",
    "    \n",
    "    for one_number in numbers:\n",
    "        total += one_number\n",
    "        \n",
    "    return total"
   ]
  },
  {
   "cell_type": "code",
   "execution_count": 88,
   "id": "c441aa7b",
   "metadata": {},
   "outputs": [
    {
     "data": {
      "text/plain": [
       "0"
      ]
     },
     "execution_count": 88,
     "metadata": {},
     "output_type": "execute_result"
    }
   ],
   "source": [
    "mysum.__code__.co_argcount"
   ]
  },
  {
   "cell_type": "code",
   "execution_count": 89,
   "id": "1aa902e4",
   "metadata": {},
   "outputs": [
    {
     "name": "stdout",
     "output_type": "stream",
     "text": [
      "Name:              mysum\n",
      "Filename:          /var/folders/rr/0mnyyv811fs5vyp22gf4fxk00000gn/T/ipykernel_22121/4038091390.py\n",
      "Argument count:    0\n",
      "Positional-only arguments: 0\n",
      "Kw-only arguments: 0\n",
      "Number of locals:  3\n",
      "Stack size:        3\n",
      "Flags:             OPTIMIZED, NEWLOCALS, VARARGS, NOFREE\n",
      "Constants:\n",
      "   0: None\n",
      "   1: 'numbers='\n",
      "   2: 0\n",
      "Names:\n",
      "   0: print\n",
      "Variable names:\n",
      "   0: numbers\n",
      "   1: total\n",
      "   2: one_number\n"
     ]
    }
   ],
   "source": [
    "import dis   # disassembler for Python!\n",
    "dis.show_code(mysum)"
   ]
  },
  {
   "cell_type": "code",
   "execution_count": null,
   "id": "f0865155",
   "metadata": {},
   "outputs": [],
   "source": []
  },
  {
   "cell_type": "code",
   "execution_count": 90,
   "id": "34c1fcd3",
   "metadata": {},
   "outputs": [],
   "source": [
    "def mysum(*numbers):\n",
    "    print(f'{numbers=}')\n",
    "    total = 0\n",
    "    \n",
    "    for one_number in numbers:\n",
    "        total += one_number\n",
    "        \n",
    "    return total"
   ]
  },
  {
   "cell_type": "code",
   "execution_count": 91,
   "id": "9269198b",
   "metadata": {},
   "outputs": [
    {
     "name": "stdout",
     "output_type": "stream",
     "text": [
      "numbers=(10, 20, 30)\n"
     ]
    },
    {
     "data": {
      "text/plain": [
       "60"
      ]
     },
     "execution_count": 91,
     "metadata": {},
     "output_type": "execute_result"
    }
   ],
   "source": [
    "mysum(10, 20, 30)"
   ]
  },
  {
   "cell_type": "code",
   "execution_count": 92,
   "id": "a8ac67cf",
   "metadata": {},
   "outputs": [
    {
     "name": "stdout",
     "output_type": "stream",
     "text": [
      "numbers=([10, 20, 30],)\n"
     ]
    },
    {
     "ename": "TypeError",
     "evalue": "unsupported operand type(s) for +=: 'int' and 'list'",
     "output_type": "error",
     "traceback": [
      "\u001b[0;31m---------------------------------------------------------------------------\u001b[0m",
      "\u001b[0;31mTypeError\u001b[0m                                 Traceback (most recent call last)",
      "\u001b[0;32m/var/folders/rr/0mnyyv811fs5vyp22gf4fxk00000gn/T/ipykernel_22121/2210437191.py\u001b[0m in \u001b[0;36m<module>\u001b[0;34m\u001b[0m\n\u001b[0;32m----> 1\u001b[0;31m \u001b[0mmysum\u001b[0m\u001b[0;34m(\u001b[0m\u001b[0;34m[\u001b[0m\u001b[0;36m10\u001b[0m\u001b[0;34m,\u001b[0m \u001b[0;36m20\u001b[0m\u001b[0;34m,\u001b[0m \u001b[0;36m30\u001b[0m\u001b[0;34m]\u001b[0m\u001b[0;34m)\u001b[0m  \u001b[0;31m# can I pass a list?\u001b[0m\u001b[0;34m\u001b[0m\u001b[0;34m\u001b[0m\u001b[0m\n\u001b[0m",
      "\u001b[0;32m/var/folders/rr/0mnyyv811fs5vyp22gf4fxk00000gn/T/ipykernel_22121/4038091390.py\u001b[0m in \u001b[0;36mmysum\u001b[0;34m(*numbers)\u001b[0m\n\u001b[1;32m      4\u001b[0m \u001b[0;34m\u001b[0m\u001b[0m\n\u001b[1;32m      5\u001b[0m     \u001b[0;32mfor\u001b[0m \u001b[0mone_number\u001b[0m \u001b[0;32min\u001b[0m \u001b[0mnumbers\u001b[0m\u001b[0;34m:\u001b[0m\u001b[0;34m\u001b[0m\u001b[0;34m\u001b[0m\u001b[0m\n\u001b[0;32m----> 6\u001b[0;31m         \u001b[0mtotal\u001b[0m \u001b[0;34m+=\u001b[0m \u001b[0mone_number\u001b[0m\u001b[0;34m\u001b[0m\u001b[0;34m\u001b[0m\u001b[0m\n\u001b[0m\u001b[1;32m      7\u001b[0m \u001b[0;34m\u001b[0m\u001b[0m\n\u001b[1;32m      8\u001b[0m     \u001b[0;32mreturn\u001b[0m \u001b[0mtotal\u001b[0m\u001b[0;34m\u001b[0m\u001b[0;34m\u001b[0m\u001b[0m\n",
      "\u001b[0;31mTypeError\u001b[0m: unsupported operand type(s) for +=: 'int' and 'list'"
     ]
    }
   ],
   "source": [
    "mysum([10, 20, 30])  # can I pass a list?"
   ]
  },
  {
   "cell_type": "code",
   "execution_count": 93,
   "id": "1dc45085",
   "metadata": {},
   "outputs": [
    {
     "name": "stdout",
     "output_type": "stream",
     "text": [
      "numbers=(10, 20, 30)\n"
     ]
    },
    {
     "data": {
      "text/plain": [
       "60"
      ]
     },
     "execution_count": 93,
     "metadata": {},
     "output_type": "execute_result"
    }
   ],
   "source": [
    "x = [10, 20, 30]    # I really want to pass this as an argument to \"mysum\"\n",
    "\n",
    "# I call this \"unrolling\" -- using * before an argument, to remove its parentheses\n",
    "\n",
    "mysum(*x)   # when we call a function, we can put * before any iterable.  This create arguments from its elements"
   ]
  },
  {
   "cell_type": "code",
   "execution_count": 94,
   "id": "c90fafc5",
   "metadata": {},
   "outputs": [
    {
     "name": "stdout",
     "output_type": "stream",
     "text": [
      "numbers=(100, 200, 300)\n"
     ]
    },
    {
     "data": {
      "text/plain": [
       "600"
      ]
     },
     "execution_count": 94,
     "metadata": {},
     "output_type": "execute_result"
    }
   ],
   "source": [
    "t = (100, 200, 300)\n",
    "mysum(*t)"
   ]
  },
  {
   "cell_type": "code",
   "execution_count": 95,
   "id": "f76cec83",
   "metadata": {},
   "outputs": [
    {
     "ename": "TypeError",
     "evalue": "add() missing 1 required positional argument: 'second'",
     "output_type": "error",
     "traceback": [
      "\u001b[0;31m---------------------------------------------------------------------------\u001b[0m",
      "\u001b[0;31mTypeError\u001b[0m                                 Traceback (most recent call last)",
      "\u001b[0;32m/var/folders/rr/0mnyyv811fs5vyp22gf4fxk00000gn/T/ipykernel_22121/3693625899.py\u001b[0m in \u001b[0;36m<module>\u001b[0;34m\u001b[0m\n\u001b[1;32m      4\u001b[0m \u001b[0;34m\u001b[0m\u001b[0m\n\u001b[1;32m      5\u001b[0m \u001b[0mt\u001b[0m \u001b[0;34m=\u001b[0m \u001b[0;34m(\u001b[0m\u001b[0;36m10\u001b[0m\u001b[0;34m,\u001b[0m \u001b[0;36m3\u001b[0m\u001b[0;34m)\u001b[0m\u001b[0;34m\u001b[0m\u001b[0;34m\u001b[0m\u001b[0m\n\u001b[0;32m----> 6\u001b[0;31m \u001b[0madd\u001b[0m\u001b[0;34m(\u001b[0m\u001b[0mt\u001b[0m\u001b[0;34m)\u001b[0m  \u001b[0;31m# add expects to get 2 arguments\u001b[0m\u001b[0;34m\u001b[0m\u001b[0;34m\u001b[0m\u001b[0m\n\u001b[0m",
      "\u001b[0;31mTypeError\u001b[0m: add() missing 1 required positional argument: 'second'"
     ]
    }
   ],
   "source": [
    "def add(first, second):\n",
    "    total = first + second\n",
    "    return total\n",
    "\n",
    "t = (10, 3)\n",
    "add(t)  # add expects to get 2 arguments"
   ]
  },
  {
   "cell_type": "code",
   "execution_count": 96,
   "id": "492a6993",
   "metadata": {},
   "outputs": [
    {
     "data": {
      "text/plain": [
       "13"
      ]
     },
     "execution_count": 96,
     "metadata": {},
     "output_type": "execute_result"
    }
   ],
   "source": [
    "add(*t)   # this takes the elements of t, and makes them the arguments to add"
   ]
  },
  {
   "cell_type": "code",
   "execution_count": 97,
   "id": "7693e3c8",
   "metadata": {},
   "outputs": [],
   "source": [
    "a,b = t   # unpacking"
   ]
  },
  {
   "cell_type": "code",
   "execution_count": 98,
   "id": "edccdb1b",
   "metadata": {},
   "outputs": [
    {
     "data": {
      "text/plain": [
       "10"
      ]
     },
     "execution_count": 98,
     "metadata": {},
     "output_type": "execute_result"
    }
   ],
   "source": [
    "a\n"
   ]
  },
  {
   "cell_type": "code",
   "execution_count": 99,
   "id": "bbbf86f8",
   "metadata": {},
   "outputs": [
    {
     "data": {
      "text/plain": [
       "3"
      ]
     },
     "execution_count": 99,
     "metadata": {},
     "output_type": "execute_result"
    }
   ],
   "source": [
    "b"
   ]
  },
  {
   "cell_type": "code",
   "execution_count": 101,
   "id": "75e365d3",
   "metadata": {},
   "outputs": [],
   "source": [
    "a, *all = t"
   ]
  },
  {
   "cell_type": "code",
   "execution_count": 102,
   "id": "26483f34",
   "metadata": {},
   "outputs": [
    {
     "data": {
      "text/plain": [
       "10"
      ]
     },
     "execution_count": 102,
     "metadata": {},
     "output_type": "execute_result"
    }
   ],
   "source": [
    "a"
   ]
  },
  {
   "cell_type": "code",
   "execution_count": 103,
   "id": "dcb223c7",
   "metadata": {},
   "outputs": [
    {
     "data": {
      "text/plain": [
       "[3]"
      ]
     },
     "execution_count": 103,
     "metadata": {},
     "output_type": "execute_result"
    }
   ],
   "source": [
    "all"
   ]
  },
  {
   "cell_type": "code",
   "execution_count": 104,
   "id": "c308fb0e",
   "metadata": {},
   "outputs": [],
   "source": [
    "# don't do this at home... or at work\n",
    "(*a,) = t"
   ]
  },
  {
   "cell_type": "code",
   "execution_count": 105,
   "id": "a3369030",
   "metadata": {},
   "outputs": [
    {
     "data": {
      "text/plain": [
       "[10, 3]"
      ]
     },
     "execution_count": 105,
     "metadata": {},
     "output_type": "execute_result"
    }
   ],
   "source": [
    "a"
   ]
  },
  {
   "cell_type": "code",
   "execution_count": 106,
   "id": "e06e0c4c",
   "metadata": {},
   "outputs": [
    {
     "data": {
      "text/plain": [
       "(10, 3)"
      ]
     },
     "execution_count": 106,
     "metadata": {},
     "output_type": "execute_result"
    }
   ],
   "source": [
    "t"
   ]
  },
  {
   "cell_type": "markdown",
   "id": "dbb2779f",
   "metadata": {},
   "source": [
    "# Exercise: `all_lines`\n",
    "\n",
    "1. Write a function, `all_lines`, which takes one mandatory argument and any number of additional arguments:\n",
    "    - Mandatory argument is a string, the name of a file to which you'll write\n",
    "    - Any number of optional arguments are also strings, names of files from which you'll read\n",
    "2. When you call the function, all of the lines of the input files are written into the output file.  Write all of the lines of the first input file, then all of the lines of the second input file, etc.\n",
    "\n",
    "Example:\n",
    "\n",
    "```python\n",
    "all_lines('output.txt', 'infile1.txt', 'infile2.txt')  \n",
    "```"
   ]
  },
  {
   "cell_type": "code",
   "execution_count": 107,
   "id": "f00d4869",
   "metadata": {},
   "outputs": [
    {
     "name": "stdout",
     "output_type": "stream",
     "text": [
      "zsh:1: no matches found: *.txt\r\n"
     ]
    }
   ],
   "source": [
    "!ls *.txt"
   ]
  },
  {
   "cell_type": "code",
   "execution_count": 108,
   "id": "fe4d93b1",
   "metadata": {},
   "outputs": [
    {
     "name": "stdout",
     "output_type": "stream",
     "text": [
      "linux-etc-passwd.txt  mini-access-log.txt  nums.txt  shoe-data.txt\r\n"
     ]
    }
   ],
   "source": [
    "!ls *.txt"
   ]
  },
  {
   "cell_type": "code",
   "execution_count": 111,
   "id": "bcdb89c6",
   "metadata": {},
   "outputs": [],
   "source": [
    "def all_lines(outfilename, *infilenames):\n",
    "    with open(outfilename, 'w') as outfile:     # open for writing, auto-close at end of block\n",
    "        for one_filename in infilenames:        # iterate over all input filenames\n",
    "            print(f'Now writing {one_filename}')\n",
    "            for one_line in open(one_filename): # iterate over each line in the current file\n",
    "                outfile.write(one_line)         # write the current line to the output file"
   ]
  },
  {
   "cell_type": "code",
   "execution_count": 112,
   "id": "63d74b2f",
   "metadata": {},
   "outputs": [
    {
     "name": "stdout",
     "output_type": "stream",
     "text": [
      "Now writing /etc/passwd\n",
      "Now writing mini-access-log.txt\n",
      "Now writing nums.txt\n"
     ]
    }
   ],
   "source": [
    "all_lines('output.txt', '/etc/passwd', 'mini-access-log.txt', 'nums.txt')"
   ]
  },
  {
   "cell_type": "code",
   "execution_count": 113,
   "id": "c84603be",
   "metadata": {
    "collapsed": true
   },
   "outputs": [
    {
     "name": "stdout",
     "output_type": "stream",
     "text": [
      "##\r\n",
      "# User Database\r\n",
      "# \r\n",
      "# Note that this file is consulted directly only when the system is running\r\n",
      "# in single-user mode.  At other times this information is provided by\r\n",
      "# Open Directory.\r\n",
      "#\r\n",
      "# See the opendirectoryd(8) man page for additional information about\r\n",
      "# Open Directory.\r\n",
      "##\r\n",
      "nobody:*:-2:-2:Unprivileged User:/var/empty:/usr/bin/false\r\n",
      "root:*:0:0:System Administrator:/var/root:/bin/sh\r\n",
      "daemon:*:1:1:System Services:/var/root:/usr/bin/false\r\n",
      "_uucp:*:4:4:Unix to Unix Copy Protocol:/var/spool/uucp:/usr/sbin/uucico\r\n",
      "_taskgated:*:13:13:Task Gate Daemon:/var/empty:/usr/bin/false\r\n",
      "_networkd:*:24:24:Network Services:/var/networkd:/usr/bin/false\r\n",
      "_installassistant:*:25:25:Install Assistant:/var/empty:/usr/bin/false\r\n",
      "_lp:*:26:26:Printing Services:/var/spool/cups:/usr/bin/false\r\n",
      "_postfix:*:27:27:Postfix Mail Server:/var/spool/postfix:/usr/bin/false\r\n",
      "_scsd:*:31:31:Service Configuration Service:/var/empty:/usr/bin/false\r\n",
      "_ces:*:32:32:Certificate Enrollment Service:/var/empty:/usr/bin/false\r\n",
      "_appstore:*:33:33:Mac App Store Service:/var/db/appstore:/usr/bin/false\r\n",
      "_mcxalr:*:54:54:MCX AppLaunch:/var/empty:/usr/bin/false\r\n",
      "_appleevents:*:55:55:AppleEvents Daemon:/var/empty:/usr/bin/false\r\n",
      "_geod:*:56:56:Geo Services Daemon:/var/db/geod:/usr/bin/false\r\n",
      "_devdocs:*:59:59:Developer Documentation:/var/empty:/usr/bin/false\r\n",
      "_sandbox:*:60:60:Seatbelt:/var/empty:/usr/bin/false\r\n",
      "_mdnsresponder:*:65:65:mDNSResponder:/var/empty:/usr/bin/false\r\n",
      "_ard:*:67:67:Apple Remote Desktop:/var/empty:/usr/bin/false\r\n",
      "_www:*:70:70:World Wide Web Server:/Library/WebServer:/usr/bin/false\r\n",
      "_eppc:*:71:71:Apple Events User:/var/empty:/usr/bin/false\r\n",
      "_cvs:*:72:72:CVS Server:/var/empty:/usr/bin/false\r\n",
      "_svn:*:73:73:SVN Server:/var/empty:/usr/bin/false\r\n",
      "_mysql:*:74:74:MySQL Server:/var/empty:/usr/bin/false\r\n",
      "_sshd:*:75:75:sshd Privilege separation:/var/empty:/usr/bin/false\r\n",
      "_qtss:*:76:76:QuickTime Streaming Server:/var/empty:/usr/bin/false\r\n",
      "_cyrus:*:77:6:Cyrus Administrator:/var/imap:/usr/bin/false\r\n",
      "_mailman:*:78:78:Mailman List Server:/var/empty:/usr/bin/false\r\n",
      "_appserver:*:79:79:Application Server:/var/empty:/usr/bin/false\r\n",
      "_clamav:*:82:82:ClamAV Daemon:/var/virusmails:/usr/bin/false\r\n",
      "_amavisd:*:83:83:AMaViS Daemon:/var/virusmails:/usr/bin/false\r\n",
      "_jabber:*:84:84:Jabber XMPP Server:/var/empty:/usr/bin/false\r\n",
      "_appowner:*:87:87:Application Owner:/var/empty:/usr/bin/false\r\n",
      "_windowserver:*:88:88:WindowServer:/var/empty:/usr/bin/false\r\n",
      "_spotlight:*:89:89:Spotlight:/var/empty:/usr/bin/false\r\n",
      "_tokend:*:91:91:Token Daemon:/var/empty:/usr/bin/false\r\n",
      "_securityagent:*:92:92:SecurityAgent:/var/db/securityagent:/usr/bin/false\r\n",
      "_calendar:*:93:93:Calendar:/var/empty:/usr/bin/false\r\n",
      "_teamsserver:*:94:94:TeamsServer:/var/teamsserver:/usr/bin/false\r\n",
      "_update_sharing:*:95:-2:Update Sharing:/var/empty:/usr/bin/false\r\n",
      "_installer:*:96:-2:Installer:/var/empty:/usr/bin/false\r\n",
      "_atsserver:*:97:97:ATS Server:/var/empty:/usr/bin/false\r\n",
      "_ftp:*:98:-2:FTP Daemon:/var/empty:/usr/bin/false\r\n",
      "_unknown:*:99:99:Unknown User:/var/empty:/usr/bin/false\r\n",
      "_softwareupdate:*:200:200:Software Update Service:/var/db/softwareupdate:/usr/bin/false\r\n",
      "_coreaudiod:*:202:202:Core Audio Daemon:/var/empty:/usr/bin/false\r\n",
      "_screensaver:*:203:203:Screensaver:/var/empty:/usr/bin/false\r\n",
      "_locationd:*:205:205:Location Daemon:/var/db/locationd:/usr/bin/false\r\n",
      "_trustevaluationagent:*:208:208:Trust Evaluation Agent:/var/empty:/usr/bin/false\r\n",
      "_timezone:*:210:210:AutoTimeZoneDaemon:/var/empty:/usr/bin/false\r\n",
      "_lda:*:211:211:Local Delivery Agent:/var/empty:/usr/bin/false\r\n",
      "_cvmsroot:*:212:212:CVMS Root:/var/empty:/usr/bin/false\r\n",
      "_usbmuxd:*:213:213:iPhone OS Device Helper:/var/db/lockdown:/usr/bin/false\r\n",
      "_dovecot:*:214:6:Dovecot Administrator:/var/empty:/usr/bin/false\r\n",
      "_dpaudio:*:215:215:DP Audio:/var/empty:/usr/bin/false\r\n",
      "_postgres:*:216:216:PostgreSQL Server:/var/empty:/usr/bin/false\r\n",
      "_krbtgt:*:217:-2:Kerberos Ticket Granting Ticket:/var/empty:/usr/bin/false\r\n",
      "_kadmin_admin:*:218:-2:Kerberos Admin Service:/var/empty:/usr/bin/false\r\n",
      "_kadmin_changepw:*:219:-2:Kerberos Change Password Service:/var/empty:/usr/bin/false\r\n",
      "_devicemgr:*:220:220:Device Management Server:/var/empty:/usr/bin/false\r\n",
      "_webauthserver:*:221:221:Web Auth Server:/var/empty:/usr/bin/false\r\n",
      "_netbios:*:222:222:NetBIOS:/var/empty:/usr/bin/false\r\n",
      "_warmd:*:224:224:Warm Daemon:/var/empty:/usr/bin/false\r\n",
      "_dovenull:*:227:227:Dovecot Authentication:/var/empty:/usr/bin/false\r\n",
      "_netstatistics:*:228:228:Network Statistics Daemon:/var/empty:/usr/bin/false\r\n",
      "_avbdeviced:*:229:-2:Ethernet AVB Device Daemon:/var/empty:/usr/bin/false\r\n",
      "_krb_krbtgt:*:230:-2:Open Directory Kerberos Ticket Granting Ticket:/var/empty:/usr/bin/false\r\n",
      "_krb_kadmin:*:231:-2:Open Directory Kerberos Admin Service:/var/empty:/usr/bin/false\r\n",
      "_krb_changepw:*:232:-2:Open Directory Kerberos Change Password Service:/var/empty:/usr/bin/false\r\n",
      "_krb_kerberos:*:233:-2:Open Directory Kerberos:/var/empty:/usr/bin/false\r\n",
      "_krb_anonymous:*:234:-2:Open Directory Kerberos Anonymous:/var/empty:/usr/bin/false\r\n",
      "_assetcache:*:235:235:Asset Cache Service:/var/empty:/usr/bin/false\r\n",
      "_coremediaiod:*:236:236:Core Media IO Daemon:/var/empty:/usr/bin/false\r\n",
      "_launchservicesd:*:239:239:_launchservicesd:/var/empty:/usr/bin/false\r\n",
      "_iconservices:*:240:240:IconServices:/var/empty:/usr/bin/false\r\n",
      "_distnote:*:241:241:DistNote:/var/empty:/usr/bin/false\r\n",
      "_nsurlsessiond:*:242:242:NSURLSession Daemon:/var/db/nsurlsessiond:/usr/bin/false\r\n",
      "_displaypolicyd:*:244:244:Display Policy Daemon:/var/empty:/usr/bin/false\r\n",
      "_astris:*:245:245:Astris Services:/var/db/astris:/usr/bin/false\r\n",
      "_krbfast:*:246:-2:Kerberos FAST Account:/var/empty:/usr/bin/false\r\n",
      "_gamecontrollerd:*:247:247:Game Controller Daemon:/var/empty:/usr/bin/false\r\n",
      "_mbsetupuser:*:248:248:Setup User:/var/setup:/bin/bash\r\n",
      "_ondemand:*:249:249:On Demand Resource Daemon:/var/db/ondemand:/usr/bin/false\r\n",
      "_xserverdocs:*:251:251:macOS Server Documents Service:/var/empty:/usr/bin/false\r\n",
      "_wwwproxy:*:252:252:WWW Proxy:/var/empty:/usr/bin/false\r\n",
      "_mobileasset:*:253:253:MobileAsset User:/var/ma:/usr/bin/false\r\n",
      "_findmydevice:*:254:254:Find My Device Daemon:/var/db/findmydevice:/usr/bin/false\r\n",
      "_datadetectors:*:257:257:DataDetectors:/var/db/datadetectors:/usr/bin/false\r\n",
      "_captiveagent:*:258:258:captiveagent:/var/empty:/usr/bin/false\r\n",
      "_ctkd:*:259:259:ctkd Account:/var/empty:/usr/bin/false\r\n",
      "_applepay:*:260:260:applepay Account:/var/db/applepay:/usr/bin/false\r\n",
      "_hidd:*:261:261:HID Service User:/var/db/hidd:/usr/bin/false\r\n",
      "_cmiodalassistants:*:262:262:CoreMedia IO Assistants User:/var/db/cmiodalassistants:/usr/bin/false\r\n",
      "_analyticsd:*:263:263:Analytics Daemon:/var/db/analyticsd:/usr/bin/false\r\n",
      "_fpsd:*:265:265:FPS Daemon:/var/db/fpsd:/usr/bin/false\r\n",
      "_timed:*:266:266:Time Sync Daemon:/var/db/timed:/usr/bin/false\r\n",
      "_nearbyd:*:268:268:Proximity and Ranging Daemon:/var/db/nearbyd:/usr/bin/false\r\n",
      "_reportmemoryexception:*:269:269:ReportMemoryException:/var/db/reportmemoryexception:/usr/bin/false\r\n",
      "_driverkit:*:270:270:DriverKit:/var/empty:/usr/bin/false\r\n",
      "_diskimagesiod:*:271:271:DiskImages IO Daemon:/var/db/diskimagesiod:/usr/bin/false\r\n",
      "_logd:*:272:272:Log Daemon:/var/db/diagnostics:/usr/bin/false\r\n",
      "_appinstalld:*:273:273:App Install Daemon:/var/db/appinstalld:/usr/bin/false\r\n",
      "_installcoordinationd:*:274:274:Install Coordination Daemon:/var/db/installcoordinationd:/usr/bin/false\r\n",
      "_demod:*:275:275:Demo Daemon:/var/empty:/usr/bin/false\r\n",
      "_rmd:*:277:277:Remote Management Daemon:/var/db/rmd:/usr/bin/false\r\n",
      "_fud:*:278:278:Firmware Update Daemon:/var/db/fud:/usr/bin/false\r\n",
      "_knowledgegraphd:*:279:279:Knowledge Graph Daemon:/var/db/knowledgegraphd:/usr/bin/false\r\n",
      "_coreml:*:280:280:CoreML Services:/var/empty:/usr/bin/false\r\n",
      "_trustd:*:282:282:trustd:/var/empty:/usr/bin/false\r\n",
      "_oahd:*:441:441:OAH Daemon:/var/empty:/usr/bin/false\r\n",
      "67.218.116.165 - - [30/Jan/2010:00:03:18 +0200] \"GET /robots.txt HTTP/1.0\" 200 99 \"-\" \"Mozilla/5.0 (Twiceler-0.9 http://www.cuil.com/twiceler/robot.html)\"\r\n",
      "66.249.71.65 - - [30/Jan/2010:00:12:06 +0200] \"GET /browse/one_node/1557 HTTP/1.1\" 200 39208 \"-\" \"Mozilla/5.0 (compatible; Googlebot/2.1; +http://www.google.com/bot.html)\"\r\n",
      "65.55.106.183 - - [30/Jan/2010:01:29:23 +0200] \"GET /robots.txt HTTP/1.1\" 200 99 \"-\" \"msnbot/2.0b (+http://search.msn.com/msnbot.htm)\"\r\n",
      "65.55.106.183 - - [30/Jan/2010:01:30:06 +0200] \"GET /browse/one_model/2162 HTTP/1.1\" 200 2181 \"-\" \"msnbot/2.0b (+http://search.msn.com/msnbot.htm)\"\r\n",
      "66.249.71.65 - - [30/Jan/2010:02:07:14 +0200] \"GET /browse/browse_applet_tab/2593 HTTP/1.1\" 200 10305 \"-\" \"Mozilla/5.0 (compatible; Googlebot/2.1; +http://www.google.com/bot.html)\"\r\n",
      "66.249.71.65 - - [30/Jan/2010:02:10:39 +0200] \"GET /browse/browse_files_tab/2499?tab=true HTTP/1.1\" 200 446 \"-\" \"Mozilla/5.0 (compatible; Googlebot/2.1; +http://www.google.com/bot.html)\"\r\n",
      "66.249.65.12 - - [30/Jan/2010:03:13:34 +0200] \"GET /robots.txt HTTP/1.1\" 200 99 \"-\" \"Mozilla/5.0 (compatible; Googlebot/2.1; +http://www.google.com/bot.html)\"\r\n",
      "66.249.65.12 - - [30/Jan/2010:03:13:34 +0200] \"GET /browse/one_node/2715 HTTP/1.1\" 200 26433 \"-\" \"Mozilla/5.0 (compatible; Googlebot/2.1; +http://www.google.com/bot.html)\"\r\n",
      "66.249.65.12 - - [30/Jan/2010:03:43:39 +0200] \"GET /browse/download_model/1969 HTTP/1.1\" 200 31713 \"-\" \"Mozilla/5.0 (compatible; Googlebot/2.1; +http://www.google.com/bot.html)\"\r\n",
      "66.249.65.12 - - [30/Jan/2010:04:05:43 +0200] \"GET /browse/one_node/1406 HTTP/1.1\" 302 118 \"-\" \"Mozilla/5.0 (compatible; Googlebot/2.1; +http://www.google.com/bot.html)\"\r\n",
      "66.249.65.12 - - [30/Jan/2010:04:05:51 +0200] \"GET /browse/one_model/1406 HTTP/1.1\" 200 2179 \"-\" \"Mozilla/5.0 (compatible; Googlebot/2.1; +http://www.google.com/bot.html)\"\r\n",
      "65.55.106.131 - - [30/Jan/2010:04:24:33 +0200] \"GET /robots.txt HTTP/1.1\" 200 99 \"-\" \"msnbot/2.0b (+http://search.msn.com/msnbot.htm)\"\r\n",
      "65.55.106.131 - - [30/Jan/2010:04:25:36 +0200] \"GET /browse/one_model/1200 HTTP/1.1\" 200 2180 \"-\" \"msnbot/2.0b (+http://search.msn.com/msnbot.htm)\"\r\n",
      "66.249.65.12 - - [30/Jan/2010:04:34:36 +0200] \"GET /browse/download_model/2170 HTTP/1.1\" 200 11772 \"-\" \"Mozilla/5.0 (compatible; Googlebot/2.1; +http://www.google.com/bot.html)\"\r\n",
      "66.249.65.12 - - [30/Jan/2010:04:39:37 +0200] \"GET /browse/browse_preview_tab/2499?tab=true HTTP/1.1\" 200 452 \"-\" \"Mozilla/5.0 (compatible; Googlebot/2.1; +http://www.google.com/bot.html)\"\r\n",
      "66.249.65.12 - - [30/Jan/2010:05:03:34 +0200] \"GET /browse/download_model/2244 HTTP/1.1\" 200 7215 \"-\" \"Mozilla/5.0 (compatible; Googlebot/2.1; +http://www.google.com/bot.html)\"\r\n",
      "66.249.65.12 - - [30/Jan/2010:05:32:31 +0200] \"GET /browse/download_model/1002 HTTP/1.1\" 200 3658 \"-\" \"Mozilla/5.0 (compatible; Googlebot/2.1; +http://www.google.com/bot.html)\"\r\n",
      "66.249.65.12 - - [30/Jan/2010:06:01:22 +0200] \"GET /browse/download_model/1200 HTTP/1.1\" 200 31950 \"-\" \"Mozilla/5.0 (compatible; Googlebot/2.1; +http://www.google.com/bot.html)\"\r\n",
      "66.249.65.12 - - [30/Jan/2010:06:30:19 +0200] \"GET /browse/download_model/2463 HTTP/1.1\" 200 3357 \"-\" \"Mozilla/5.0 (compatible; Googlebot/2.1; +http://www.google.com/bot.html)\"\r\n",
      "66.249.65.12 - - [30/Jan/2010:06:59:14 +0200] \"GET /browse/download_model/1861 HTTP/1.1\" 200 5136 \"-\" \"Mozilla/5.0 (compatible; Googlebot/2.1; +http://www.google.com/bot.html)\"\r\n",
      "65.55.106.186 - - [30/Jan/2010:07:07:13 +0200] \"GET /robots.txt HTTP/1.1\" 200 99 \"-\" \"msnbot/2.0b (+http://search.msn.com/msnbot.htm)\"\r\n",
      "65.55.106.186 - - [30/Jan/2010:07:08:06 +0200] \"GET /browse/about HTTP/1.1\" 200 2315 \"-\" \"msnbot/2.0b (+http://search.msn.com/msnbot.htm)\"\r\n",
      "66.249.65.12 - - [30/Jan/2010:07:28:09 +0200] \"GET /browse/download_model/1712 HTTP/1.1\" 200 11605 \"-\" \"Mozilla/5.0 (compatible; Googlebot/2.1; +http://www.google.com/bot.html)\"\r\n",
      "66.249.65.12 - - [30/Jan/2010:07:57:06 +0200] \"GET /browse/download_model/1192 HTTP/1.1\" 200 31656 \"-\" \"Mozilla/5.0 (compatible; Googlebot/2.1; +http://www.google.com/bot.html)\"\r\n",
      "66.249.65.12 - - [30/Jan/2010:08:26:00 +0200] \"GET /browse/download_model/1140 HTTP/1.1\" 200 4370 \"-\" \"Mozilla/5.0 (compatible; Googlebot/2.1; +http://www.google.com/bot.html)\"\r\n",
      "74.52.245.146 - - [30/Jan/2010:08:40:26 +0200] \"GET / HTTP/1.0\" 302 110 \"-\" \"Mozilla/5.0 (X11; U; Linux i686; en-US; rv:1.7.5) Gecko/20041107 Firefox/1.0\"\r\n",
      "74.52.245.146 - - [30/Jan/2010:08:40:26 +0200] \"GET /account/login HTTP/1.0\" 200 5801 \"-\" \"Mozilla/5.0 (X11; U; Linux i686; en-US; rv:1.7.5) Gecko/20041107 Firefox/1.0\"\r\n",
      "66.249.65.43 - - [30/Jan/2010:08:44:51 +0200] \"GET /robots.txt HTTP/1.1\" 200 99 \"-\" \"Mozilla/5.0 (compatible; Googlebot/2.1; +http://www.google.com/bot.html)\"\r\n",
      "66.249.65.43 - - [30/Jan/2010:08:44:52 +0200] \"GET / HTTP/1.1\" 302 112 \"-\" \"Mozilla/5.0 (compatible; Googlebot/2.1; +http://www.google.com/bot.html)\"\r\n",
      "66.249.65.43 - - [30/Jan/2010:08:44:52 +0200] \"GET /account/login HTTP/1.1\" 200 1935 \"-\" \"Mozilla/5.0 (compatible; Googlebot/2.1; +http://www.google.com/bot.html)\"\r\n",
      "66.249.65.12 - - [30/Jan/2010:08:54:53 +0200] \"GET /browse/download_model/2152 HTTP/1.1\" 200 7285 \"-\" \"Mozilla/5.0 (compatible; Googlebot/2.1; +http://www.google.com/bot.html)\"\r\n",
      "66.249.65.12 - - [30/Jan/2010:09:23:46 +0200] \"GET /browse/download_model/796 HTTP/1.1\" 200 3241 \"-\" \"Mozilla/5.0 (compatible; Googlebot/2.1; +http://www.google.com/bot.html)\"\r\n",
      "66.249.65.12 - - [30/Jan/2010:09:52:42 +0200] \"GET /browse/one_node/2177 HTTP/1.1\" 200 1556 \"-\" \"Mozilla/5.0 (compatible; Googlebot/2.1; +http://www.google.com/bot.html)\"\r\n",
      "66.249.65.12 - - [30/Jan/2010:10:21:43 +0200] \"GET /browse/one_node/2163 HTTP/1.1\" 200 4124 \"-\" \"Mozilla/5.0 (compatible; Googlebot/2.1; +http://www.google.com/bot.html)\"\r\n",
      "66.249.65.12 - - [30/Jan/2010:10:50:35 +0200] \"GET /browse/one_node/1193 HTTP/1.1\" 200 29168 \"-\" \"Mozilla/5.0 (compatible; Googlebot/2.1; +http://www.google.com/bot.html)\"\r\n",
      "66.249.65.12 - - [30/Jan/2010:11:19:27 +0200] \"GET /browse/one_node/1241 HTTP/1.1\" 200 7032 \"-\" \"Mozilla/5.0 (compatible; Googlebot/2.1; +http://www.google.com/bot.html)\"\r\n",
      "65.55.207.25 - - [30/Jan/2010:11:43:56 +0200] \"GET /robots.txt HTTP/1.1\" 200 99 \"-\" \"msnbot/2.0b (+http://search.msn.com/msnbot.htm)\"\r\n",
      "65.55.207.25 - - [30/Jan/2010:11:44:35 +0200] \"GET /help HTTP/1.1\" 304 - \"-\" \"msnbot/2.0b (+http://search.msn.com/msnbot.htm)\"\r\n",
      "66.249.65.12 - - [30/Jan/2010:11:48:31 +0200] \"GET /browse/download_model/2508 HTTP/1.1\" 200 11374 \"-\" \"Mozilla/5.0 (compatible; Googlebot/2.1; +http://www.google.com/bot.html)\"\r\n",
      "66.249.65.12 - - [30/Jan/2010:12:17:24 +0200] \"GET /browse/one_node/2509 HTTP/1.1\" 200 4766 \"-\" \"Mozilla/5.0 (compatible; Googlebot/2.1; +http://www.google.com/bot.html)\"\r\n",
      "66.249.65.12 - - [30/Jan/2010:12:46:17 +0200] \"GET /browse/one_node/1233 HTTP/1.1\" 200 79301 \"-\" \"Mozilla/5.0 (compatible; Googlebot/2.1; +http://www.google.com/bot.html)\"\r\n",
      "66.249.65.12 - - [30/Jan/2010:13:15:09 +0200] \"GET /browse/download_model/2508?version=1819 HTTP/1.1\" 200 11374 \"-\" \"Mozilla/5.0 (compatible; Googlebot/2.1; +http://www.google.com/bot.html)\"\r\n",
      "66.249.65.12 - - [30/Jan/2010:13:44:01 +0200] \"GET /browse/download_model/2508?version=1821 HTTP/1.1\" 200 11374 \"-\" \"Mozilla/5.0 (compatible; Googlebot/2.1; +http://www.google.com/bot.html)\"\r\n",
      "66.249.65.12 - - [30/Jan/2010:14:12:55 +0200] \"GET /browse/download_model/902 HTTP/1.1\" 200 5050 \"-\" \"Mozilla/5.0 (compatible; Googlebot/2.1; +http://www.google.com/bot.html)\"\r\n",
      "66.249.65.12 - - [30/Jan/2010:14:42:01 +0200] \"GET /browse/download_model/1679 HTTP/1.1\" 200 11290 \"-\" \"Mozilla/5.0 (compatible; Googlebot/2.1; +http://www.google.com/bot.html)\"\r\n",
      "65.55.207.94 - - [30/Jan/2010:15:02:52 +0200] \"GET /robots.txt HTTP/1.1\" 200 99 \"-\" \"msnbot/2.0b (+http://search.msn.com/msnbot.htm)\"\r\n",
      "65.55.207.94 - - [30/Jan/2010:15:03:36 +0200] \"GET /browse/one_model/900 HTTP/1.1\" 200 2165 \"-\" \"msnbot/2.0b (+http://search.msn.com/msnbot.htm)\"\r\n",
      "66.249.65.12 - - [30/Jan/2010:15:10:51 +0200] \"GET /browse/download_model/1612 HTTP/1.1\" 200 30540 \"-\" \"Mozilla/5.0 (compatible; Googlebot/2.1; +http://www.google.com/bot.html)\"\r\n",
      "65.55.207.71 - - [30/Jan/2010:15:32:04 +0200] \"GET /account/new HTTP/1.1\" 304 - \"-\" \"msnbot/2.0b (+http://search.msn.com/msnbot.htm)\"\r\n",
      "66.249.65.12 - - [30/Jan/2010:15:39:45 +0200] \"GET /browse/download_model/892 HTTP/1.1\" 200 4195 \"-\" \"Mozilla/5.0 (compatible; Googlebot/2.1; +http://www.google.com/bot.html)\"\r\n",
      "66.249.65.12 - - [30/Jan/2010:15:52:21 +0200] \"GET /system/avatars/7/thumb/fractal-tree-on-transparent-sm.png?1237131134 HTTP/1.1\" 304 - \"-\" \"Googlebot-Image/1.0\"\r\n",
      "66.249.65.12 - - [30/Jan/2010:16:08:36 +0200] \"GET /browse/download_model/1865 HTTP/1.1\" 200 19432 \"-\" \"Mozilla/5.0 (compatible; Googlebot/2.1; +http://www.google.com/bot.html)\"\r\n",
      "98.242.170.241 - - [30/Jan/2010:16:10:49 +0200] \"GET /dvdrental.com HTTP/1.1\" 404 947 \"http://www.dvdrental.com/modelingcommons.org\" \"Opera/9.80 (Windows NT 5.2; U; en) Presto/2.2.15 Version/10.10\"\r\n",
      "66.249.65.38 - - [30/Jan/2010:16:37:33 +0200] \"GET /browse/download_model/914 HTTP/1.1\" 200 6181 \"-\" \"Mozilla/5.0 (compatible; Googlebot/2.1; +http://www.google.com/bot.html)\"\r\n",
      "66.249.65.38 - - [30/Jan/2010:16:45:12 +0200] \"GET /browse/browse_applet_tab/2593?tab=true HTTP/1.1\" 200 10237 \"-\" \"Mozilla/5.0 (compatible; Googlebot/2.1; +http://www.google.com/bot.html)\"\r\n",
      "66.249.65.38 - - [30/Jan/2010:17:02:28 +0200] \"GET /javascripts/application.js?1264605648 HTTP/1.1\" 200 698 \"-\" \"Mozilla/5.0 (compatible; Googlebot/2.1; +http://www.google.com/bot.html)\"\r\n",
      "66.249.65.38 - - [30/Jan/2010:17:02:29 +0200] \"GET /stylesheets/browse.css?1264605648 HTTP/1.1\" 200 422 \"-\" \"Mozilla/5.0 (compatible; Googlebot/2.1; +http://www.google.com/bot.html)\"\r\n",
      "66.249.65.38 - - [30/Jan/2010:17:02:30 +0200] \"GET /javascripts/jquery.livequery.js?1264605648 HTTP/1.1\" 200 2135 \"-\" \"Mozilla/5.0 (compatible; Googlebot/2.1; +http://www.google.com/bot.html)\"\r\n",
      "66.249.65.38 - - [30/Jan/2010:17:02:30 +0200] \"GET /javascripts/jrails.js?1264605648 HTTP/1.1\" 200 1093 \"-\" \"Mozilla/5.0 (compatible; Googlebot/2.1; +http://www.google.com/bot.html)\"\r\n",
      "66.249.65.38 - - [30/Jan/2010:17:02:31 +0200] \"GET /stylesheets/themes/nlcommons/ui.all.css?1264605648 HTTP/1.1\" 200 52 \"-\" \"Mozilla/5.0 (compatible; Googlebot/2.1; +http://www.google.com/bot.html)\"\r\n",
      "66.249.65.38 - - [30/Jan/2010:17:02:31 +0200] \"GET /stylesheets/jquery.autocomplete.css?1264605648 HTTP/1.1\" 200 447 \"-\" \"Mozilla/5.0 (compatible; Googlebot/2.1; +http://www.google.com/bot.html)\"\r\n",
      "66.249.65.38 - - [30/Jan/2010:17:02:32 +0200] \"GET /stylesheets/nlcommons.css?1264605648 HTTP/1.1\" 200 1179 \"-\" \"Mozilla/5.0 (compatible; Googlebot/2.1; +http://www.google.com/bot.html)\"\r\n",
      "66.249.65.38 - - [30/Jan/2010:17:02:32 +0200] \"GET /javascripts/jquery.dataTables.js?1264605648 HTTP/1.1\" 200 15537 \"-\" \"Mozilla/5.0 (compatible; Googlebot/2.1; +http://www.google.com/bot.html)\"\r\n",
      "66.249.65.38 - - [30/Jan/2010:17:02:33 +0200] \"GET /javascripts/jquery.js?1264605648 HTTP/1.1\" 200 19740 \"-\" \"Mozilla/5.0 (compatible; Googlebot/2.1; +http://www.google.com/bot.html)\"\r\n",
      "66.249.65.38 - - [30/Jan/2010:17:02:34 +0200] \"GET /javascripts/nlcommons.js?1264605648 HTTP/1.1\" 200 20 \"-\" \"Mozilla/5.0 (compatible; Googlebot/2.1; +http://www.google.com/bot.html)\"\r\n",
      "66.249.65.38 - - [30/Jan/2010:17:02:34 +0200] \"GET /javascripts/jquery-ui.js?1264605648 HTTP/1.1\" 200 72080 \"-\" \"Mozilla/5.0 (compatible; Googlebot/2.1; +http://www.google.com/bot.html)\"\r\n",
      "66.249.65.38 - - [30/Jan/2010:17:02:35 +0200] \"GET /javascripts/jquery.autocomplete.js?1264605648 HTTP/1.1\" 200 6433 \"-\" \"Mozilla/5.0 (compatible; Googlebot/2.1; +http://www.google.com/bot.html)\"\r\n",
      "66.249.65.38 - - [30/Jan/2010:17:03:16 +0200] \"GET /stylesheets/themes/nlcommons/ui.base.css HTTP/1.1\" 200 111 \"-\" \"Mozilla/5.0 (compatible; Googlebot/2.1; +http://www.google.com/bot.html)\"\r\n",
      "66.249.65.38 - - [30/Jan/2010:17:03:16 +0200] \"GET /stylesheets/themes/nlcommons/ui.theme.css HTTP/1.1\" 200 2862 \"-\" \"Mozilla/5.0 (compatible; Googlebot/2.1; +http://www.google.com/bot.html)\"\r\n",
      "66.249.65.38 - - [30/Jan/2010:17:03:30 +0200] \"GET /stylesheets/themes/nlcommons/ui.core.css HTTP/1.1\" 200 624 \"-\" \"Mozilla/5.0 (compatible; Googlebot/2.1; +http://www.google.com/bot.html)\"\r\n",
      "66.249.65.38 - - [30/Jan/2010:17:03:31 +0200] \"GET /stylesheets/themes/nlcommons/ui.accordion.css HTTP/1.1\" 200 295 \"-\" \"Mozilla/5.0 (compatible; Googlebot/2.1; +http://www.google.com/bot.html)\"\r\n",
      "66.249.65.38 - - [30/Jan/2010:17:03:31 +0200] \"GET /stylesheets/themes/nlcommons/ui.datepicker.css HTTP/1.1\" 200 965 \"-\" \"Mozilla/5.0 (compatible; Googlebot/2.1; +http://www.google.com/bot.html)\"\r\n",
      "66.249.65.38 - - [30/Jan/2010:17:03:32 +0200] \"GET /stylesheets/themes/nlcommons/ui.dialog.css HTTP/1.1\" 200 442 \"-\" \"Mozilla/5.0 (compatible; Googlebot/2.1; +http://www.google.com/bot.html)\"\r\n",
      "66.249.65.38 - - [30/Jan/2010:17:03:32 +0200] \"GET /stylesheets/themes/nlcommons/ui.slider.css HTTP/1.1\" 200 318 \"-\" \"Mozilla/5.0 (compatible; Googlebot/2.1; +http://www.google.com/bot.html)\"\r\n",
      "66.249.65.38 - - [30/Jan/2010:17:03:33 +0200] \"GET /stylesheets/themes/nlcommons/ui.progressbar.css HTTP/1.1\" 200 114 \"-\" \"Mozilla/5.0 (compatible; Googlebot/2.1; +http://www.google.com/bot.html)\"\r\n",
      "66.249.65.38 - - [30/Jan/2010:17:03:34 +0200] \"GET /stylesheets/themes/nlcommons/ui.tabs.css HTTP/1.1\" 200 414 \"-\" \"Mozilla/5.0 (compatible; Googlebot/2.1; +http://www.google.com/bot.html)\"\r\n",
      "66.249.65.38 - - [30/Jan/2010:17:03:34 +0200] \"GET /stylesheets/themes/nlcommons/ui.resizable.css HTTP/1.1\" 200 307 \"-\" \"Mozilla/5.0 (compatible; Googlebot/2.1; +http://www.google.com/bot.html)\"\r\n",
      "66.249.65.38 - - [30/Jan/2010:17:06:29 +0200] \"GET /browse/download_model/743 HTTP/1.1\" 200 10552 \"-\" \"Mozilla/5.0 (compatible; Googlebot/2.1; +http://www.google.com/bot.html)\"\r\n",
      "66.249.65.38 - - [30/Jan/2010:17:35:24 +0200] \"GET /browse/download_model/2547 HTTP/1.1\" 200 40914 \"-\" \"Mozilla/5.0 (compatible; Googlebot/2.1; +http://www.google.com/bot.html)\"\r\n",
      "65.55.207.126 - - [30/Jan/2010:17:46:11 +0200] \"GET /robots.txt HTTP/1.1\" 200 99 \"-\" \"msnbot/2.0b (+http://search.msn.com/msnbot.htm)\"\r\n",
      "65.55.207.126 - - [30/Jan/2010:17:48:32 +0200] \"GET /browse/one_model/1002 HTTP/1.1\" 200 2173 \"-\" \"msnbot/2.0b (+http://search.msn.com/msnbot.htm)\"\r\n",
      "66.249.65.38 - - [30/Jan/2010:18:04:31 +0200] \"GET /browse/download_model/1210 HTTP/1.1\" 200 11948 \"-\" \"Mozilla/5.0 (compatible; Googlebot/2.1; +http://www.google.com/bot.html)\"\r\n",
      "66.249.65.38 - - [30/Jan/2010:18:33:30 +0200] \"GET /browse/download_model/849 HTTP/1.1\" 200 6836 \"-\" \"Mozilla/5.0 (compatible; Googlebot/2.1; +http://www.google.com/bot.html)\"\r\n",
      "66.249.65.38 - - [30/Jan/2010:18:53:53 +0200] \"GET /tags/one_tag/27 HTTP/1.1\" 200 2033 \"-\" \"Mozilla/5.0 (compatible; Googlebot/2.1; +http://www.google.com/bot.html)\"\r\n",
      "66.249.65.38 - - [30/Jan/2010:19:02:20 +0200] \"GET /browse/download_model/739 HTTP/1.1\" 200 11302 \"-\" \"Mozilla/5.0 (compatible; Googlebot/2.1; +http://www.google.com/bot.html)\"\r\n",
      "82.34.9.20 - - [30/Jan/2010:19:18:24 +0200] \"GET /account/models/33 HTTP/1.1\" 200 23774 \"http://www.google.co.uk/search?hl=en&q=%22netlogo%22+sokoban&btnG=Search&meta=&aq=f&oq=\" \"Mozilla/4.0 (compatible; MSIE 8.0; Windows NT 5.1; Trident/4.0; .NET CLR 2.0.50727; .NET CLR 3.0.4506.2152; .NET CLR 3.5.30729; InfoPath.1)\"\r\n",
      "82.34.9.20 - - [30/Jan/2010:19:18:18 +0200] \"GET /account/models/33 HTTP/1.1\" 200 23774 \"http://www.google.co.uk/search?hl=en&q=%22netlogo%22+sokoban&btnG=Search&meta=&aq=f&oq=\" \"Mozilla/4.0 (compatible; MSIE 8.0; Windows NT 5.1; Trident/4.0; .NET CLR 2.0.50727; .NET CLR 3.0.4506.2152; .NET CLR 3.5.30729; InfoPath.1)\"\r\n",
      "66.249.65.38 - - [30/Jan/2010:19:31:07 +0200] \"GET /browse/download_model/838 HTTP/1.1\" 200 7691 \"-\" \"Mozilla/5.0 (compatible; Googlebot/2.1; +http://www.google.com/bot.html)\"\r\n",
      "66.249.65.38 - - [30/Jan/2010:20:00:20 +0200] \"GET /browse/download_model/2316 HTTP/1.1\" 200 48709 \"-\" \"Mozilla/5.0 (compatible; Googlebot/2.1; +http://www.google.com/bot.html)\"\r\n",
      "66.249.65.38 - - [30/Jan/2010:20:28:55 +0200] \"GET /browse/download_model/840 HTTP/1.1\" 200 6063 \"-\" \"Mozilla/5.0 (compatible; Googlebot/2.1; +http://www.google.com/bot.html)\"\r\n",
      "66.249.65.38 - - [30/Jan/2010:20:47:05 +0200] \"GET /?id=7 HTTP/1.1\" 200 3058 \"-\" \"Mozilla/5.0 (compatible; Googlebot/2.1; +http://www.google.com/bot.html)\"\r\n",
      "66.249.65.38 - - [30/Jan/2010:20:57:43 +0200] \"GET /browse/download_model/806 HTTP/1.1\" 200 4263 \"-\" \"Mozilla/5.0 (compatible; Googlebot/2.1; +http://www.google.com/bot.html)\"\r\n",
      "66.249.65.38 - - [30/Jan/2010:21:07:44 +0200] \"GET /account/mypage/17 HTTP/1.1\" 200 3103 \"-\" \"Mozilla/5.0 (compatible; Googlebot/2.1; +http://www.google.com/bot.html)\"\r\n",
      "66.249.65.38 - - [30/Jan/2010:21:26:36 +0200] \"GET /browse/download_model/1891 HTTP/1.1\" 200 8570 \"-\" \"Mozilla/5.0 (compatible; Googlebot/2.1; +http://www.google.com/bot.html)\"\r\n",
      "66.249.65.38 - - [30/Jan/2010:21:56:01 +0200] \"GET /browse/download_model/1881 HTTP/1.1\" 200 9618 \"-\" \"Mozilla/5.0 (compatible; Googlebot/2.1; +http://www.google.com/bot.html)\"\r\n",
      "66.249.65.38 - - [30/Jan/2010:22:25:13 +0200] \"GET /browse/download_model/735 HTTP/1.1\" 200 16848 \"-\" \"Mozilla/5.0 (compatible; Googlebot/2.1; +http://www.google.com/bot.html)\"\r\n",
      "65.55.106.155 - - [30/Jan/2010:22:25:26 +0200] \"GET /robots.txt HTTP/1.1\" 200 99 \"-\" \"msnbot/2.0b (+http://search.msn.com/msnbot.htm)\"\r\n",
      "65.55.106.155 - - [30/Jan/2010:22:26:11 +0200] \"GET /account/send_password HTTP/1.1\" 304 - \"-\" \"msnbot/2.0b (+http://search.msn.com/msnbot.htm)\"\r\n",
      "66.249.65.38 - - [30/Jan/2010:22:53:40 +0200] \"GET /browse/download_model/1779 HTTP/1.1\" 200 8576 \"-\" \"Mozilla/5.0 (compatible; Googlebot/2.1; +http://www.google.com/bot.html)\"\r\n",
      "66.249.65.38 - - [30/Jan/2010:23:21:25 +0200] \"GET /browse/follow/2029.atom HTTP/1.1\" 200 653 \"-\" \"Mozilla/5.0 (compatible; Googlebot/2.1; +http://www.google.com/bot.html)\"\r\n",
      "66.249.65.38 - - [30/Jan/2010:23:22:21 +0200] \"GET /browse/download_model/788 HTTP/1.1\" 200 3865 \"-\" \"Mozilla/5.0 (compatible; Googlebot/2.1; +http://www.google.com/bot.html)\"\r\n",
      "66.249.65.38 - - [30/Jan/2010:23:28:41 +0200] \"GET /images/default-person.png?1245832850 HTTP/1.1\" 200 677 \"-\" \"Googlebot-Image/1.0\"\r\n",
      "66.249.65.38 - - [30/Jan/2010:23:53:12 +0200] \"GET /browse/download_model/2340 HTTP/1.1\" 200 30305 \"-\" \"Mozilla/5.0 (compatible; Googlebot/2.1; +http://www.google.com/bot.html)\"\r\n",
      "65.55.207.77 - - [31/Jan/2010:00:06:37 +0200] \"GET /robots.txt HTTP/1.1\" 200 99 \"-\" \"msnbot/2.0b (+http://search.msn.com/msnbot.htm)\"\r\n",
      "65.55.207.77 - - [31/Jan/2010:00:09:36 +0200] \"GET /browse/one_model/2152 HTTP/1.1\" 200 2195 \"-\" \"msnbot/2.0b (+http://search.msn.com/msnbot.htm)\"\r\n",
      "66.249.65.38 - - [31/Jan/2010:01:15:50 +0200] \"GET /account/follow/2029.atom HTTP/1.1\" 404 577 \"-\" \"Mozilla/5.0 (compatible; Googlebot/2.1; +http://www.google.com/bot.html)\"\r\n",
      "67.218.116.165 - - [31/Jan/2010:01:23:08 +0200] \"GET /robots.txt HTTP/1.0\" 200 99 \"-\" \"Mozilla/5.0 (Twiceler-0.9 http://www.cuil.com/twiceler/robot.html)\"\r\n",
      "66.249.65.38 - - [31/Jan/2010:01:35:43 +0200] \"GET /browse/one_model/2099 HTTP/1.1\" 200 2179 \"-\" \"Mozilla/5.0 (compatible; Googlebot/2.1; +http://www.google.com/bot.html)\"\r\n",
      "208.80.193.28 - - [31/Jan/2010:01:50:14 +0200] \"GET / HTTP/1.0\" 302 106 \"-\" \"Mozilla/4.0 (compatible; MSIE 6.0; Windows NT 5.1; SV1; FunWebProducts; .NET CLR 1.0.3705; .NET CLR 1.1.4322; Media Center PC 4.0; Hotbar 10.0.356.0)\"\r\n",
      "66.249.65.38 - - [31/Jan/2010:02:17:46 +0200] \"GET /browse/download_model/985 HTTP/1.1\" 200 3204 \"-\" \"Mozilla/5.0 (compatible; Googlebot/2.1; +http://www.google.com/bot.html)\"\r\n",
      "66.249.65.38 - - [31/Jan/2010:02:48:17 +0200] \"GET /browse/download_model/2162 HTTP/1.1\" 200 9362 \"-\" \"Mozilla/5.0 (compatible; Googlebot/2.1; +http://www.google.com/bot.html)\"\r\n",
      "66.249.65.38 - - [31/Jan/2010:02:51:11 +0200] \"GET /browse/display_preview/2099 HTTP/1.1\" 200 7563 \"-\" \"Googlebot-Image/1.0\"\r\n",
      "66.249.65.38 - - [31/Jan/2010:03:04:16 +0200] \"GET /browse/download_model/993 HTTP/1.1\" 200 3175 \"-\" \"Mozilla/5.0 (compatible; Googlebot/2.1; +http://www.google.com/bot.html)\"\r\n",
      "66.249.65.38 - - [31/Jan/2010:03:29:31 +0200] \"GET /robots.txt HTTP/1.1\" 200 99 \"-\" \"Mozilla/5.0 (compatible; Googlebot/2.1; +http://www.google.com/bot.html)\"\r\n",
      "66.249.65.38 - - [31/Jan/2010:03:29:31 +0200] \"GET /browse/download_model/977 HTTP/1.1\" 200 2992 \"-\" \"Mozilla/5.0 (compatible; Googlebot/2.1; +http://www.google.com/bot.html)\"\r\n",
      "66.249.65.38 - - [31/Jan/2010:03:49:42 +0200] \"GET /tags/one_tag/42 HTTP/1.1\" 200 2014 \"-\" \"Mozilla/5.0 (compatible; Googlebot/2.1; +http://www.google.com/bot.html)\"\r\n",
      "66.249.65.38 - - [31/Jan/2010:03:54:44 +0200] \"GET /browse/download_model/746 HTTP/1.1\" 200 12754 \"-\" \"Mozilla/5.0 (compatible; Googlebot/2.1; +http://www.google.com/bot.html)\"\r\n",
      "66.249.65.38 - - [31/Jan/2010:04:19:51 +0200] \"GET /browse/download_model/815 HTTP/1.1\" 200 6284 \"-\" \"Mozilla/5.0 (compatible; Googlebot/2.1; +http://www.google.com/bot.html)\"\r\n",
      "89.248.172.58 - - [31/Jan/2010:04:32:52 +0200] \"GET /account/mypage/7 HTTP/1.1\" 200 14292 \"-\" \"Mozilla/4.0 (compatible; MSIE 6.0; Windows NT 5.1; SV1)\"\r\n",
      "89.248.172.58 - - [31/Jan/2010:04:33:03 +0200] \"GET / HTTP/1.1\" 302 106 \"-\" \"Mozilla/4.0 (compatible; MSIE 6.0; Windows NT 5.1; SV1)\"\r\n",
      "89.248.172.58 - - [31/Jan/2010:04:33:03 +0200] \"GET /account/login HTTP/1.1\" 200 5998 \"-\" \"Mozilla/4.0 (compatible; MSIE 6.0; Windows NT 5.1; SV1)\"\r\n",
      "89.248.172.58 - - [31/Jan/2010:04:33:04 +0200] \"GET /browse/list_models HTTP/1.1\" 200 21752 \"-\" \"Mozilla/4.0 (compatible; MSIE 6.0; Windows NT 5.1; SV1)\"\r\n",
      "89.248.172.58 - - [31/Jan/2010:04:33:05 +0200] \"GET /browse/about HTTP/1.1\" 200 6801 \"-\" \"Mozilla/4.0 (compatible; MSIE 6.0; Windows NT 5.1; SV1)\"\r\n",
      "89.248.172.58 - - [31/Jan/2010:04:33:06 +0200] \"GET /help HTTP/1.1\" 200 5683 \"-\" \"Mozilla/4.0 (compatible; MSIE 6.0; Windows NT 5.1; SV1)\"\r\n",
      "89.248.172.58 - - [31/Jan/2010:04:33:06 +0200] \"GET /account/login HTTP/1.1\" 200 5801 \"-\" \"Mozilla/4.0 (compatible; MSIE 6.0; Windows NT 5.1; SV1)\"\r\n",
      "89.248.172.58 - - [31/Jan/2010:04:33:07 +0200] \"GET /account/follow/7.atom HTTP/1.1\" 200 4893 \"-\" \"Mozilla/4.0 (compatible; MSIE 6.0; Windows NT 5.1; SV1)\"\r\n",
      "89.248.172.58 - - [31/Jan/2010:04:33:07 +0200] \"GET /browse/one_model/1210 HTTP/1.1\" 200 6905 \"-\" \"Mozilla/4.0 (compatible; MSIE 6.0; Windows NT 5.1; SV1)\"\r\n",
      "89.248.172.58 - - [31/Jan/2010:04:33:08 +0200] \"GET /browse/one_model/1390 HTTP/1.1\" 200 6957 \"-\" \"Mozilla/4.0 (compatible; MSIE 6.0; Windows NT 5.1; SV1)\"\r\n",
      "89.248.172.58 - - [31/Jan/2010:04:33:09 +0200] \"GET /browse/one_model/2495 HTTP/1.1\" 200 7013 \"-\" \"Mozilla/4.0 (compatible; MSIE 6.0; Windows NT 5.1; SV1)\"\r",
      "\r\n",
      "89.248.172.58 - - [31/Jan/2010:04:33:09 +0200] \"GET /browse/one_model/2518 HTTP/1.1\" 200 6869 \"-\" \"Mozilla/4.0 (compatible; MSIE 6.0; Windows NT 5.1; SV1)\"\r\n",
      "89.248.172.58 - - [31/Jan/2010:04:33:10 +0200] \"GET /browse/one_model/1408 HTTP/1.1\" 200 6893 \"-\" \"Mozilla/4.0 (compatible; MSIE 6.0; Windows NT 5.1; SV1)\"\r\n",
      "89.248.172.58 - - [31/Jan/2010:04:33:11 +0200] \"GET /tags/one_tag/48 HTTP/1.1\" 200 6313 \"-\" \"Mozilla/4.0 (compatible; MSIE 6.0; Windows NT 5.1; SV1)\"\r\n",
      "89.248.172.58 - - [31/Jan/2010:04:33:11 +0200] \"GET /tags/one_tag/8 HTTP/1.1\" 200 6295 \"-\" \"Mozilla/4.0 (compatible; MSIE 6.0; Windows NT 5.1; SV1)\"\r\n",
      "89.248.172.58 - - [31/Jan/2010:04:33:12 +0200] \"GET /browse/one_model/815 HTTP/1.1\" 200 6839 \"-\" \"Mozilla/4.0 (compatible; MSIE 6.0; Windows NT 5.1; SV1)\"\r\n",
      "89.248.172.58 - - [31/Jan/2010:04:33:13 +0200] \"GET /browse/one_model/2547 HTTP/1.1\" 200 6890 \"-\" \"Mozilla/4.0 (compatible; MSIE 6.0; Windows NT 5.1; SV1)\"\r\n",
      "89.248.172.58 - - [31/Jan/2010:04:33:13 +0200] \"GET /browse/one_model/1578 HTTP/1.1\" 200 6913 \"-\" \"Mozilla/4.0 (compatible; MSIE 6.0; Windows NT 5.1; SV1)\"\r\n",
      "89.248.172.58 - - [31/Jan/2010:04:33:14 +0200] \"GET /browse/one_model/2510 HTTP/1.1\" 200 6829 \"-\" \"Mozilla/4.0 (compatible; MSIE 6.0; Windows NT 5.1; SV1)\"\r\n",
      "89.248.172.58 - - [31/Jan/2010:04:33:14 +0200] \"GET /browse/one_model/999 HTTP/1.1\" 200 6860 \"-\" \"Mozilla/4.0 (compatible; MSIE 6.0; Windows NT 5.1; SV1)\"\r\n",
      "89.248.172.58 - - [31/Jan/2010:04:33:15 +0200] \"GET /account/models/7 HTTP/1.1\" 200 8787 \"-\" \"Mozilla/4.0 (compatible; MSIE 6.0; Windows NT 5.1; SV1)\"\r\n",
      "89.248.172.58 - - [31/Jan/2010:04:33:16 +0200] \"GET /?id=17 HTTP/1.1\" 200 14542 \"-\" \"Mozilla/4.0 (compatible; MSIE 6.0; Windows NT 5.1; SV1)\"\r\n",
      "66.249.65.38 - - [31/Jan/2010:04:45:02 +0200] \"GET /browse/download_model/2182 HTTP/1.1\" 200 16607 \"-\" \"Mozilla/5.0 (compatible; Googlebot/2.1; +http://www.google.com/bot.html)\"\r\n",
      "66.249.65.38 - - [31/Jan/2010:05:10:16 +0200] \"GET /browse/download_model/900 HTTP/1.1\" 200 3440 \"-\" \"Mozilla/5.0 (compatible; Googlebot/2.1; +http://www.google.com/bot.html)\"\r\n",
      "66.249.65.38 - - [31/Jan/2010:05:17:05 +0200] \"GET /?id=8 HTTP/1.1\" 200 3018 \"-\" \"Mozilla/5.0 (compatible; Googlebot/2.1; +http://www.google.com/bot.html)\"\r\n",
      "66.249.65.38 - - [31/Jan/2010:05:35:29 +0200] \"GET /browse/download_model/797 HTTP/1.1\" 200 11950 \"-\" \"Mozilla/5.0 (compatible; Googlebot/2.1; +http://www.google.com/bot.html)\"\r\n",
      "66.249.65.38 - - [31/Jan/2010:06:00:42 +0200] \"GET /browse/download_model/2606 HTTP/1.1\" 200 357240 \"-\" \"Mozilla/5.0 (compatible; Googlebot/2.1; +http://www.google.com/bot.html)\"\r\n",
      "66.249.65.38 - - [31/Jan/2010:06:03:13 +0200] \"GET /browse/one_model/993 HTTP/1.1\" 200 2170 \"-\" \"Mozilla/5.0 (compatible; Googlebot/2.1; +http://www.google.com/bot.html)\"\r\n",
      "66.249.65.38 - - [31/Jan/2010:06:25:55 +0200] \"GET /browse/download_model/2601 HTTP/1.1\" 200 2498832 \"-\" \"Mozilla/5.0 (compatible; Googlebot/2.1; +http://www.google.com/bot.html)\"\r\n",
      "66.249.65.38 - - [31/Jan/2010:06:51:01 +0200] \"GET /browse/download_model/2596 HTTP/1.1\" 200 220990 \"-\" \"Mozilla/5.0 (compatible; Googlebot/2.1; +http://www.google.com/bot.html)\"\r\n",
      "66.249.65.38 - - [31/Jan/2010:07:06:26 +0200] \"GET /browse/display_preview/2244 HTTP/1.1\" 200 4072 \"-\" \"Googlebot-Image/1.0\"\r\n",
      "66.249.65.38 - - [31/Jan/2010:07:16:18 +0200] \"GET /browse/download_model/2752 HTTP/1.1\" 200 3146 \"-\" \"Mozilla/5.0 (compatible; Googlebot/2.1; +http://www.google.com/bot.html)\"\r\n",
      "66.249.65.38 - - [31/Jan/2010:07:41:27 +0200] \"GET /browse/download_model/2492 HTTP/1.1\" 200 1680079 \"-\" \"Mozilla/5.0 (compatible; Googlebot/2.1; +http://www.google.com/bot.html)\"\r\n",
      "66.249.65.38 - - [31/Jan/2010:08:06:40 +0200] \"GET /browse/download_model/1408 HTTP/1.1\" 200 25038 \"-\" \"Mozilla/5.0 (compatible; Googlebot/2.1; +http://www.google.com/bot.html)\"\r\n",
      "66.249.65.38 - - [31/Jan/2010:08:31:50 +0200] \"GET /browse/download_model/2511 HTTP/1.1\" 200 39499 \"-\" \"Mozilla/5.0 (compatible; Googlebot/2.1; +http://www.google.com/bot.html)\"\r\n",
      "66.249.65.38 - - [31/Jan/2010:08:56:59 +0200] \"GET /browse/download_model/2479 HTTP/1.1\" 200 39598 \"-\" \"Mozilla/5.0 (compatible; Googlebot/2.1; +http://www.google.com/bot.html)\"\r\n",
      "66.249.65.38 - - [31/Jan/2010:09:22:13 +0200] \"GET /browse/download_model/2754 HTTP/1.1\" 200 3279 \"-\" \"Mozilla/5.0 (compatible; Googlebot/2.1; +http://www.google.com/bot.html)\"\r\n",
      "66.249.65.38 - - [31/Jan/2010:09:47:25 +0200] \"GET /browse/download_model/2751 HTTP/1.1\" 200 3146 \"-\" \"Mozilla/5.0 (compatible; Googlebot/2.1; +http://www.google.com/bot.html)\"\r\n",
      "66.249.65.38 - - [31/Jan/2010:10:12:33 +0200] \"GET /browse/download_model/2656 HTTP/1.1\" 200 117532 \"-\" \"Mozilla/5.0 (compatible; Googlebot/2.1; +http://www.google.com/bot.html)\"\r\n",
      "66.249.65.38 - - [31/Jan/2010:10:30:53 +0200] \"GET /browse/one_node/2701 HTTP/1.1\" 200 39424 \"-\" \"Mozilla/5.0 (compatible; Googlebot/2.1; +http://www.google.com/bot.html)\"\r\n",
      "66.249.65.38 - - [31/Jan/2010:10:37:46 +0200] \"GET /browse/download_model/935 HTTP/1.1\" 200 5014 \"-\" \"Mozilla/5.0 (compatible; Googlebot/2.1; +http://www.google.com/bot.html)\"\r\n",
      "66.249.65.38 - - [31/Jan/2010:11:03:00 +0200] \"GET /browse/download_model/717 HTTP/1.1\" 200 30442 \"-\" \"Mozilla/5.0 (compatible; Googlebot/2.1; +http://www.google.com/bot.html)\"\r\n",
      "66.249.65.38 - - [31/Jan/2010:11:28:14 +0200] \"GET /browse/download_model/751 HTTP/1.1\" 200 7485 \"-\" \"Mozilla/5.0 (compatible; Googlebot/2.1; +http://www.google.com/bot.html)\"\r\n",
      "66.249.65.38 - - [31/Jan/2010:11:53:26 +0200] \"GET /browse/download_model/2549 HTTP/1.1\" 200 5052 \"-\" \"Mozilla/5.0 (compatible; Googlebot/2.1; +http://www.google.com/bot.html)\"\r\n",
      "66.249.65.38 - - [31/Jan/2010:12:18:38 +0200] \"GET /browse/download_model/2650 HTTP/1.1\" 200 57739 \"-\" \"Mozilla/5.0 (compatible; Googlebot/2.1; +http://www.google.com/bot.html)\"\r\n",
      "66.249.65.38 - - [31/Jan/2010:12:43:41 +0200] \"GET /browse/download_model/729 HTTP/1.1\" 200 13146 \"-\" \"Mozilla/5.0 (compatible; Googlebot/2.1; +http://www.google.com/bot.html)\"\r\n",
      "66.249.65.38 - - [31/Jan/2010:12:45:28 +0200] \"GET /browse/browse_applet_tab/2593 HTTP/1.1\" 200 10305 \"-\" \"Mozilla/5.0 (compatible; Googlebot/2.1; +http://www.google.com/bot.html)\"\r\n",
      "66.249.65.38 - - [31/Jan/2010:13:09:00 +0200] \"GET /browse/download_model/814 HTTP/1.1\" 200 3066 \"-\" \"Mozilla/5.0 (compatible; Googlebot/2.1; +http://www.google.com/bot.html)\"\r\n",
      "66.249.65.38 - - [31/Jan/2010:13:34:05 +0200] \"GET /browse/download_model/2629 HTTP/1.1\" 200 62903 \"-\" \"Mozilla/5.0 (compatible; Googlebot/2.1; +http://www.google.com/bot.html)\"\r\n",
      "66.249.65.38 - - [31/Jan/2010:13:59:27 +0200] \"GET /browse/download_model/2644 HTTP/1.1\" 200 12122 \"-\" \"Mozilla/5.0 (compatible; Googlebot/2.1; +http://www.google.com/bot.html)\"\r\n",
      "66.249.65.38 - - [31/Jan/2010:14:24:30 +0200] \"GET /browse/download_model/804 HTTP/1.1\" 200 4085 \"-\" \"Mozilla/5.0 (compatible; Googlebot/2.1; +http://www.google.com/bot.html)\"\r\n",
      "67.195.112.35 - - [31/Jan/2010:14:45:44 +0200] \"GET /robots.txt HTTP/1.0\" 200 99 \"-\" \"Mozilla/5.0 (compatible; Yahoo! Slurp; http://help.yahoo.com/help/us/ysearch/slurp)\"\r\n",
      "67.195.112.35 - - [31/Jan/2010:14:45:44 +0200] \"GET /account/new HTTP/1.0\" 200 2226 \"-\" \"Mozilla/5.0 (compatible; Yahoo! Slurp/3.0; http://help.yahoo.com/help/us/ysearch/slurp)\"\r\n",
      "67.195.112.35 - - [31/Jan/2010:14:45:47 +0200] \"GET /stylesheets/nlcommons.css?1264605648 HTTP/1.0\" 200 1179 \"http://modelingcommons.org/account/new\" \"Mozilla/5.0 (compatible; Yahoo! Slurp/3.0; http://help.yahoo.com/help/us/ysearch/slurp)\"\r\n",
      "67.195.112.35 - - [31/Jan/2010:14:45:50 +0200] \"GET /stylesheets/browse.css?1264605648 HTTP/1.0\" 200 422 \"http://modelingcommons.org/account/new\" \"Mozilla/5.0 (compatible; Yahoo! Slurp/3.0; http://help.yahoo.com/help/us/ysearch/slurp)\"\r\n",
      "67.195.112.35 - - [31/Jan/2010:14:45:52 +0200] \"GET /stylesheets/jquery.autocomplete.css?1264605648 HTTP/1.0\" 200 447 \"http://modelingcommons.org/account/new\" \"Mozilla/5.0 (compatible; Yahoo! Slurp/3.0; http://help.yahoo.com/help/us/ysearch/slurp)\"\r\n",
      "67.195.112.35 - - [31/Jan/2010:14:45:55 +0200] \"GET /stylesheets/themes/nlcommons/ui.all.css?1264605648 HTTP/1.0\" 200 52 \"http://modelingcommons.org/account/new\" \"Mozilla/5.0 (compatible; Yahoo! Slurp/3.0; http://help.yahoo.com/help/us/ysearch/slurp)\"\r\n",
      "67.195.112.35 - - [31/Jan/2010:14:45:57 +0200] \"GET /stylesheets/themes/nlcommons/ui.theme.css HTTP/1.0\" 200 2862 \"http://modelingcommons.org/stylesheets/themes/nlcommons/ui.all.css?1264605648\" \"Mozilla/5.0 (compatible; Yahoo! Slurp/3.0; http://help.yahoo.com/help/us/ysearch/slurp)\"\r\n",
      "67.195.112.35 - - [31/Jan/2010:14:45:57 +0200] \"GET /stylesheets/themes/nlcommons/ui.base.css HTTP/1.0\" 200 111 \"http://modelingcommons.org/stylesheets/themes/nlcommons/ui.all.css?1264605648\" \"Mozilla/5.0 (compatible; Yahoo! Slurp/3.0; http://help.yahoo.com/help/us/ysearch/slurp)\"\r\n",
      "67.195.112.35 - - [31/Jan/2010:14:45:59 +0200] \"GET /stylesheets/themes/nlcommons/ui.slider.css HTTP/1.0\" 200 318 \"http://modelingcommons.org/stylesheets/themes/nlcommons/ui.base.css\" \"Mozilla/5.0 (compatible; Yahoo! Slurp/3.0; http://help.yahoo.com/help/us/ysearch/slurp)\"\r\n",
      "67.195.112.35 - - [31/Jan/2010:14:45:59 +0200] \"GET /stylesheets/themes/nlcommons/ui.core.css HTTP/1.0\" 200 624 \"http://modelingcommons.org/stylesheets/themes/nlcommons/ui.base.css\" \"Mozilla/5.0 (compatible; Yahoo! Slurp/3.0; http://help.yahoo.com/help/us/ysearch/slurp)\"\r\n",
      "67.195.112.35 - - [31/Jan/2010:14:45:59 +0200] \"GET /stylesheets/themes/nlcommons/ui.tabs.css HTTP/1.0\" 200 414 \"http://modelingcommons.org/stylesheets/themes/nlcommons/ui.base.css\" \"Mozilla/5.0 (compatible; Yahoo! Slurp/3.0; http://help.yahoo.com/help/us/ysearch/slurp)\"\r\n",
      "67.195.112.35 - - [31/Jan/2010:14:45:59 +0200] \"GET /stylesheets/themes/nlcommons/ui.accordion.css HTTP/1.0\" 200 295 \"http://modelingcommons.org/stylesheets/themes/nlcommons/ui.base.css\" \"Mozilla/5.0 (compatible; Yahoo! Slurp/3.0; http://help.yahoo.com/help/us/ysearch/slurp)\"\r\n",
      "67.195.112.35 - - [31/Jan/2010:14:45:59 +0200] \"GET /stylesheets/themes/nlcommons/ui.dialog.css HTTP/1.0\" 200 442 \"http://modelingcommons.org/stylesheets/themes/nlcommons/ui.base.css\" \"Mozilla/5.0 (compatible; Yahoo! Slurp/3.0; http://help.yahoo.com/help/us/ysearch/slurp)\"\r\n",
      "67.195.112.35 - - [31/Jan/2010:14:45:59 +0200] \"GET /stylesheets/themes/nlcommons/ui.resizable.css HTTP/1.0\" 200 307 \"http://modelingcommons.org/stylesheets/themes/nlcommons/ui.base.css\" \"Mozilla/5.0 (compatible; Yahoo! Slurp/3.0; http://help.yahoo.com/help/us/ysearch/slurp)\"\r\n",
      "67.195.112.35 - - [31/Jan/2010:14:45:59 +0200] \"GET /stylesheets/themes/nlcommons/ui.datepicker.css HTTP/1.0\" 200 965 \"http://modelingcommons.org/stylesheets/themes/nlcommons/ui.base.css\" \"Mozilla/5.0 (compatible; Yahoo! Slurp/3.0; http://help.yahoo.com/help/us/ysearch/slurp)\"\r\n",
      "67.195.112.35 - - [31/Jan/2010:14:45:59 +0200] \"GET /stylesheets/themes/nlcommons/ui.progressbar.css HTTP/1.0\" 200 114 \"http://modelingcommons.org/stylesheets/themes/nlcommons/ui.base.css\" \"Mozilla/5.0 (compatible; Yahoo! Slurp/3.0; http://help.yahoo.com/help/us/ysearch/slurp)\"\r\n",
      "66.249.65.38 - - [31/Jan/2010:14:49:40 +0200] \"GET /browse/download_model/1420 HTTP/1.1\" 200 73293 \"-\" \"Mozilla/5.0 (compatible; Googlebot/2.1; +http://www.google.com/bot.html)\"\r\n",
      "65.55.207.50 - - [31/Jan/2010:15:07:49 +0200] \"GET /robots.txt HTTP/1.1\" 200 99 \"-\" \"msnbot/2.0b (+http://search.msn.com/msnbot.htm)\"\r\n",
      "65.55.207.50 - - [31/Jan/2010:15:09:06 +0200] \"GET / HTTP/1.1\" 302 109 \"-\" \"msnbot/2.0b (+http://search.msn.com/msnbot.htm)\"\r\n",
      "65.55.207.50 - - [31/Jan/2010:15:09:14 +0200] \"GET /account/login HTTP/1.1\" 200 1935 \"-\" \"msnbot/2.0b (+http://search.msn.com/msnbot.htm)\"\r\n",
      "66.249.65.38 - - [31/Jan/2010:15:14:55 +0200] \"GET /browse/download_model/766 HTTP/1.1\" 200 10923 \"-\" \"Mozilla/5.0 (compatible; Googlebot/2.1; +http://www.google.com/bot.html)\"\r\n",
      "66.249.65.38 - - [31/Jan/2010:15:40:01 +0200] \"GET /browse/download_model/756 HTTP/1.1\" 200 4632 \"-\" \"Mozilla/5.0 (compatible; Googlebot/2.1; +http://www.google.com/bot.html)\"\r\n",
      "66.249.65.38 - - [31/Jan/2010:16:05:28 +0200] \"GET /browse/download_model/757 HTTP/1.1\" 200 11079 \"-\" \"Mozilla/5.0 (compatible; Googlebot/2.1; +http://www.google.com/bot.html)\"\r\n",
      "66.249.65.38 - - [31/Jan/2010:16:30:36 +0200] \"GET /browse/download_model/725 HTTP/1.1\" 200 16082 \"-\" \"Mozilla/5.0 (compatible; Googlebot/2.1; +http://www.google.com/bot.html)\"\r\n",
      "66.249.65.38 - - [31/Jan/2010:16:55:37 +0200] \"GET /browse/download_model/2473 HTTP/1.1\" 200 211110 \"-\" \"Mozilla/5.0 (compatible; Googlebot/2.1; +http://www.google.com/bot.html)\"\r\n",
      "66.249.65.38 - - [31/Jan/2010:17:20:49 +0200] \"GET /browse/download_model/1510 HTTP/1.1\" 200 35814 \"-\" \"Mozilla/5.0 (compatible; Googlebot/2.1; +http://www.google.com/bot.html)\"\r\n",
      "65.55.215.75 - - [31/Jan/2010:17:39:03 +0200] \"GET /robots.txt HTTP/1.1\" 200 99 \"-\" \"msnbot/2.0b (+http://search.msn.com/msnbot.htm)\"\r\n",
      "65.55.215.75 - - [31/Jan/2010:17:40:02 +0200] \"GET /browse/list_models HTTP/1.1\" 304 - \"-\" \"msnbot/2.0b (+http://search.msn.com/msnbot.htm)\"\r\n",
      "66.249.65.38 - - [31/Jan/2010:17:46:08 +0200] \"GET /browse/download_model/802 HTTP/1.1\" 200 4800 \"-\" \"Mozilla/5.0 (compatible; Googlebot/2.1; +http://www.google.com/bot.html)\"\r\n",
      "66.249.65.38 - - [31/Jan/2010:18:11:17 +0200] \"GET /browse/download_model/2194 HTTP/1.1\" 200 11380 \"-\" \"Mozilla/5.0 (compatible; Googlebot/2.1; +http://www.google.com/bot.html)\"\r\n",
      "66.249.65.38 - - [31/Jan/2010:18:36:25 +0200] \"GET /browse/download_model/1572 HTTP/1.1\" 200 10239 \"-\" \"Mozilla/5.0 (compatible; Googlebot/2.1; +http://www.google.com/bot.html)\"\r\n",
      "66.249.65.38 - - [31/Jan/2010:19:01:55 +0200] \"GET /browse/download_model/1806 HTTP/1.1\" 200 12739 \"-\" \"Mozilla/5.0 (compatible; Googlebot/2.1; +http://www.google.com/bot.html)\"\r\n",
      "66.249.65.38 - - [31/Jan/2010:19:26:45 +0200] \"GET /browse/download_model/930 HTTP/1.1\" 200 8271 \"-\" \"Mozilla/5.0 (compatible; Googlebot/2.1; +http://www.google.com/bot.html)\"\r\n",
      "66.249.65.38 - - [31/Jan/2010:19:52:00 +0200] \"GET /browse/download_model/2041 HTTP/1.1\" 200 18891 \"-\" \"Mozilla/5.0 (compatible; Googlebot/2.1; +http://www.google.com/bot.html)\"\r\n",
      "66.249.65.38 - - [31/Jan/2010:20:17:07 +0200] \"GET /browse/download_model/1800 HTTP/1.1\" 200 14802 \"-\" \"Mozilla/5.0 (compatible; Googlebot/2.1; +http://www.google.com/bot.html)\"\r\n",
      "66.249.65.38 - - [31/Jan/2010:20:42:19 +0200] \"GET /browse/one_node/1613 HTTP/1.1\" 200 27080 \"-\" \"Mozilla/5.0 (compatible; Googlebot/2.1; +http://www.google.com/bot.html)\"\r\n",
      "66.249.65.38 - - [31/Jan/2010:21:08:00 +0200] \"GET /browse/one_node/1892 HTTP/1.1\" 200 1296 \"-\" \"Mozilla/5.0 (compatible; Googlebot/2.1; +http://www.google.com/bot.html)\"\r\n",
      "5\r\n",
      "\t10     \r\n",
      "\t20\r\n",
      "  \t3\r\n",
      "\t\t   \t20        \r\n",
      "\r\n",
      " 25\r\n"
     ]
    }
   ],
   "source": [
    "!cat output.txt"
   ]
  },
  {
   "cell_type": "code",
   "execution_count": 114,
   "id": "d97e97da",
   "metadata": {},
   "outputs": [
    {
     "name": "stdout",
     "output_type": "stream",
     "text": [
      "linux-etc-passwd.txt  mini-access-log.txt  nums.txt  output.txt  shoe-data.txt\r\n"
     ]
    }
   ],
   "source": [
    "!ls *.txt"
   ]
  },
  {
   "cell_type": "code",
   "execution_count": 115,
   "id": "183f932b",
   "metadata": {},
   "outputs": [
    {
     "data": {
      "text/plain": [
       "['mini-access-log.txt',\n",
       " 'nums.txt',\n",
       " 'shoe-data.txt',\n",
       " 'linux-etc-passwd.txt',\n",
       " 'output.txt']"
      ]
     },
     "execution_count": 115,
     "metadata": {},
     "output_type": "execute_result"
    }
   ],
   "source": [
    "import glob  # use patterns in filenames\n",
    "glob.glob('*.txt')"
   ]
  },
  {
   "cell_type": "code",
   "execution_count": 118,
   "id": "be138af6",
   "metadata": {},
   "outputs": [
    {
     "name": "stdout",
     "output_type": "stream",
     "text": [
      "Now writing mini-access-log.txt\n",
      "Now writing nums.txt\n",
      "Now writing linux-etc-passwd.txt\n"
     ]
    }
   ],
   "source": [
    "all_lines('output.txt', \n",
    "          *glob.glob('[lmn]*.txt'))  # takes elements of glob.glob's returned list and passes to *args"
   ]
  },
  {
   "cell_type": "code",
   "execution_count": 119,
   "id": "55b1564b",
   "metadata": {},
   "outputs": [
    {
     "data": {
      "text/plain": [
       "\"a=10, b=20, args=({'x': 1, 'y': 2, 'z': 3},)\""
      ]
     },
     "execution_count": 119,
     "metadata": {},
     "output_type": "execute_result"
    }
   ],
   "source": [
    "def myfunc(a, b, *args):\n",
    "    return f'{a=}, {b=}, {args=}'\n",
    "\n",
    "d = {'x':1, 'y':2, 'z':3}\n",
    "\n",
    "myfunc(10, 20, d)  # the dict is a positional argument, so is the first (only) element in args, a tuple"
   ]
  },
  {
   "cell_type": "code",
   "execution_count": 120,
   "id": "23f76857",
   "metadata": {},
   "outputs": [
    {
     "data": {
      "text/plain": [
       "\"a=10, b=20, args=('x', 'y', 'z')\""
      ]
     },
     "execution_count": 120,
     "metadata": {},
     "output_type": "execute_result"
    }
   ],
   "source": [
    "myfunc(10, 20, *d)  # the dict's keys are passed as positional arguments, so they all go into the tuple"
   ]
  },
  {
   "cell_type": "code",
   "execution_count": 123,
   "id": "d58713cd",
   "metadata": {},
   "outputs": [
    {
     "data": {
      "text/plain": [
       "'a=10, b=20, args=(30, 40, 50)'"
      ]
     },
     "execution_count": 123,
     "metadata": {},
     "output_type": "execute_result"
    }
   ],
   "source": [
    "# let's give a default argument value to b\n",
    "def myfunc(a, b=99, *args):\n",
    "    return f'{a=}, {b=}, {args=}'\n",
    "\n",
    "myfunc(10, 20, 30, 40, 50)"
   ]
  },
  {
   "cell_type": "code",
   "execution_count": 124,
   "id": "e6f74b8b",
   "metadata": {},
   "outputs": [
    {
     "ename": "SyntaxError",
     "evalue": "invalid syntax (659356030.py, line 3)",
     "output_type": "error",
     "traceback": [
      "\u001b[0;36m  File \u001b[0;32m\"/var/folders/rr/0mnyyv811fs5vyp22gf4fxk00000gn/T/ipykernel_22121/659356030.py\"\u001b[0;36m, line \u001b[0;32m3\u001b[0m\n\u001b[0;31m    myfunc(10, , 30, 40, 50)\u001b[0m\n\u001b[0m               ^\u001b[0m\n\u001b[0;31mSyntaxError\u001b[0m\u001b[0;31m:\u001b[0m invalid syntax\n"
     ]
    }
   ],
   "source": [
    "# how can I leave b with its default value, and give some values to args?\n",
    "\n",
    "myfunc(10, , 30, 40, 50)"
   ]
  },
  {
   "cell_type": "code",
   "execution_count": 125,
   "id": "793cd6a1",
   "metadata": {},
   "outputs": [
    {
     "ename": "TypeError",
     "evalue": "myfunc() got an unexpected keyword argument 'args'",
     "output_type": "error",
     "traceback": [
      "\u001b[0;31m---------------------------------------------------------------------------\u001b[0m",
      "\u001b[0;31mTypeError\u001b[0m                                 Traceback (most recent call last)",
      "\u001b[0;32m/var/folders/rr/0mnyyv811fs5vyp22gf4fxk00000gn/T/ipykernel_22121/2865077455.py\u001b[0m in \u001b[0;36m<module>\u001b[0;34m\u001b[0m\n\u001b[0;32m----> 1\u001b[0;31m \u001b[0mmyfunc\u001b[0m\u001b[0;34m(\u001b[0m\u001b[0;36m10\u001b[0m\u001b[0;34m,\u001b[0m \u001b[0margs\u001b[0m\u001b[0;34m=\u001b[0m\u001b[0;34m(\u001b[0m\u001b[0;36m30\u001b[0m\u001b[0;34m,\u001b[0m \u001b[0;36m40\u001b[0m\u001b[0;34m,\u001b[0m \u001b[0;36m50\u001b[0m\u001b[0;34m)\u001b[0m\u001b[0;34m)\u001b[0m  \u001b[0;31m# args only looks at positional arguments\u001b[0m\u001b[0;34m\u001b[0m\u001b[0;34m\u001b[0m\u001b[0m\n\u001b[0m",
      "\u001b[0;31mTypeError\u001b[0m: myfunc() got an unexpected keyword argument 'args'"
     ]
    }
   ],
   "source": [
    "myfunc(10, args=(30, 40, 50))  # args only looks at positional arguments"
   ]
  },
  {
   "cell_type": "code",
   "execution_count": 126,
   "id": "c6e685ea",
   "metadata": {},
   "outputs": [
    {
     "data": {
      "text/plain": [
       "'a=10, b=99, args=(20, 30, 40, 50)'"
      ]
     },
     "execution_count": 126,
     "metadata": {},
     "output_type": "execute_result"
    }
   ],
   "source": [
    "# there's no good solution!\n",
    "# except for... making b a *keyword-only parameter*\n",
    "# if the parameter appears *after* *args, it's keyword only\n",
    "def myfunc(a, *args, b=99):\n",
    "    return f'{a=}, {b=}, {args=}'\n",
    "\n",
    "myfunc(10, 20, 30, 40, 50)"
   ]
  },
  {
   "cell_type": "code",
   "execution_count": 127,
   "id": "f2768cad",
   "metadata": {},
   "outputs": [
    {
     "data": {
      "text/plain": [
       "'a=10, b=888, args=(20, 30, 40, 50)'"
      ]
     },
     "execution_count": 127,
     "metadata": {},
     "output_type": "execute_result"
    }
   ],
   "source": [
    "# if you want to set b, you must pass it as a keyword argument\n",
    "myfunc(10, 20, 30, 40, 50, b=888)"
   ]
  },
  {
   "cell_type": "code",
   "execution_count": 128,
   "id": "6667c11e",
   "metadata": {},
   "outputs": [],
   "source": [
    "# what if I define b to be keyword-only and I *don't* give it a default value?\n",
    "# now it's still a keyword-only parameter *but* it's mandatory\n",
    "\n",
    "def myfunc(a, *args, b):\n",
    "    return f'{a=}, {b=}, {args=}'\n"
   ]
  },
  {
   "cell_type": "code",
   "execution_count": 129,
   "id": "01757f86",
   "metadata": {},
   "outputs": [
    {
     "ename": "TypeError",
     "evalue": "myfunc() missing 1 required keyword-only argument: 'b'",
     "output_type": "error",
     "traceback": [
      "\u001b[0;31m---------------------------------------------------------------------------\u001b[0m",
      "\u001b[0;31mTypeError\u001b[0m                                 Traceback (most recent call last)",
      "\u001b[0;32m/var/folders/rr/0mnyyv811fs5vyp22gf4fxk00000gn/T/ipykernel_22121/885864022.py\u001b[0m in \u001b[0;36m<module>\u001b[0;34m\u001b[0m\n\u001b[0;32m----> 1\u001b[0;31m \u001b[0mmyfunc\u001b[0m\u001b[0;34m(\u001b[0m\u001b[0;36m10\u001b[0m\u001b[0;34m,\u001b[0m \u001b[0;36m20\u001b[0m\u001b[0;34m,\u001b[0m \u001b[0;36m30\u001b[0m\u001b[0;34m)\u001b[0m\u001b[0;34m\u001b[0m\u001b[0;34m\u001b[0m\u001b[0m\n\u001b[0m",
      "\u001b[0;31mTypeError\u001b[0m: myfunc() missing 1 required keyword-only argument: 'b'"
     ]
    }
   ],
   "source": [
    "myfunc(10, 20, 30)"
   ]
  },
  {
   "cell_type": "code",
   "execution_count": 130,
   "id": "2651734c",
   "metadata": {},
   "outputs": [
    {
     "data": {
      "text/plain": [
       "'a=10, b=777, args=(20, 30)'"
      ]
     },
     "execution_count": 130,
     "metadata": {},
     "output_type": "execute_result"
    }
   ],
   "source": [
    "myfunc(10, 20, 30, b=777)"
   ]
  },
  {
   "cell_type": "code",
   "execution_count": null,
   "id": "4cb0a073",
   "metadata": {},
   "outputs": [],
   "source": []
  },
  {
   "cell_type": "markdown",
   "id": "f1f9d345",
   "metadata": {},
   "source": [
    "# Parameters, so far\n",
    "\n",
    "1. Regular (mandatory) parameters, can get values via either positional or keyword args\n",
    "2. Optional parameters, which have default values\n",
    "3. `*args`, which takes all unclaimed positional arguments\n",
    "4. Mandatory keyword-only parameters\n",
    "5. Optional keyword-only parameters, which have default values"
   ]
  },
  {
   "cell_type": "markdown",
   "id": "d796e88c",
   "metadata": {},
   "source": [
    "# `**kwargs`\n",
    "\n",
    "This special parameter comes at the end, and it takes all of the keyword arguments that no one else took. (If there are no keyword arguments, then it's an empty dict.)\n",
    "\n",
    "- The name is traditionally `kwargs`, but you can use whatever you want\n",
    "- It must have `**` (\"double splat\") before its name\n",
    "- It is always a dict, in which the keywords are strings and the values are whatever people passed\n",
    "- It's totaly OK to have both `*args` and `**kwargs` in a function defintion, because they look at completely different things."
   ]
  },
  {
   "cell_type": "code",
   "execution_count": 131,
   "id": "4f12173f",
   "metadata": {},
   "outputs": [],
   "source": [
    "def myfunc(a, b, **kwargs):\n",
    "    return f'{a=}, {b=}, {kwargs=}'"
   ]
  },
  {
   "cell_type": "code",
   "execution_count": 132,
   "id": "8cf6eb73",
   "metadata": {},
   "outputs": [
    {
     "data": {
      "text/plain": [
       "'a=10, b=20, kwargs={}'"
      ]
     },
     "execution_count": 132,
     "metadata": {},
     "output_type": "execute_result"
    }
   ],
   "source": [
    "myfunc(10, 20)"
   ]
  },
  {
   "cell_type": "code",
   "execution_count": 133,
   "id": "60787c7a",
   "metadata": {},
   "outputs": [
    {
     "ename": "TypeError",
     "evalue": "myfunc() takes 2 positional arguments but 3 were given",
     "output_type": "error",
     "traceback": [
      "\u001b[0;31m---------------------------------------------------------------------------\u001b[0m",
      "\u001b[0;31mTypeError\u001b[0m                                 Traceback (most recent call last)",
      "\u001b[0;32m/var/folders/rr/0mnyyv811fs5vyp22gf4fxk00000gn/T/ipykernel_22121/885864022.py\u001b[0m in \u001b[0;36m<module>\u001b[0;34m\u001b[0m\n\u001b[0;32m----> 1\u001b[0;31m \u001b[0mmyfunc\u001b[0m\u001b[0;34m(\u001b[0m\u001b[0;36m10\u001b[0m\u001b[0;34m,\u001b[0m \u001b[0;36m20\u001b[0m\u001b[0;34m,\u001b[0m \u001b[0;36m30\u001b[0m\u001b[0;34m)\u001b[0m\u001b[0;34m\u001b[0m\u001b[0;34m\u001b[0m\u001b[0m\n\u001b[0m",
      "\u001b[0;31mTypeError\u001b[0m: myfunc() takes 2 positional arguments but 3 were given"
     ]
    }
   ],
   "source": [
    "myfunc(10, 20, 30)"
   ]
  },
  {
   "cell_type": "code",
   "execution_count": 134,
   "id": "e2c41c89",
   "metadata": {},
   "outputs": [
    {
     "data": {
      "text/plain": [
       "\"a=10, b=20, kwargs={'x': 100, 'y': 200, 'z': [10, 20, 30]}\""
      ]
     },
     "execution_count": 134,
     "metadata": {},
     "output_type": "execute_result"
    }
   ],
   "source": [
    "myfunc(10, 20, x=100, y=200, z=[10, 20, 30])"
   ]
  },
  {
   "cell_type": "code",
   "execution_count": 135,
   "id": "82067ad3",
   "metadata": {},
   "outputs": [
    {
     "data": {
      "text/plain": [
       "{'a': 1, 'b': 2, 'c': 3}"
      ]
     },
     "execution_count": 135,
     "metadata": {},
     "output_type": "execute_result"
    }
   ],
   "source": [
    "dict(a=1, b=2, c=3)"
   ]
  },
  {
   "cell_type": "code",
   "execution_count": 136,
   "id": "eaf5eaba",
   "metadata": {},
   "outputs": [
    {
     "ename": "TypeError",
     "evalue": "myfunc() got multiple values for argument 'a'",
     "output_type": "error",
     "traceback": [
      "\u001b[0;31m---------------------------------------------------------------------------\u001b[0m",
      "\u001b[0;31mTypeError\u001b[0m                                 Traceback (most recent call last)",
      "\u001b[0;32m/var/folders/rr/0mnyyv811fs5vyp22gf4fxk00000gn/T/ipykernel_22121/3715223369.py\u001b[0m in \u001b[0;36m<module>\u001b[0;34m\u001b[0m\n\u001b[0;32m----> 1\u001b[0;31m \u001b[0mmyfunc\u001b[0m\u001b[0;34m(\u001b[0m\u001b[0;36m10\u001b[0m\u001b[0;34m,\u001b[0m \u001b[0;36m20\u001b[0m\u001b[0;34m,\u001b[0m \u001b[0ma\u001b[0m\u001b[0;34m=\u001b[0m\u001b[0;36m100\u001b[0m\u001b[0;34m,\u001b[0m \u001b[0mb\u001b[0m\u001b[0;34m=\u001b[0m\u001b[0;36m200\u001b[0m\u001b[0;34m)\u001b[0m\u001b[0;34m\u001b[0m\u001b[0;34m\u001b[0m\u001b[0m\n\u001b[0m",
      "\u001b[0;31mTypeError\u001b[0m: myfunc() got multiple values for argument 'a'"
     ]
    }
   ],
   "source": [
    "myfunc(10, 20, a=100, b=200)"
   ]
  },
  {
   "cell_type": "code",
   "execution_count": 137,
   "id": "879158e5",
   "metadata": {},
   "outputs": [],
   "source": [
    "def write_config(filename, **kwargs):\n",
    "    with open(filename, 'w') as f:        # open our file for writing\n",
    "        for key, value in kwargs.items(): # go through each key-value pair\n",
    "            f.write(f'{key}={value}\\n')   # write the key-value pair with key=value to our file\n",
    "            \n",
    "write_config('config.txt', a=100, b=200, c=300)            "
   ]
  },
  {
   "cell_type": "code",
   "execution_count": 138,
   "id": "89d08d6e",
   "metadata": {},
   "outputs": [
    {
     "name": "stdout",
     "output_type": "stream",
     "text": [
      "a=100\r\n",
      "b=200\r\n",
      "c=300\r\n"
     ]
    }
   ],
   "source": [
    "!cat config.txt"
   ]
  },
  {
   "cell_type": "code",
   "execution_count": 139,
   "id": "5077f87f",
   "metadata": {},
   "outputs": [
    {
     "ename": "TypeError",
     "evalue": "write_config() takes 1 positional argument but 2 were given",
     "output_type": "error",
     "traceback": [
      "\u001b[0;31m---------------------------------------------------------------------------\u001b[0m",
      "\u001b[0;31mTypeError\u001b[0m                                 Traceback (most recent call last)",
      "\u001b[0;32m/var/folders/rr/0mnyyv811fs5vyp22gf4fxk00000gn/T/ipykernel_22121/2573755803.py\u001b[0m in \u001b[0;36m<module>\u001b[0;34m\u001b[0m\n\u001b[1;32m      2\u001b[0m \u001b[0md\u001b[0m \u001b[0;34m=\u001b[0m \u001b[0;34m{\u001b[0m\u001b[0;34m'a'\u001b[0m\u001b[0;34m:\u001b[0m\u001b[0;36m1\u001b[0m\u001b[0;34m,\u001b[0m \u001b[0;34m'b'\u001b[0m\u001b[0;34m:\u001b[0m\u001b[0;36m2\u001b[0m\u001b[0;34m,\u001b[0m \u001b[0;34m'c'\u001b[0m\u001b[0;34m:\u001b[0m\u001b[0;36m3\u001b[0m\u001b[0;34m}\u001b[0m\u001b[0;34m\u001b[0m\u001b[0;34m\u001b[0m\u001b[0m\n\u001b[1;32m      3\u001b[0m \u001b[0;34m\u001b[0m\u001b[0m\n\u001b[0;32m----> 4\u001b[0;31m \u001b[0mwrite_config\u001b[0m\u001b[0;34m(\u001b[0m\u001b[0;34m'config.txt'\u001b[0m\u001b[0;34m,\u001b[0m \u001b[0md\u001b[0m\u001b[0;34m)\u001b[0m  \u001b[0;31m# this won't work!\u001b[0m\u001b[0;34m\u001b[0m\u001b[0;34m\u001b[0m\u001b[0m\n\u001b[0m",
      "\u001b[0;31mTypeError\u001b[0m: write_config() takes 1 positional argument but 2 were given"
     ]
    }
   ],
   "source": [
    "# how can I pass this dict to write_config?\n",
    "d = {'a':1, 'b':2, 'c':3}\n",
    "\n",
    "write_config('config.txt', d)  # this won't work!"
   ]
  },
  {
   "cell_type": "code",
   "execution_count": 140,
   "id": "071594cd",
   "metadata": {},
   "outputs": [],
   "source": [
    "# ** in function arguments means: turn the dict into a keyword-argument\n",
    "\n",
    "write_config('config.txt', **d)  # unroll d into keyword arguments"
   ]
  },
  {
   "cell_type": "code",
   "execution_count": 142,
   "id": "d44f89cd",
   "metadata": {},
   "outputs": [
    {
     "data": {
      "text/plain": [
       "125"
      ]
     },
     "execution_count": 142,
     "metadata": {},
     "output_type": "execute_result"
    }
   ],
   "source": [
    "5**3"
   ]
  },
  {
   "cell_type": "markdown",
   "id": "eb47e88e",
   "metadata": {},
   "source": [
    "# Exercise: XML\n",
    "\n",
    "1. Write a function, `xml`, which takes a flexible set of arguments and returns a string containing XML.  \n",
    "2. The returned string will always contain an opening tag and closing tag, and perhaps some text as well.\n",
    "3. The function should take:\n",
    "    - One mandatory argument, a string, the name of the tag (used in opening and closing)\n",
    "    - One optional argument, a string, the content that'll be inside of the tag\n",
    "    - Any number of key-value pairs (keyword arguments) that'll be used to create attributes inside of the opening tag.\n",
    "    \n",
    "Examples:\n",
    "\n",
    "```python\n",
    "xml('tagname')                      # '<tagname></tagname>'\n",
    "xml('tagname', 'text')              # '<tagname>text</tagname>'\n",
    "xml('tagname', 'text', a=1, b=2)    # '<tagname a=\"1\" b=\"2\">text</tagname>'\n",
    "```"
   ]
  },
  {
   "cell_type": "code",
   "execution_count": 152,
   "id": "2043e6d2",
   "metadata": {},
   "outputs": [
    {
     "name": "stdout",
     "output_type": "stream",
     "text": [
      "<tagname></tagname>\n",
      "<tagname>text</tagname>\n",
      "<a><b><c>hello</c></b></a>\n",
      "<tagname a=\"1\" b=\"2\">text</tagname>\n"
     ]
    }
   ],
   "source": [
    "def xml(t, text='', **kwargs):\n",
    "    attributes = ''\n",
    "    \n",
    "    for key, value in kwargs.items():\n",
    "        attributes += f' {key}=\"{value}\"'\n",
    "\n",
    "    return f'<{t}{attributes}>{text}</{t}>'\n",
    "    \n",
    "    \n",
    "print(xml('tagname'))                      # '<tagname></tagname>'\n",
    "print(xml('tagname', 'text'))              # '<tagname>text</tagname>'\n",
    "print(xml('a',\n",
    "         xml('b',\n",
    "            xml('c', 'hello'))))\n",
    "\n",
    "print(xml('tagname', 'text', a=1, b=2))    # '<tagname a=\"1\" b=\"2\">text</tagname>'\n",
    "    "
   ]
  },
  {
   "cell_type": "code",
   "execution_count": null,
   "id": "1e168e46",
   "metadata": {},
   "outputs": [],
   "source": []
  },
  {
   "cell_type": "markdown",
   "id": "e3e927ce",
   "metadata": {},
   "source": [
    "# Parameters, so far\n",
    "\n",
    "1. Regular (mandatory) parameters, can get values via either positional or keyword args\n",
    "2. Optional parameters, which have default values\n",
    "3. `*args`, which takes all unclaimed positional arguments **OR** just `*`\n",
    "4. Mandatory keyword-only parameters\n",
    "5. Optional keyword-only parameters, which have default values"
   ]
  },
  {
   "cell_type": "code",
   "execution_count": 153,
   "id": "0264fe71",
   "metadata": {},
   "outputs": [
    {
     "data": {
      "text/plain": [
       "'a=10, args=(20, 30), b=100'"
      ]
     },
     "execution_count": 153,
     "metadata": {},
     "output_type": "execute_result"
    }
   ],
   "source": [
    "# what if I want keyword-only parameters?\n",
    "# just put them after *args\n",
    "\n",
    "def myfunc(a, *args, b):\n",
    "    return f'{a=}, {args=}, {b=}'\n",
    "\n",
    "myfunc(10, 20, 30, b=100)"
   ]
  },
  {
   "cell_type": "code",
   "execution_count": 159,
   "id": "efc54c29",
   "metadata": {},
   "outputs": [
    {
     "ename": "TypeError",
     "evalue": "myfunc() takes 1 positional argument but 2 were given",
     "output_type": "error",
     "traceback": [
      "\u001b[0;31m---------------------------------------------------------------------------\u001b[0m",
      "\u001b[0;31mTypeError\u001b[0m                                 Traceback (most recent call last)",
      "\u001b[0;32m/var/folders/rr/0mnyyv811fs5vyp22gf4fxk00000gn/T/ipykernel_22121/1194259549.py\u001b[0m in \u001b[0;36m<module>\u001b[0;34m\u001b[0m\n\u001b[1;32m      5\u001b[0m     \u001b[0;32mreturn\u001b[0m \u001b[0;34mf'{a=}, {b=}'\u001b[0m\u001b[0;34m\u001b[0m\u001b[0;34m\u001b[0m\u001b[0m\n\u001b[1;32m      6\u001b[0m \u001b[0;34m\u001b[0m\u001b[0m\n\u001b[0;32m----> 7\u001b[0;31m \u001b[0mmyfunc\u001b[0m\u001b[0;34m(\u001b[0m\u001b[0;36m10\u001b[0m\u001b[0;34m,\u001b[0m \u001b[0;36m100\u001b[0m\u001b[0;34m)\u001b[0m\u001b[0;34m\u001b[0m\u001b[0;34m\u001b[0m\u001b[0m\n\u001b[0m",
      "\u001b[0;31mTypeError\u001b[0m: myfunc() takes 1 positional argument but 2 were given"
     ]
    }
   ],
   "source": [
    "# what if I want keyword-only parameters\n",
    "# and I *don't* want *args?\n",
    "\n",
    "def myfunc(a, *, b):   # this * means: after here, all parameters are keyword-only\n",
    "    return f'{a=}, {b=}'\n",
    "\n",
    "myfunc(10, 100)"
   ]
  },
  {
   "cell_type": "code",
   "execution_count": 160,
   "id": "87b38db6",
   "metadata": {},
   "outputs": [
    {
     "name": "stdout",
     "output_type": "stream",
     "text": [
      "Name:              myfunc\n",
      "Filename:          /var/folders/rr/0mnyyv811fs5vyp22gf4fxk00000gn/T/ipykernel_22121/1194259549.py\n",
      "Argument count:    1\n",
      "Positional-only arguments: 0\n",
      "Kw-only arguments: 1\n",
      "Number of locals:  2\n",
      "Stack size:        4\n",
      "Flags:             OPTIMIZED, NEWLOCALS, NOFREE\n",
      "Constants:\n",
      "   0: None\n",
      "   1: 'a='\n",
      "   2: ', b='\n",
      "Variable names:\n",
      "   0: a\n",
      "   1: b\n"
     ]
    }
   ],
   "source": [
    "dis.show_code(myfunc)"
   ]
  },
  {
   "cell_type": "code",
   "execution_count": 161,
   "id": "fba644a9",
   "metadata": {},
   "outputs": [
    {
     "data": {
      "text/plain": [
       "4"
      ]
     },
     "execution_count": 161,
     "metadata": {},
     "output_type": "execute_result"
    }
   ],
   "source": [
    "len('abcd')"
   ]
  },
  {
   "cell_type": "code",
   "execution_count": 162,
   "id": "c059d696",
   "metadata": {},
   "outputs": [
    {
     "name": "stdout",
     "output_type": "stream",
     "text": [
      "Help on built-in function len in module builtins:\n",
      "\n",
      "len(obj, /)\n",
      "    Return the number of items in a container.\n",
      "\n"
     ]
    }
   ],
   "source": [
    "help(len)"
   ]
  },
  {
   "cell_type": "code",
   "execution_count": 163,
   "id": "f282a2dc",
   "metadata": {},
   "outputs": [
    {
     "ename": "TypeError",
     "evalue": "len() takes no keyword arguments",
     "output_type": "error",
     "traceback": [
      "\u001b[0;31m---------------------------------------------------------------------------\u001b[0m",
      "\u001b[0;31mTypeError\u001b[0m                                 Traceback (most recent call last)",
      "\u001b[0;32m/var/folders/rr/0mnyyv811fs5vyp22gf4fxk00000gn/T/ipykernel_22121/1361069149.py\u001b[0m in \u001b[0;36m<module>\u001b[0;34m\u001b[0m\n\u001b[1;32m      1\u001b[0m \u001b[0;31m# let's call len with a keyword argument\u001b[0m\u001b[0;34m\u001b[0m\u001b[0;34m\u001b[0m\u001b[0m\n\u001b[0;32m----> 2\u001b[0;31m \u001b[0mlen\u001b[0m\u001b[0;34m(\u001b[0m\u001b[0mobj\u001b[0m\u001b[0;34m=\u001b[0m\u001b[0;34m'abcd'\u001b[0m\u001b[0;34m)\u001b[0m\u001b[0;34m\u001b[0m\u001b[0;34m\u001b[0m\u001b[0m\n\u001b[0m",
      "\u001b[0;31mTypeError\u001b[0m: len() takes no keyword arguments"
     ]
    }
   ],
   "source": [
    "# let's call len with a keyword argument\n",
    "len(obj='abcd')"
   ]
  },
  {
   "cell_type": "code",
   "execution_count": null,
   "id": "60903ff3",
   "metadata": {},
   "outputs": [],
   "source": []
  },
  {
   "cell_type": "markdown",
   "id": "beeba94f",
   "metadata": {},
   "source": [
    "# Parameters (final edition)\n",
    "\n",
    "1. Positional-only parameters, before `/`\n",
    "2. Regular (mandatory) parameters, can get values via either positional or keyword args\n",
    "3. Optional parameters, which have default values\n",
    "4. `*args`, which takes all unclaimed positional arguments **OR** just `*`\n",
    "5. Mandatory keyword-only parameters\n",
    "6. Optional keyword-only parameters, which have default values\n",
    "7. `**kwargs`, all unclaimed keyword arguments"
   ]
  },
  {
   "cell_type": "code",
   "execution_count": 167,
   "id": "5e6f3b3a",
   "metadata": {},
   "outputs": [
    {
     "data": {
      "text/plain": [
       "'<mytag a=\"10\" b=\"20\" c=\"30\">mytext</mytag>'"
      ]
     },
     "execution_count": 167,
     "metadata": {},
     "output_type": "execute_result"
    }
   ],
   "source": [
    "# the / says: anything before here is positional only\n",
    "# and any positional-only parameter cannot get a keyword argument\n",
    "# so: no conflicts\n",
    "\n",
    "def xml(t, text='', /,  **kwargs):\n",
    "    attributes = ''\n",
    "    \n",
    "    for key, value in kwargs.items():\n",
    "        attributes += f' {key}=\"{value}\"'\n",
    "\n",
    "    return f'<{t}{attributes}>{text}</{t}>'\n",
    "\n",
    "xml('mytag', 'mytext', a=10, b=20, c=30)"
   ]
  },
  {
   "cell_type": "code",
   "execution_count": 168,
   "id": "bb4815cf",
   "metadata": {},
   "outputs": [
    {
     "data": {
      "text/plain": [
       "'<mytag t=\"10\" u=\"20\" v=\"30\">mytext</mytag>'"
      ]
     },
     "execution_count": 168,
     "metadata": {},
     "output_type": "execute_result"
    }
   ],
   "source": [
    "# what if, for whatever reason, I want an attribute named \"t\"?\n",
    "\n",
    "xml('mytag', 'mytext', t=10, u=20, v=30)"
   ]
  },
  {
   "cell_type": "code",
   "execution_count": 173,
   "id": "3d82dad1",
   "metadata": {},
   "outputs": [
    {
     "data": {
      "text/plain": [
       "'<mytag t=\"12345\">mytext</mytag>'"
      ]
     },
     "execution_count": 173,
     "metadata": {},
     "output_type": "execute_result"
    }
   ],
   "source": [
    "xml('mytag', 'mytext', t=12345)"
   ]
  },
  {
   "cell_type": "code",
   "execution_count": 169,
   "id": "5de57521",
   "metadata": {},
   "outputs": [],
   "source": [
    "def myfunc(a, b, **kwargs):\n",
    "    return f'{a=}, {b=}, {kwargs=}'"
   ]
  },
  {
   "cell_type": "code",
   "execution_count": 170,
   "id": "5c03ce31",
   "metadata": {},
   "outputs": [
    {
     "data": {
      "text/plain": [
       "\"a=10, b=20, kwargs={'x': 100, 'y': 200}\""
      ]
     },
     "execution_count": 170,
     "metadata": {},
     "output_type": "execute_result"
    }
   ],
   "source": [
    "myfunc(10, 20, x=100, y=200)"
   ]
  },
  {
   "cell_type": "code",
   "execution_count": 171,
   "id": "62f66520",
   "metadata": {},
   "outputs": [
    {
     "ename": "TypeError",
     "evalue": "myfunc() got multiple values for argument 'a'",
     "output_type": "error",
     "traceback": [
      "\u001b[0;31m---------------------------------------------------------------------------\u001b[0m",
      "\u001b[0;31mTypeError\u001b[0m                                 Traceback (most recent call last)",
      "\u001b[0;32m/var/folders/rr/0mnyyv811fs5vyp22gf4fxk00000gn/T/ipykernel_22121/1269881481.py\u001b[0m in \u001b[0;36m<module>\u001b[0;34m\u001b[0m\n\u001b[1;32m      1\u001b[0m \u001b[0;31m# this won't work because my keyword arguments are using a and b, but\u001b[0m\u001b[0;34m\u001b[0m\u001b[0;34m\u001b[0m\u001b[0m\n\u001b[1;32m      2\u001b[0m \u001b[0;31m# we already passed positional arguments to parameters a and b\u001b[0m\u001b[0;34m\u001b[0m\u001b[0;34m\u001b[0m\u001b[0m\n\u001b[0;32m----> 3\u001b[0;31m \u001b[0mmyfunc\u001b[0m\u001b[0;34m(\u001b[0m\u001b[0;36m10\u001b[0m\u001b[0;34m,\u001b[0m \u001b[0;36m20\u001b[0m\u001b[0;34m,\u001b[0m \u001b[0ma\u001b[0m\u001b[0;34m=\u001b[0m\u001b[0;36m100\u001b[0m\u001b[0;34m,\u001b[0m \u001b[0mb\u001b[0m\u001b[0;34m=\u001b[0m\u001b[0;36m200\u001b[0m\u001b[0;34m)\u001b[0m\u001b[0;34m\u001b[0m\u001b[0;34m\u001b[0m\u001b[0m\n\u001b[0m",
      "\u001b[0;31mTypeError\u001b[0m: myfunc() got multiple values for argument 'a'"
     ]
    }
   ],
   "source": [
    "# this won't work because my keyword arguments are using a and b, but\n",
    "# we already passed positional arguments to parameters a and b\n",
    "myfunc(10, 20, a=100, b=200)"
   ]
  },
  {
   "cell_type": "code",
   "execution_count": 172,
   "id": "b7854137",
   "metadata": {},
   "outputs": [
    {
     "data": {
      "text/plain": [
       "'a=100, b=200, kwargs={}'"
      ]
     },
     "execution_count": 172,
     "metadata": {},
     "output_type": "execute_result"
    }
   ],
   "source": [
    "myfunc(a=100, b=200)"
   ]
  },
  {
   "cell_type": "code",
   "execution_count": 174,
   "id": "a4a70e95",
   "metadata": {},
   "outputs": [],
   "source": [
    "def myfunc(a, b, /, *, c, d):\n",
    "    return f'{a=}, {b=}, {c=}, {d=}'"
   ]
  },
  {
   "cell_type": "code",
   "execution_count": 175,
   "id": "7c2051d3",
   "metadata": {},
   "outputs": [
    {
     "data": {
      "text/plain": [
       "'a=10, b=20, c=100, d=200'"
      ]
     },
     "execution_count": 175,
     "metadata": {},
     "output_type": "execute_result"
    }
   ],
   "source": [
    "myfunc(10, 20, c=100, d=200)"
   ]
  },
  {
   "cell_type": "code",
   "execution_count": 176,
   "id": "00c84b2a",
   "metadata": {},
   "outputs": [
    {
     "name": "stdout",
     "output_type": "stream",
     "text": [
      "Help on built-in function sorted in module builtins:\n",
      "\n",
      "sorted(iterable, /, *, key=None, reverse=False)\n",
      "    Return a new list containing all items from the iterable in ascending order.\n",
      "    \n",
      "    A custom key function can be supplied to customize the sort order, and the\n",
      "    reverse flag can be set to request the result in descending order.\n",
      "\n"
     ]
    }
   ],
   "source": [
    "help(sorted)"
   ]
  },
  {
   "cell_type": "code",
   "execution_count": 177,
   "id": "0d3c0ea9",
   "metadata": {},
   "outputs": [
    {
     "name": "stdout",
     "output_type": "stream",
     "text": [
      "Help on method_descriptor:\n",
      "\n",
      "split(self, /, sep=None, maxsplit=-1)\n",
      "    Return a list of the words in the string, using sep as the delimiter string.\n",
      "    \n",
      "    sep\n",
      "      The delimiter according which to split the string.\n",
      "      None (the default value) means split according to any whitespace,\n",
      "      and discard empty strings from the result.\n",
      "    maxsplit\n",
      "      Maximum number of splits to do.\n",
      "      -1 (the default value) means no limit.\n",
      "\n"
     ]
    }
   ],
   "source": [
    "help(str.split)"
   ]
  },
  {
   "cell_type": "markdown",
   "id": "ce056931",
   "metadata": {},
   "source": [
    "# Next up\n",
    "\n",
    "- Byte codes and compiling functions\n",
    "- Scoping in Python -- the LEGB rule\n",
    "\n",
    "Resume at :05"
   ]
  },
  {
   "cell_type": "code",
   "execution_count": 178,
   "id": "93f45fa8",
   "metadata": {},
   "outputs": [],
   "source": [
    "def myfunc():\n",
    "    pass"
   ]
  },
  {
   "cell_type": "code",
   "execution_count": 179,
   "id": "6a14f237",
   "metadata": {},
   "outputs": [
    {
     "data": {
      "text/plain": [
       "function"
      ]
     },
     "execution_count": 179,
     "metadata": {},
     "output_type": "execute_result"
    }
   ],
   "source": [
    "type(myfunc)"
   ]
  },
  {
   "cell_type": "code",
   "execution_count": 180,
   "id": "e16f8322",
   "metadata": {},
   "outputs": [
    {
     "name": "stdout",
     "output_type": "stream",
     "text": [
      "  2           0 LOAD_CONST               0 (None)\n",
      "              2 RETURN_VALUE\n"
     ]
    }
   ],
   "source": [
    "dis.dis(myfunc)  # show me the bytecodes!"
   ]
  },
  {
   "cell_type": "code",
   "execution_count": 181,
   "id": "bd5da1df",
   "metadata": {},
   "outputs": [
    {
     "data": {
      "text/plain": [
       "b'd\\x00S\\x00'"
      ]
     },
     "execution_count": 181,
     "metadata": {},
     "output_type": "execute_result"
    }
   ],
   "source": [
    "myfunc.__code__.co_code"
   ]
  },
  {
   "cell_type": "code",
   "execution_count": 182,
   "id": "c264fe67",
   "metadata": {},
   "outputs": [],
   "source": [
    "x = myfunc()"
   ]
  },
  {
   "cell_type": "code",
   "execution_count": 183,
   "id": "7adaa84b",
   "metadata": {},
   "outputs": [
    {
     "data": {
      "text/plain": [
       "NoneType"
      ]
     },
     "execution_count": 183,
     "metadata": {},
     "output_type": "execute_result"
    }
   ],
   "source": [
    "type(x)"
   ]
  },
  {
   "cell_type": "code",
   "execution_count": 184,
   "id": "9a3b958f",
   "metadata": {},
   "outputs": [
    {
     "data": {
      "text/plain": [
       "(None,)"
      ]
     },
     "execution_count": 184,
     "metadata": {},
     "output_type": "execute_result"
    }
   ],
   "source": [
    "myfunc.__code__.co_consts"
   ]
  },
  {
   "cell_type": "code",
   "execution_count": 185,
   "id": "30c9e933",
   "metadata": {},
   "outputs": [],
   "source": [
    "def myfunc():\n",
    "    print('Hello')"
   ]
  },
  {
   "cell_type": "code",
   "execution_count": 186,
   "id": "42f1b730",
   "metadata": {},
   "outputs": [
    {
     "name": "stdout",
     "output_type": "stream",
     "text": [
      "  2           0 LOAD_GLOBAL              0 (print)\n",
      "              2 LOAD_CONST               1 ('Hello')\n",
      "              4 CALL_FUNCTION            1\n",
      "              6 POP_TOP\n",
      "              8 LOAD_CONST               0 (None)\n",
      "             10 RETURN_VALUE\n"
     ]
    }
   ],
   "source": [
    "dis.dis(myfunc)"
   ]
  },
  {
   "cell_type": "code",
   "execution_count": 187,
   "id": "18e92046",
   "metadata": {},
   "outputs": [
    {
     "data": {
      "text/plain": [
       "(None, 'Hello')"
      ]
     },
     "execution_count": 187,
     "metadata": {},
     "output_type": "execute_result"
    }
   ],
   "source": [
    "myfunc.__code__.co_consts"
   ]
  },
  {
   "cell_type": "code",
   "execution_count": 188,
   "id": "84006f0a",
   "metadata": {},
   "outputs": [],
   "source": [
    "def myfunc():\n",
    "    return 'Hello'"
   ]
  },
  {
   "cell_type": "code",
   "execution_count": 189,
   "id": "c8e9cdd5",
   "metadata": {},
   "outputs": [
    {
     "name": "stdout",
     "output_type": "stream",
     "text": [
      "  2           0 LOAD_CONST               1 ('Hello')\n",
      "              2 RETURN_VALUE\n"
     ]
    }
   ],
   "source": [
    "dis.dis(myfunc)"
   ]
  },
  {
   "cell_type": "code",
   "execution_count": 190,
   "id": "a2098614",
   "metadata": {},
   "outputs": [],
   "source": [
    "def hello(name):\n",
    "    return f'Hello, {name}!'"
   ]
  },
  {
   "cell_type": "code",
   "execution_count": 191,
   "id": "571039c4",
   "metadata": {},
   "outputs": [
    {
     "name": "stdout",
     "output_type": "stream",
     "text": [
      "  2           0 LOAD_CONST               1 ('Hello, ')\n",
      "              2 LOAD_FAST                0 (name)\n",
      "              4 FORMAT_VALUE             0\n",
      "              6 LOAD_CONST               2 ('!')\n",
      "              8 BUILD_STRING             3\n",
      "             10 RETURN_VALUE\n"
     ]
    }
   ],
   "source": [
    "dis.dis(hello)"
   ]
  },
  {
   "cell_type": "code",
   "execution_count": 192,
   "id": "1eff1eff",
   "metadata": {},
   "outputs": [],
   "source": [
    "def hello(name, count):\n",
    "    for i in range(count):\n",
    "        print(f'Hello, {name}!')"
   ]
  },
  {
   "cell_type": "code",
   "execution_count": 193,
   "id": "6f5e4916",
   "metadata": {},
   "outputs": [
    {
     "name": "stdout",
     "output_type": "stream",
     "text": [
      "Hello, Reuven!\n",
      "Hello, Reuven!\n",
      "Hello, Reuven!\n",
      "Hello, Reuven!\n"
     ]
    }
   ],
   "source": [
    "hello('Reuven', 4)"
   ]
  },
  {
   "cell_type": "code",
   "execution_count": 194,
   "id": "8d8edb0f",
   "metadata": {},
   "outputs": [
    {
     "name": "stdout",
     "output_type": "stream",
     "text": [
      "  2           0 LOAD_GLOBAL              0 (range)\n",
      "              2 LOAD_FAST                1 (count)\n",
      "              4 CALL_FUNCTION            1\n",
      "              6 GET_ITER\n",
      "        >>    8 FOR_ITER                10 (to 30)\n",
      "             10 STORE_FAST               2 (i)\n",
      "\n",
      "  3          12 LOAD_GLOBAL              1 (print)\n",
      "             14 LOAD_CONST               1 ('Hello, ')\n",
      "             16 LOAD_FAST                0 (name)\n",
      "             18 FORMAT_VALUE             0\n",
      "             20 LOAD_CONST               2 ('!')\n",
      "             22 BUILD_STRING             3\n",
      "             24 CALL_FUNCTION            1\n",
      "             26 POP_TOP\n",
      "             28 JUMP_ABSOLUTE            4 (to 8)\n",
      "\n",
      "  2     >>   30 LOAD_CONST               0 (None)\n",
      "             32 RETURN_VALUE\n"
     ]
    }
   ],
   "source": [
    "dis.dis(hello)"
   ]
  },
  {
   "cell_type": "code",
   "execution_count": 200,
   "id": "057c08fe",
   "metadata": {},
   "outputs": [
    {
     "ename": "SyntaxError",
     "evalue": "expected ':' (2242568056.py, line 2)",
     "output_type": "error",
     "traceback": [
      "\u001b[0;36m  File \u001b[0;32m\"/var/folders/rr/0mnyyv811fs5vyp22gf4fxk00000gn/T/ipykernel_22121/2242568056.py\"\u001b[0;36m, line \u001b[0;32m2\u001b[0m\n\u001b[0;31m    if Trasdfafasfdaasue\u001b[0m\n\u001b[0m                        ^\u001b[0m\n\u001b[0;31mSyntaxError\u001b[0m\u001b[0;31m:\u001b[0m expected ':'\n"
     ]
    }
   ],
   "source": [
    "def myfunc():\n",
    "    if Trasdfafasfdaasue\n",
    "    asdfafafaffdfdsfafafa\n",
    "    asdfsaddffafadfasf"
   ]
  },
  {
   "cell_type": "markdown",
   "id": "7434df03",
   "metadata": {},
   "source": [
    "# Scoping\n",
    "\n",
    "Scoping means: When does a variable exist (and when doesn't it)?   What variables can I retrieve from and assign to in various places in my program, *especially* in a function?\n",
    "\n"
   ]
  },
  {
   "cell_type": "code",
   "execution_count": 201,
   "id": "db24770a",
   "metadata": {},
   "outputs": [
    {
     "name": "stdout",
     "output_type": "stream",
     "text": [
      "x = 100\n"
     ]
    }
   ],
   "source": [
    "x = 100\n",
    "print(f'x = {x}')   # is x global? Yes, and the value is 100"
   ]
  },
  {
   "cell_type": "markdown",
   "id": "81bc69d9",
   "metadata": {},
   "source": [
    "How does Python know that x is 100?\n",
    "\n",
    "Python has four places it can look in for variables, aka four different **scopes**:\n",
    "\n",
    "- `L` Local\n",
    "- `E` Enclosing\n",
    "- `G` Global\n",
    "- `B` Builtin\n",
    "\n",
    "Python searches through these scopes, in order, until it finds a variable's name defined there. At that point, it stops searching -- so first come, first serve.  \n",
    "\n",
    "If we're in a function body (inside of a `def`), then Python starts searching with the local scope, L.  If we're *not* in a function body, then it starts searching from the global scope, G."
   ]
  },
  {
   "cell_type": "code",
   "execution_count": 202,
   "id": "eefb31db",
   "metadata": {},
   "outputs": [
    {
     "data": {
      "text/plain": [
       "True"
      ]
     },
     "execution_count": 202,
     "metadata": {},
     "output_type": "execute_result"
    }
   ],
   "source": [
    "# globals() returns a dict of all our global variables\n",
    "# variable names are keys (as strings)\n",
    "\n",
    "'x' in globals()"
   ]
  },
  {
   "cell_type": "code",
   "execution_count": 203,
   "id": "477a4037",
   "metadata": {},
   "outputs": [
    {
     "data": {
      "text/plain": [
       "100"
      ]
     },
     "execution_count": 203,
     "metadata": {},
     "output_type": "execute_result"
    }
   ],
   "source": [
    "globals()['x']"
   ]
  },
  {
   "cell_type": "code",
   "execution_count": 204,
   "id": "d960b74c",
   "metadata": {},
   "outputs": [],
   "source": [
    "# how do I get rid of a global variable?\n",
    "del(x)   # this removes it from globals()"
   ]
  },
  {
   "cell_type": "code",
   "execution_count": 205,
   "id": "5d3fc392",
   "metadata": {},
   "outputs": [
    {
     "data": {
      "text/plain": [
       "False"
      ]
     },
     "execution_count": 205,
     "metadata": {},
     "output_type": "execute_result"
    }
   ],
   "source": [
    "'x' in globals()"
   ]
  },
  {
   "cell_type": "code",
   "execution_count": 206,
   "id": "857f3503",
   "metadata": {},
   "outputs": [
    {
     "name": "stdout",
     "output_type": "stream",
     "text": [
      "Before, x = 100\n",
      "In myfunc, x = 100\n",
      "After, x = 100\n"
     ]
    }
   ],
   "source": [
    "x = 100\n",
    "\n",
    "def myfunc():\n",
    "    print(f'In myfunc, x = {x}') # is x local? NO. is x global? YES, 100\n",
    "\n",
    "print(f'Before, x = {x}') # is x global? YES, 100\n",
    "myfunc()\n",
    "print(f'After, x = {x}') # is x global? YES, 100"
   ]
  },
  {
   "cell_type": "code",
   "execution_count": 207,
   "id": "eacc9df5",
   "metadata": {},
   "outputs": [
    {
     "data": {
      "text/plain": [
       "()"
      ]
     },
     "execution_count": 207,
     "metadata": {},
     "output_type": "execute_result"
    }
   ],
   "source": [
    "myfunc.__code__.co_varnames"
   ]
  },
  {
   "cell_type": "code",
   "execution_count": 208,
   "id": "9c1953fd",
   "metadata": {},
   "outputs": [],
   "source": [
    "# both i and n are global variables!\n",
    "\n",
    "for i in range(10):\n",
    "    n = i **2"
   ]
  },
  {
   "cell_type": "code",
   "execution_count": 209,
   "id": "7e6677c2",
   "metadata": {},
   "outputs": [
    {
     "data": {
      "text/plain": [
       "9"
      ]
     },
     "execution_count": 209,
     "metadata": {},
     "output_type": "execute_result"
    }
   ],
   "source": [
    "# after the loop is done:\n",
    "i"
   ]
  },
  {
   "cell_type": "code",
   "execution_count": 210,
   "id": "32cb4f5d",
   "metadata": {},
   "outputs": [
    {
     "data": {
      "text/plain": [
       "81"
      ]
     },
     "execution_count": 210,
     "metadata": {},
     "output_type": "execute_result"
    }
   ],
   "source": [
    "n"
   ]
  },
  {
   "cell_type": "code",
   "execution_count": 211,
   "id": "8956eb96",
   "metadata": {},
   "outputs": [
    {
     "name": "stdout",
     "output_type": "stream",
     "text": [
      "Before, x = 100\n",
      "Hello!\n",
      "In myfunc, x = 100\n",
      "After, x = 100\n"
     ]
    }
   ],
   "source": [
    "x = 100\n",
    "\n",
    "def hello():\n",
    "    return f'Hello!'\n",
    "\n",
    "def myfunc():\n",
    "    print(hello())  # is hello global? YES, get the function value, run the function, print the result\n",
    "    print(f'In myfunc, x = {x}') \n",
    "\n",
    "print(f'Before, x = {x}') \n",
    "myfunc()\n",
    "print(f'After, x = {x}') "
   ]
  },
  {
   "cell_type": "code",
   "execution_count": 214,
   "id": "88d4b40b",
   "metadata": {},
   "outputs": [
    {
     "name": "stdout",
     "output_type": "stream",
     "text": [
      "Before, x = 100\n",
      "{'x': 200}\n",
      "In myfunc, x = 200\n",
      "After, x = 100\n"
     ]
    }
   ],
   "source": [
    "x = 100\n",
    "\n",
    "def myfunc():\n",
    "    x = 200\n",
    "    print(f'In myfunc, x = {x}') # is x local? YES, value is 200\n",
    "\n",
    "print(f'Before, x = {x}')   # is x global? yes, 100\n",
    "myfunc()\n",
    "print(f'After, x = {x}') # is x global? yes, 100"
   ]
  },
  {
   "cell_type": "code",
   "execution_count": 213,
   "id": "26098866",
   "metadata": {},
   "outputs": [
    {
     "data": {
      "text/plain": [
       "('x',)"
      ]
     },
     "execution_count": 213,
     "metadata": {},
     "output_type": "execute_result"
    }
   ],
   "source": [
    "myfunc.__code__.co_varnames"
   ]
  },
  {
   "cell_type": "code",
   "execution_count": 216,
   "id": "17b113e9",
   "metadata": {},
   "outputs": [],
   "source": [
    "x = 100\n",
    "\n",
    "def myfunc():\n",
    "    print(f'In myfunc, x = {x}')  # is x local? YES... no value, though!\n",
    "    x = 200"
   ]
  },
  {
   "cell_type": "code",
   "execution_count": 217,
   "id": "df2272ce",
   "metadata": {},
   "outputs": [
    {
     "data": {
      "text/plain": [
       "('x',)"
      ]
     },
     "execution_count": 217,
     "metadata": {},
     "output_type": "execute_result"
    }
   ],
   "source": [
    "myfunc.__code__.co_varnames"
   ]
  },
  {
   "cell_type": "code",
   "execution_count": 215,
   "id": "fc40acc6",
   "metadata": {},
   "outputs": [
    {
     "name": "stdout",
     "output_type": "stream",
     "text": [
      "Before, x = 100\n"
     ]
    },
    {
     "ename": "UnboundLocalError",
     "evalue": "local variable 'x' referenced before assignment",
     "output_type": "error",
     "traceback": [
      "\u001b[0;31m---------------------------------------------------------------------------\u001b[0m",
      "\u001b[0;31mUnboundLocalError\u001b[0m                         Traceback (most recent call last)",
      "\u001b[0;32m/var/folders/rr/0mnyyv811fs5vyp22gf4fxk00000gn/T/ipykernel_22121/2149317850.py\u001b[0m in \u001b[0;36m<module>\u001b[0;34m\u001b[0m\n\u001b[1;32m      6\u001b[0m \u001b[0;34m\u001b[0m\u001b[0m\n\u001b[1;32m      7\u001b[0m \u001b[0mprint\u001b[0m\u001b[0;34m(\u001b[0m\u001b[0;34mf'Before, x = {x}'\u001b[0m\u001b[0;34m)\u001b[0m\u001b[0;34m\u001b[0m\u001b[0;34m\u001b[0m\u001b[0m\n\u001b[0;32m----> 8\u001b[0;31m \u001b[0mmyfunc\u001b[0m\u001b[0;34m(\u001b[0m\u001b[0;34m)\u001b[0m\u001b[0;34m\u001b[0m\u001b[0;34m\u001b[0m\u001b[0m\n\u001b[0m\u001b[1;32m      9\u001b[0m \u001b[0mprint\u001b[0m\u001b[0;34m(\u001b[0m\u001b[0;34mf'After, x = {x}'\u001b[0m\u001b[0;34m)\u001b[0m\u001b[0;34m\u001b[0m\u001b[0;34m\u001b[0m\u001b[0m\n",
      "\u001b[0;32m/var/folders/rr/0mnyyv811fs5vyp22gf4fxk00000gn/T/ipykernel_22121/2149317850.py\u001b[0m in \u001b[0;36mmyfunc\u001b[0;34m()\u001b[0m\n\u001b[1;32m      2\u001b[0m \u001b[0;34m\u001b[0m\u001b[0m\n\u001b[1;32m      3\u001b[0m \u001b[0;32mdef\u001b[0m \u001b[0mmyfunc\u001b[0m\u001b[0;34m(\u001b[0m\u001b[0;34m)\u001b[0m\u001b[0;34m:\u001b[0m\u001b[0;34m\u001b[0m\u001b[0;34m\u001b[0m\u001b[0m\n\u001b[0;32m----> 4\u001b[0;31m     \u001b[0mprint\u001b[0m\u001b[0;34m(\u001b[0m\u001b[0;34mf'In myfunc, x = {x}'\u001b[0m\u001b[0;34m)\u001b[0m\u001b[0;34m\u001b[0m\u001b[0;34m\u001b[0m\u001b[0m\n\u001b[0m\u001b[1;32m      5\u001b[0m     \u001b[0mx\u001b[0m \u001b[0;34m=\u001b[0m \u001b[0;36m200\u001b[0m\u001b[0;34m\u001b[0m\u001b[0;34m\u001b[0m\u001b[0m\n\u001b[1;32m      6\u001b[0m \u001b[0;34m\u001b[0m\u001b[0m\n",
      "\u001b[0;31mUnboundLocalError\u001b[0m: local variable 'x' referenced before assignment"
     ]
    }
   ],
   "source": [
    "print(f'Before, x = {x}')   \n",
    "myfunc()\n",
    "print(f'After, x = {x}') "
   ]
  },
  {
   "cell_type": "code",
   "execution_count": 218,
   "id": "7cf8285d",
   "metadata": {},
   "outputs": [
    {
     "name": "stdout",
     "output_type": "stream",
     "text": [
      "Before, x = 100\n"
     ]
    },
    {
     "ename": "UnboundLocalError",
     "evalue": "local variable 'x' referenced before assignment",
     "output_type": "error",
     "traceback": [
      "\u001b[0;31m---------------------------------------------------------------------------\u001b[0m",
      "\u001b[0;31mUnboundLocalError\u001b[0m                         Traceback (most recent call last)",
      "\u001b[0;32m/var/folders/rr/0mnyyv811fs5vyp22gf4fxk00000gn/T/ipykernel_22121/3451240374.py\u001b[0m in \u001b[0;36m<module>\u001b[0;34m\u001b[0m\n\u001b[1;32m      6\u001b[0m \u001b[0;34m\u001b[0m\u001b[0m\n\u001b[1;32m      7\u001b[0m \u001b[0mprint\u001b[0m\u001b[0;34m(\u001b[0m\u001b[0;34mf'Before, x = {x}'\u001b[0m\u001b[0;34m)\u001b[0m\u001b[0;34m\u001b[0m\u001b[0;34m\u001b[0m\u001b[0m\n\u001b[0;32m----> 8\u001b[0;31m \u001b[0mmyfunc\u001b[0m\u001b[0;34m(\u001b[0m\u001b[0;34m)\u001b[0m\u001b[0;34m\u001b[0m\u001b[0;34m\u001b[0m\u001b[0m\n\u001b[0m\u001b[1;32m      9\u001b[0m \u001b[0mprint\u001b[0m\u001b[0;34m(\u001b[0m\u001b[0;34mf'After, x = {x}'\u001b[0m\u001b[0;34m)\u001b[0m\u001b[0;34m\u001b[0m\u001b[0;34m\u001b[0m\u001b[0m\n",
      "\u001b[0;32m/var/folders/rr/0mnyyv811fs5vyp22gf4fxk00000gn/T/ipykernel_22121/3451240374.py\u001b[0m in \u001b[0;36mmyfunc\u001b[0;34m()\u001b[0m\n\u001b[1;32m      2\u001b[0m \u001b[0;34m\u001b[0m\u001b[0m\n\u001b[1;32m      3\u001b[0m \u001b[0;32mdef\u001b[0m \u001b[0mmyfunc\u001b[0m\u001b[0;34m(\u001b[0m\u001b[0;34m)\u001b[0m\u001b[0;34m:\u001b[0m\u001b[0;34m\u001b[0m\u001b[0;34m\u001b[0m\u001b[0m\n\u001b[0;32m----> 4\u001b[0;31m     \u001b[0mx\u001b[0m \u001b[0;34m+=\u001b[0m \u001b[0;36m1\u001b[0m\u001b[0;34m\u001b[0m\u001b[0;34m\u001b[0m\u001b[0m\n\u001b[0m\u001b[1;32m      5\u001b[0m     \u001b[0mprint\u001b[0m\u001b[0;34m(\u001b[0m\u001b[0;34mf'In myfunc, x = {x}'\u001b[0m\u001b[0;34m)\u001b[0m\u001b[0;34m\u001b[0m\u001b[0;34m\u001b[0m\u001b[0m\n\u001b[1;32m      6\u001b[0m \u001b[0;34m\u001b[0m\u001b[0m\n",
      "\u001b[0;31mUnboundLocalError\u001b[0m: local variable 'x' referenced before assignment"
     ]
    }
   ],
   "source": [
    "x = 100\n",
    "\n",
    "def myfunc():\n",
    "    x += 1   #  same as x = x + 1\n",
    "    print(f'In myfunc, x = {x}') \n",
    "    \n",
    "print(f'Before, x = {x}')   \n",
    "myfunc()\n",
    "print(f'After, x = {x}')     "
   ]
  },
  {
   "cell_type": "code",
   "execution_count": 219,
   "id": "68a37356",
   "metadata": {},
   "outputs": [
    {
     "name": "stdout",
     "output_type": "stream",
     "text": [
      "Before, x=100\n",
      "After, x=100\n"
     ]
    }
   ],
   "source": [
    "x = 100\n",
    "\n",
    "def myfunc(n):\n",
    "    n += 1\n",
    "    \n",
    "print(f'Before, {x=}')\n",
    "myfunc(x)     # meaning: calling myfunc(100) \n",
    "print(f'After, {x=}')"
   ]
  },
  {
   "cell_type": "code",
   "execution_count": 220,
   "id": "2fa4e357",
   "metadata": {},
   "outputs": [
    {
     "name": "stdout",
     "output_type": "stream",
     "text": [
      "Before, x=[10, 20, 30]\n",
      "After, x=[10, 20, 30, 10]\n"
     ]
    }
   ],
   "source": [
    "# different from: \n",
    "x = [10, 20, 30]\n",
    "\n",
    "def myfunc(n):\n",
    "    # in the function, local n and global x both refer to the same list\n",
    "    # since lists are mutable, changing n means we're also changing x\n",
    "    n.append(10)\n",
    "    \n",
    "print(f'Before, {x=}')\n",
    "myfunc(x)  # means: calling myfunc([10, 20, 30]), passing a reference to the list x refers to \n",
    "print(f'After, {x=}')"
   ]
  },
  {
   "cell_type": "code",
   "execution_count": 224,
   "id": "b4308287",
   "metadata": {},
   "outputs": [
    {
     "ename": "SyntaxError",
     "evalue": "name 'x' is parameter and global (3467983291.py, line 6)",
     "output_type": "error",
     "traceback": [
      "\u001b[0;36m  File \u001b[0;32m\"/var/folders/rr/0mnyyv811fs5vyp22gf4fxk00000gn/T/ipykernel_22121/3467983291.py\"\u001b[0;36m, line \u001b[0;32m6\u001b[0m\n\u001b[0;31m    global x  # this means: when Python compiles our function, DO NOT RECORD x as a local variable!\u001b[0m\n\u001b[0m    ^\u001b[0m\n\u001b[0;31mSyntaxError\u001b[0m\u001b[0;31m:\u001b[0m name 'x' is parameter and global\n"
     ]
    }
   ],
   "source": [
    "# I really want to change the global variable x from within my function!\n",
    "\n",
    "x = 100\n",
    "\n",
    "def myfunc():\n",
    "    global x  # this means: when Python compiles our function, DO NOT RECORD x as a local variable!\n",
    "    x = 200\n",
    "    print(f'In myfunc, x = {x}')  # is x local? \n",
    "    \n",
    "print(f'Before, x = {x}')   # is x global? yes, 100\n",
    "myfunc()\n",
    "print(f'After, x = {x}')     "
   ]
  },
  {
   "cell_type": "code",
   "execution_count": 222,
   "id": "ece36709",
   "metadata": {},
   "outputs": [
    {
     "data": {
      "text/plain": [
       "()"
      ]
     },
     "execution_count": 222,
     "metadata": {},
     "output_type": "execute_result"
    }
   ],
   "source": [
    "myfunc.__code__.co_varnames"
   ]
  },
  {
   "cell_type": "code",
   "execution_count": 225,
   "id": "71638bdd",
   "metadata": {},
   "outputs": [],
   "source": [
    "x = 100\n",
    "\n",
    "def myfunc():\n",
    "    x = 200\n",
    "    print(f'In myfunc, x = {x}')  # is x local? \n"
   ]
  },
  {
   "cell_type": "code",
   "execution_count": 226,
   "id": "f24dd78f",
   "metadata": {},
   "outputs": [
    {
     "name": "stdout",
     "output_type": "stream",
     "text": [
      "  6           0 LOAD_CONST               1 (200)\n",
      "              2 STORE_FAST               0 (x)\n",
      "\n",
      "  7           4 LOAD_GLOBAL              0 (print)\n",
      "              6 LOAD_CONST               2 ('In myfunc, x = ')\n",
      "              8 LOAD_FAST                0 (x)\n",
      "             10 FORMAT_VALUE             0\n",
      "             12 BUILD_STRING             2\n",
      "             14 CALL_FUNCTION            1\n",
      "             16 POP_TOP\n",
      "             18 LOAD_CONST               0 (None)\n",
      "             20 RETURN_VALUE\n"
     ]
    }
   ],
   "source": [
    "dis.dis(myfunc)"
   ]
  },
  {
   "cell_type": "code",
   "execution_count": 227,
   "id": "d8429513",
   "metadata": {},
   "outputs": [
    {
     "data": {
      "text/plain": [
       "(None, 200, 'In myfunc, x = ')"
      ]
     },
     "execution_count": 227,
     "metadata": {},
     "output_type": "execute_result"
    }
   ],
   "source": [
    "myfunc.__code__.co_consts"
   ]
  },
  {
   "cell_type": "code",
   "execution_count": 228,
   "id": "71ac06a4",
   "metadata": {},
   "outputs": [],
   "source": [
    "x = 100\n",
    "\n",
    "def myfunc():\n",
    "    global x\n",
    "    x = 200\n",
    "    print(f'In myfunc, x = {x}')  # is x local? "
   ]
  },
  {
   "cell_type": "code",
   "execution_count": 229,
   "id": "d8f249f0",
   "metadata": {},
   "outputs": [
    {
     "name": "stdout",
     "output_type": "stream",
     "text": [
      "  5           0 LOAD_CONST               1 (200)\n",
      "              2 STORE_GLOBAL             0 (x)\n",
      "\n",
      "  6           4 LOAD_GLOBAL              1 (print)\n",
      "              6 LOAD_CONST               2 ('In myfunc, x = ')\n",
      "              8 LOAD_GLOBAL              0 (x)\n",
      "             10 FORMAT_VALUE             0\n",
      "             12 BUILD_STRING             2\n",
      "             14 CALL_FUNCTION            1\n",
      "             16 POP_TOP\n",
      "             18 LOAD_CONST               0 (None)\n",
      "             20 RETURN_VALUE\n"
     ]
    }
   ],
   "source": [
    "dis.dis(myfunc)"
   ]
  },
  {
   "cell_type": "code",
   "execution_count": 230,
   "id": "98ad8272",
   "metadata": {},
   "outputs": [
    {
     "name": "stdout",
     "output_type": "stream",
     "text": [
      "Before, x = 100\n",
      "In myfunc, x = 200\n",
      "After, x = 200\n"
     ]
    }
   ],
   "source": [
    "# I prefer, if I really need to modify global variables from my function, to use the __main__ module\n",
    "import __main__\n",
    "\n",
    "x = 100\n",
    "\n",
    "def myfunc():\n",
    "    __main__.x = 200   # this means: assign to the global variable x!\n",
    "    print(f'In myfunc, x = {x}') \n",
    "    \n",
    "print(f'Before, x = {x}')   \n",
    "myfunc()\n",
    "print(f'After, x = {x}')     "
   ]
  },
  {
   "cell_type": "code",
   "execution_count": 231,
   "id": "ae1fddd9",
   "metadata": {},
   "outputs": [
    {
     "name": "stdout",
     "output_type": "stream",
     "text": [
      "Before, x = 100\n",
      "In myfunc, x = 100, y = 200\n",
      "After, x = 200\n"
     ]
    }
   ],
   "source": [
    "# I prefer, if I really need to modify global variables from my function, to use the __main__ module\n",
    "\n",
    "x = 100\n",
    "\n",
    "def myfunc():\n",
    "    y = 200   # this means: assign to the global variable x!\n",
    "    print(f'In myfunc, x = {x}, y = {y}') \n",
    "    return y\n",
    "    \n",
    "print(f'Before, x = {x}')   \n",
    "x = myfunc()  # definitely the best way to update/set a global variable\n",
    "print(f'After, x = {x}')     "
   ]
  },
  {
   "cell_type": "code",
   "execution_count": 232,
   "id": "540dbb61",
   "metadata": {},
   "outputs": [],
   "source": [
    "# Local and global scopes"
   ]
  },
  {
   "cell_type": "code",
   "execution_count": 234,
   "id": "a06811be",
   "metadata": {},
   "outputs": [
    {
     "ename": "SyntaxError",
     "evalue": "invalid syntax (1520687954.py, line 4)",
     "output_type": "error",
     "traceback": [
      "\u001b[0;36m  File \u001b[0;32m\"/var/folders/rr/0mnyyv811fs5vyp22gf4fxk00000gn/T/ipykernel_22121/1520687954.py\"\u001b[0;36m, line \u001b[0;32m4\u001b[0m\n\u001b[0;31m    while = 10\u001b[0m\n\u001b[0m          ^\u001b[0m\n\u001b[0;31mSyntaxError\u001b[0m\u001b[0;31m:\u001b[0m invalid syntax\n"
     ]
    }
   ],
   "source": [
    "# certain words in Python are reserved, or \"keywords\"\n",
    "# you cannot assign them a new value\n",
    "\n",
    "while = 10"
   ]
  },
  {
   "cell_type": "code",
   "execution_count": 235,
   "id": "c5056b21",
   "metadata": {},
   "outputs": [
    {
     "ename": "SyntaxError",
     "evalue": "invalid syntax (43395512.py, line 1)",
     "output_type": "error",
     "traceback": [
      "\u001b[0;36m  File \u001b[0;32m\"/var/folders/rr/0mnyyv811fs5vyp22gf4fxk00000gn/T/ipykernel_22121/43395512.py\"\u001b[0;36m, line \u001b[0;32m1\u001b[0m\n\u001b[0;31m    def = 'abc'\u001b[0m\n\u001b[0m        ^\u001b[0m\n\u001b[0;31mSyntaxError\u001b[0m\u001b[0;31m:\u001b[0m invalid syntax\n"
     ]
    }
   ],
   "source": [
    "def = 'abc'"
   ]
  },
  {
   "cell_type": "code",
   "execution_count": 236,
   "id": "f59caaea",
   "metadata": {},
   "outputs": [],
   "source": [
    "list = [100, 200, 300]"
   ]
  },
  {
   "cell_type": "code",
   "execution_count": 237,
   "id": "1534ab4f",
   "metadata": {},
   "outputs": [
    {
     "data": {
      "text/plain": [
       "100"
      ]
     },
     "execution_count": 237,
     "metadata": {},
     "output_type": "execute_result"
    }
   ],
   "source": [
    "list[0]"
   ]
  },
  {
   "cell_type": "code",
   "execution_count": 238,
   "id": "f17e43e1",
   "metadata": {},
   "outputs": [
    {
     "data": {
      "text/plain": [
       "200"
      ]
     },
     "execution_count": 238,
     "metadata": {},
     "output_type": "execute_result"
    }
   ],
   "source": [
    "list[1]"
   ]
  },
  {
   "cell_type": "code",
   "execution_count": 239,
   "id": "3fdbb400",
   "metadata": {},
   "outputs": [
    {
     "ename": "TypeError",
     "evalue": "'list' object is not callable",
     "output_type": "error",
     "traceback": [
      "\u001b[0;31m---------------------------------------------------------------------------\u001b[0m",
      "\u001b[0;31mTypeError\u001b[0m                                 Traceback (most recent call last)",
      "\u001b[0;32m/var/folders/rr/0mnyyv811fs5vyp22gf4fxk00000gn/T/ipykernel_22121/861721234.py\u001b[0m in \u001b[0;36m<module>\u001b[0;34m\u001b[0m\n\u001b[1;32m      1\u001b[0m \u001b[0;31m# what if I now want to create a list?\u001b[0m\u001b[0;34m\u001b[0m\u001b[0;34m\u001b[0m\u001b[0m\n\u001b[0;32m----> 2\u001b[0;31m \u001b[0mlist\u001b[0m\u001b[0;34m(\u001b[0m\u001b[0;34m'abc'\u001b[0m\u001b[0;34m)\u001b[0m\u001b[0;34m\u001b[0m\u001b[0;34m\u001b[0m\u001b[0m\n\u001b[0m",
      "\u001b[0;31mTypeError\u001b[0m: 'list' object is not callable"
     ]
    }
   ],
   "source": [
    "# what if I now want to create a list?\n",
    "list('abc')"
   ]
  },
  {
   "cell_type": "markdown",
   "id": "bb5ebdf5",
   "metadata": {},
   "source": [
    "# Builtins namespace\n",
    "\n",
    "Many, *many* common names in Python aren't reserved keywords. They are defined in \"builtins\". There are only about 25 keywords; everything else is in builtins.  For example:\n",
    "\n",
    "- `list`\n",
    "- `dict`\n",
    "- `int`\n",
    "- `len`\n",
    "- `sum`\n",
    "\n",
    "The builtins namespace is checked *after* the global namespace.\n",
    "\n",
    "So if you define a global with the same name as something in builtins, you have basically stopped us from using the builtin value."
   ]
  },
  {
   "cell_type": "code",
   "execution_count": 240,
   "id": "abf1df51",
   "metadata": {},
   "outputs": [],
   "source": [
    "sum = 10 + 20 + 30"
   ]
  },
  {
   "cell_type": "code",
   "execution_count": 241,
   "id": "2ca8f2f8",
   "metadata": {},
   "outputs": [
    {
     "ename": "TypeError",
     "evalue": "'int' object is not callable",
     "output_type": "error",
     "traceback": [
      "\u001b[0;31m---------------------------------------------------------------------------\u001b[0m",
      "\u001b[0;31mTypeError\u001b[0m                                 Traceback (most recent call last)",
      "\u001b[0;32m/var/folders/rr/0mnyyv811fs5vyp22gf4fxk00000gn/T/ipykernel_22121/2524997481.py\u001b[0m in \u001b[0;36m<module>\u001b[0;34m\u001b[0m\n\u001b[0;32m----> 1\u001b[0;31m \u001b[0msum\u001b[0m\u001b[0;34m(\u001b[0m\u001b[0;34m[\u001b[0m\u001b[0;36m10\u001b[0m\u001b[0;34m,\u001b[0m \u001b[0;36m20\u001b[0m\u001b[0;34m,\u001b[0m \u001b[0;36m30\u001b[0m\u001b[0;34m]\u001b[0m\u001b[0;34m)\u001b[0m\u001b[0;34m\u001b[0m\u001b[0;34m\u001b[0m\u001b[0m\n\u001b[0m",
      "\u001b[0;31mTypeError\u001b[0m: 'int' object is not callable"
     ]
    }
   ],
   "source": [
    "sum([10, 20, 30])"
   ]
  },
  {
   "cell_type": "code",
   "execution_count": 242,
   "id": "dec594d1",
   "metadata": {},
   "outputs": [],
   "source": [
    "del(sum)"
   ]
  },
  {
   "cell_type": "code",
   "execution_count": 243,
   "id": "1f0f5804",
   "metadata": {},
   "outputs": [],
   "source": [
    "del(list)"
   ]
  },
  {
   "cell_type": "code",
   "execution_count": 244,
   "id": "4530f625",
   "metadata": {},
   "outputs": [
    {
     "data": {
      "text/plain": [
       "60"
      ]
     },
     "execution_count": 244,
     "metadata": {},
     "output_type": "execute_result"
    }
   ],
   "source": [
    "sum([10, 20, 30])"
   ]
  },
  {
   "cell_type": "code",
   "execution_count": 245,
   "id": "3506ceae",
   "metadata": {},
   "outputs": [
    {
     "data": {
      "text/plain": [
       "['a', 'b', 'c', 'd']"
      ]
     },
     "execution_count": 245,
     "metadata": {},
     "output_type": "execute_result"
    }
   ],
   "source": [
    "list('abcd')"
   ]
  },
  {
   "cell_type": "code",
   "execution_count": 246,
   "id": "35fa984c",
   "metadata": {},
   "outputs": [
    {
     "data": {
      "text/plain": [
       "['ArithmeticError',\n",
       " 'AssertionError',\n",
       " 'AttributeError',\n",
       " 'BaseException',\n",
       " 'BlockingIOError',\n",
       " 'BrokenPipeError',\n",
       " 'BufferError',\n",
       " 'BytesWarning',\n",
       " 'ChildProcessError',\n",
       " 'ConnectionAbortedError',\n",
       " 'ConnectionError',\n",
       " 'ConnectionRefusedError',\n",
       " 'ConnectionResetError',\n",
       " 'DeprecationWarning',\n",
       " 'EOFError',\n",
       " 'Ellipsis',\n",
       " 'EncodingWarning',\n",
       " 'EnvironmentError',\n",
       " 'Exception',\n",
       " 'False',\n",
       " 'FileExistsError',\n",
       " 'FileNotFoundError',\n",
       " 'FloatingPointError',\n",
       " 'FutureWarning',\n",
       " 'GeneratorExit',\n",
       " 'IOError',\n",
       " 'ImportError',\n",
       " 'ImportWarning',\n",
       " 'IndentationError',\n",
       " 'IndexError',\n",
       " 'InterruptedError',\n",
       " 'IsADirectoryError',\n",
       " 'KeyError',\n",
       " 'KeyboardInterrupt',\n",
       " 'LookupError',\n",
       " 'MemoryError',\n",
       " 'ModuleNotFoundError',\n",
       " 'NameError',\n",
       " 'None',\n",
       " 'NotADirectoryError',\n",
       " 'NotImplemented',\n",
       " 'NotImplementedError',\n",
       " 'OSError',\n",
       " 'OverflowError',\n",
       " 'PendingDeprecationWarning',\n",
       " 'PermissionError',\n",
       " 'ProcessLookupError',\n",
       " 'RecursionError',\n",
       " 'ReferenceError',\n",
       " 'ResourceWarning',\n",
       " 'RuntimeError',\n",
       " 'RuntimeWarning',\n",
       " 'StopAsyncIteration',\n",
       " 'StopIteration',\n",
       " 'SyntaxError',\n",
       " 'SyntaxWarning',\n",
       " 'SystemError',\n",
       " 'SystemExit',\n",
       " 'TabError',\n",
       " 'TimeoutError',\n",
       " 'True',\n",
       " 'TypeError',\n",
       " 'UnboundLocalError',\n",
       " 'UnicodeDecodeError',\n",
       " 'UnicodeEncodeError',\n",
       " 'UnicodeError',\n",
       " 'UnicodeTranslateError',\n",
       " 'UnicodeWarning',\n",
       " 'UserWarning',\n",
       " 'ValueError',\n",
       " 'Warning',\n",
       " 'ZeroDivisionError',\n",
       " '__IPYTHON__',\n",
       " '__build_class__',\n",
       " '__debug__',\n",
       " '__doc__',\n",
       " '__import__',\n",
       " '__loader__',\n",
       " '__name__',\n",
       " '__package__',\n",
       " '__spec__',\n",
       " 'abs',\n",
       " 'aiter',\n",
       " 'all',\n",
       " 'anext',\n",
       " 'any',\n",
       " 'ascii',\n",
       " 'bin',\n",
       " 'bool',\n",
       " 'breakpoint',\n",
       " 'bytearray',\n",
       " 'bytes',\n",
       " 'callable',\n",
       " 'chr',\n",
       " 'classmethod',\n",
       " 'compile',\n",
       " 'complex',\n",
       " 'copyright',\n",
       " 'credits',\n",
       " 'delattr',\n",
       " 'dict',\n",
       " 'dir',\n",
       " 'display',\n",
       " 'divmod',\n",
       " 'enumerate',\n",
       " 'eval',\n",
       " 'exec',\n",
       " 'execfile',\n",
       " 'filter',\n",
       " 'float',\n",
       " 'format',\n",
       " 'frozenset',\n",
       " 'get_ipython',\n",
       " 'getattr',\n",
       " 'globals',\n",
       " 'hasattr',\n",
       " 'hash',\n",
       " 'help',\n",
       " 'hex',\n",
       " 'id',\n",
       " 'input',\n",
       " 'int',\n",
       " 'isinstance',\n",
       " 'issubclass',\n",
       " 'iter',\n",
       " 'len',\n",
       " 'license',\n",
       " 'list',\n",
       " 'locals',\n",
       " 'map',\n",
       " 'max',\n",
       " 'memoryview',\n",
       " 'min',\n",
       " 'next',\n",
       " 'object',\n",
       " 'oct',\n",
       " 'open',\n",
       " 'ord',\n",
       " 'pow',\n",
       " 'print',\n",
       " 'property',\n",
       " 'range',\n",
       " 'repr',\n",
       " 'reversed',\n",
       " 'round',\n",
       " 'runfile',\n",
       " 'set',\n",
       " 'setattr',\n",
       " 'slice',\n",
       " 'sorted',\n",
       " 'staticmethod',\n",
       " 'str',\n",
       " 'sum',\n",
       " 'super',\n",
       " 'tuple',\n",
       " 'type',\n",
       " 'vars',\n",
       " 'zip']"
      ]
     },
     "execution_count": 246,
     "metadata": {},
     "output_type": "execute_result"
    }
   ],
   "source": [
    "dir(__builtins__)"
   ]
  },
  {
   "cell_type": "code",
   "execution_count": 247,
   "id": "95048bd1",
   "metadata": {
    "collapsed": true
   },
   "outputs": [
    {
     "name": "stdout",
     "output_type": "stream",
     "text": [
      "Help on function display in module IPython.core.display:\n",
      "\n",
      "display(*objs, include=None, exclude=None, metadata=None, transient=None, display_id=None, **kwargs)\n",
      "    Display a Python object in all frontends.\n",
      "    \n",
      "    By default all representations will be computed and sent to the frontends.\n",
      "    Frontends can decide which representation is used and how.\n",
      "    \n",
      "    In terminal IPython this will be similar to using :func:`print`, for use in richer\n",
      "    frontends see Jupyter notebook examples with rich display logic.\n",
      "    \n",
      "    Parameters\n",
      "    ----------\n",
      "    *objs : object\n",
      "        The Python objects to display.\n",
      "    raw : bool, optional\n",
      "        Are the objects to be displayed already mimetype-keyed dicts of raw display data,\n",
      "        or Python objects that need to be formatted before display? [default: False]\n",
      "    include : list, tuple or set, optional\n",
      "        A list of format type strings (MIME types) to include in the\n",
      "        format data dict. If this is set *only* the format types included\n",
      "        in this list will be computed.\n",
      "    exclude : list, tuple or set, optional\n",
      "        A list of format type strings (MIME types) to exclude in the format\n",
      "        data dict. If this is set all format types will be computed,\n",
      "        except for those included in this argument.\n",
      "    metadata : dict, optional\n",
      "        A dictionary of metadata to associate with the output.\n",
      "        mime-type keys in this dictionary will be associated with the individual\n",
      "        representation formats, if they exist.\n",
      "    transient : dict, optional\n",
      "        A dictionary of transient data to associate with the output.\n",
      "        Data in this dict should not be persisted to files (e.g. notebooks).\n",
      "    display_id : str, bool optional\n",
      "        Set an id for the display.\n",
      "        This id can be used for updating this display area later via update_display.\n",
      "        If given as `True`, generate a new `display_id`\n",
      "    clear : bool, optional\n",
      "        Should the output area be cleared before displaying anything? If True,\n",
      "        this will wait for additional output before clearing. [default: False]\n",
      "    kwargs: additional keyword-args, optional\n",
      "        Additional keyword-arguments are passed through to the display publisher.\n",
      "    \n",
      "    Returns\n",
      "    -------\n",
      "    \n",
      "    handle: DisplayHandle\n",
      "        Returns a handle on updatable displays for use with :func:`update_display`,\n",
      "        if `display_id` is given. Returns :any:`None` if no `display_id` is given\n",
      "        (default).\n",
      "    \n",
      "    Examples\n",
      "    --------\n",
      "    \n",
      "    >>> class Json(object):\n",
      "    ...     def __init__(self, json):\n",
      "    ...         self.json = json\n",
      "    ...     def _repr_pretty_(self, pp, cycle):\n",
      "    ...         import json\n",
      "    ...         pp.text(json.dumps(self.json, indent=2))\n",
      "    ...     def __repr__(self):\n",
      "    ...         return str(self.json)\n",
      "    ...\n",
      "    \n",
      "    >>> d = Json({1:2, 3: {4:5}})\n",
      "    \n",
      "    >>> print(d)\n",
      "    {1: 2, 3: {4: 5}}\n",
      "    \n",
      "    >>> display(d)\n",
      "    {\n",
      "      \"1\": 2,\n",
      "      \"3\": {\n",
      "        \"4\": 5\n",
      "      }\n",
      "    }\n",
      "    \n",
      "    >>> def int_formatter(integer, pp, cycle):\n",
      "    ...     pp.text('I'*integer)\n",
      "    \n",
      "    >>> plain = get_ipython().display_formatter.formatters['text/plain']\n",
      "    >>> plain.for_type(int, int_formatter)\n",
      "    <function _repr_pprint at 0x...>\n",
      "    >>> display(7-5)\n",
      "    II\n",
      "    \n",
      "    >>> del plain.type_printers[int]\n",
      "    >>> display(7-5)\n",
      "    2\n",
      "    \n",
      "    See Also\n",
      "    --------\n",
      "    \n",
      "    :func:`update_display`\n",
      "    \n",
      "    Notes\n",
      "    -----\n",
      "    \n",
      "    In Python, objects can declare their textual representation using the\n",
      "    `__repr__` method. IPython expands on this idea and allows objects to declare\n",
      "    other, rich representations including:\n",
      "    \n",
      "      - HTML\n",
      "      - JSON\n",
      "      - PNG\n",
      "      - JPEG\n",
      "      - SVG\n",
      "      - LaTeX\n",
      "    \n",
      "    A single object can declare some or all of these representations; all are\n",
      "    handled by IPython's display system.\n",
      "    \n",
      "    The main idea of the first approach is that you have to implement special\n",
      "    display methods when you define your class, one for each representation you\n",
      "    want to use. Here is a list of the names of the special methods and the\n",
      "    values they must return:\n",
      "    \n",
      "      - `_repr_html_`: return raw HTML as a string, or a tuple (see below).\n",
      "      - `_repr_json_`: return a JSONable dict, or a tuple (see below).\n",
      "      - `_repr_jpeg_`: return raw JPEG data, or a tuple (see below).\n",
      "      - `_repr_png_`: return raw PNG data, or a tuple (see below).\n",
      "      - `_repr_svg_`: return raw SVG data as a string, or a tuple (see below).\n",
      "      - `_repr_latex_`: return LaTeX commands in a string surrounded by \"$\",\n",
      "                        or a tuple (see below).\n",
      "      - `_repr_mimebundle_`: return a full mimebundle containing the mapping\n",
      "                             from all mimetypes to data.\n",
      "                             Use this for any mime-type not listed above.\n",
      "    \n",
      "    The above functions may also return the object's metadata alonside the\n",
      "    data.  If the metadata is available, the functions will return a tuple\n",
      "    containing the data and metadata, in that order.  If there is no metadata\n",
      "    available, then the functions will return the data only.\n",
      "    \n",
      "    When you are directly writing your own classes, you can adapt them for\n",
      "    display in IPython by following the above approach. But in practice, you\n",
      "    often need to work with existing classes that you can't easily modify.\n",
      "    \n",
      "    You can refer to the documentation on integrating with the display system in\n",
      "    order to register custom formatters for already existing types\n",
      "    (:ref:`integrating_rich_display`).\n",
      "    \n",
      "    .. versionadded:: 5.4 display available without import\n",
      "    .. versionadded:: 6.1 display available without import\n",
      "    \n",
      "    Since IPython 5.4 and 6.1 :func:`display` is automatically made available to\n",
      "    the user without import. If you are using display in a document that might\n",
      "    be used in a pure python context or with older version of IPython, use the\n",
      "    following import at the top of your file::\n",
      "    \n",
      "        from IPython.display import display\n",
      "\n"
     ]
    }
   ],
   "source": [
    "help(display)"
   ]
  },
  {
   "cell_type": "markdown",
   "id": "5e6e05a8",
   "metadata": {},
   "source": [
    "# Scopes\n",
    "\n",
    "- Local\n",
    "- Enclosing\n",
    "- Global\n",
    "- Builtin\n"
   ]
  },
  {
   "cell_type": "markdown",
   "id": "2931ef3f",
   "metadata": {},
   "source": [
    "# Things to remember about functions\n",
    "\n",
    "1. Functions are objects, just like everything else in Python.\n",
    "2. When we use `def`, we (a) create a function object and (b) assign that object to a variable.\n",
    "3. When we assign to a variable in a function, that variable is a *local* variable.\n",
    "4. Functions can return any Python objects they want."
   ]
  },
  {
   "cell_type": "code",
   "execution_count": 248,
   "id": "f3dd7ec6",
   "metadata": {},
   "outputs": [
    {
     "data": {
      "text/plain": [
       "'Hello from inner!'"
      ]
     },
     "execution_count": 248,
     "metadata": {},
     "output_type": "execute_result"
    }
   ],
   "source": [
    "def outer():\n",
    "    def inner():   # this function is defined at outer's runtime!\n",
    "        return 'Hello from inner!'\n",
    "    return inner\n",
    "\n",
    "myfunc = outer() \n",
    "myfunc()  "
   ]
  },
  {
   "cell_type": "code",
   "execution_count": 252,
   "id": "e32baa8c",
   "metadata": {},
   "outputs": [
    {
     "name": "stdout",
     "output_type": "stream",
     "text": [
      "Hello from inner, x=10 and y=20!\n",
      "Hello from inner, x=100 and y=20!\n"
     ]
    }
   ],
   "source": [
    "# enclosing scope\n",
    "# inner functions have access to outer functions' local variables\n",
    "\n",
    "def outer(x):\n",
    "    def inner(y):   \n",
    "        return f'Hello from inner, {x=} and {y=}!'\n",
    "    return inner\n",
    "\n",
    "myfunc = outer(10) \n",
    "print(myfunc(20))\n",
    "\n",
    "otherfunc = outer(100)\n",
    "print(otherfunc(20))"
   ]
  },
  {
   "cell_type": "code",
   "execution_count": null,
   "id": "74f0bc89",
   "metadata": {},
   "outputs": [],
   "source": []
  }
 ],
 "metadata": {
  "kernelspec": {
   "display_name": "Python 3 (ipykernel)",
   "language": "python",
   "name": "python3"
  },
  "language_info": {
   "codemirror_mode": {
    "name": "ipython",
    "version": 3
   },
   "file_extension": ".py",
   "mimetype": "text/x-python",
   "name": "python",
   "nbconvert_exporter": "python",
   "pygments_lexer": "ipython3",
   "version": "3.10.1"
  }
 },
 "nbformat": 4,
 "nbformat_minor": 5
}
