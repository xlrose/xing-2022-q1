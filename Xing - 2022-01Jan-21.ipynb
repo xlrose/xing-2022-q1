{
 "cells": [
  {
   "cell_type": "markdown",
   "id": "abfbb569",
   "metadata": {},
   "source": [
    "# Agenda\n",
    "\n",
    "- Function internals\n",
    "- arguments and parameters\n",
    "- defaults\n",
    "- scoping"
   ]
  },
  {
   "cell_type": "code",
   "execution_count": 2,
   "id": "c19bf6ce",
   "metadata": {},
   "outputs": [
    {
     "name": "stdout",
     "output_type": "stream",
     "text": [
      "Hello\n"
     ]
    }
   ],
   "source": [
    "# print is a function -- it doesn't belong to any object\n",
    "print('Hello')"
   ]
  },
  {
   "cell_type": "code",
   "execution_count": 3,
   "id": "29614bc9",
   "metadata": {},
   "outputs": [
    {
     "data": {
      "text/plain": [
       "'ABCD'"
      ]
     },
     "execution_count": 3,
     "metadata": {},
     "output_type": "execute_result"
    }
   ],
   "source": [
    "s = 'abcd'\n",
    "s.upper()  # you cannot run upper without saying what it's connected to"
   ]
  },
  {
   "cell_type": "code",
   "execution_count": 4,
   "id": "7b327795",
   "metadata": {},
   "outputs": [
    {
     "data": {
      "text/plain": [
       "'ABCD'"
      ]
     },
     "execution_count": 4,
     "metadata": {},
     "output_type": "execute_result"
    }
   ],
   "source": [
    "s.upper()  # rewritten to str.upper(s)"
   ]
  },
  {
   "cell_type": "code",
   "execution_count": 5,
   "id": "78b201ea",
   "metadata": {},
   "outputs": [
    {
     "data": {
      "text/plain": [
       "50"
      ]
     },
     "execution_count": 5,
     "metadata": {},
     "output_type": "execute_result"
    }
   ],
   "source": [
    "import random\n",
    "random.randint(0, 100)  # this is a function, not a method -- but a function in a module"
   ]
  },
  {
   "cell_type": "code",
   "execution_count": 6,
   "id": "6a47b2b1",
   "metadata": {},
   "outputs": [
    {
     "data": {
      "text/plain": [
       "int"
      ]
     },
     "execution_count": 6,
     "metadata": {},
     "output_type": "execute_result"
    }
   ],
   "source": [
    "s = 'abcd'\n",
    "x = len(s)\n",
    "\n",
    "type(x)  "
   ]
  },
  {
   "cell_type": "code",
   "execution_count": 7,
   "id": "b9912c3f",
   "metadata": {},
   "outputs": [
    {
     "data": {
      "text/plain": [
       "4"
      ]
     },
     "execution_count": 7,
     "metadata": {},
     "output_type": "execute_result"
    }
   ],
   "source": [
    "x"
   ]
  },
  {
   "cell_type": "code",
   "execution_count": 8,
   "id": "9ceff426",
   "metadata": {},
   "outputs": [
    {
     "data": {
      "text/plain": [
       "str"
      ]
     },
     "execution_count": 8,
     "metadata": {},
     "output_type": "execute_result"
    }
   ],
   "source": [
    "s = 'abcd'\n",
    "x = s.upper()\n",
    "\n",
    "type(x)"
   ]
  },
  {
   "cell_type": "code",
   "execution_count": 9,
   "id": "f2485df4",
   "metadata": {},
   "outputs": [
    {
     "data": {
      "text/plain": [
       "'ABCD'"
      ]
     },
     "execution_count": 9,
     "metadata": {},
     "output_type": "execute_result"
    }
   ],
   "source": [
    "x"
   ]
  },
  {
   "cell_type": "code",
   "execution_count": 10,
   "id": "54e03aef",
   "metadata": {},
   "outputs": [],
   "source": [
    "s = 'abcd'\n",
    "x = s.upper"
   ]
  },
  {
   "cell_type": "code",
   "execution_count": 11,
   "id": "6c9f6cb4",
   "metadata": {},
   "outputs": [
    {
     "data": {
      "text/plain": [
       "builtin_function_or_method"
      ]
     },
     "execution_count": 11,
     "metadata": {},
     "output_type": "execute_result"
    }
   ],
   "source": [
    "type(x)"
   ]
  },
  {
   "cell_type": "code",
   "execution_count": 12,
   "id": "dda614a6",
   "metadata": {},
   "outputs": [],
   "source": [
    "def hello():\n",
    "    return f'Hello!'\n",
    "\n",
    "# when I define a function with \"def\", two things happen:\n",
    "# (1) I create a function object\n",
    "# (2) I assign that object to a variable -- in this case, hello"
   ]
  },
  {
   "cell_type": "code",
   "execution_count": 13,
   "id": "b820dd28",
   "metadata": {},
   "outputs": [
    {
     "data": {
      "text/plain": [
       "'Hello!'"
      ]
     },
     "execution_count": 13,
     "metadata": {},
     "output_type": "execute_result"
    }
   ],
   "source": [
    "hello()   # Python (1) looks for the object that hello refers to and (2) tries to execute it"
   ]
  },
  {
   "cell_type": "code",
   "execution_count": 14,
   "id": "98c479ad",
   "metadata": {},
   "outputs": [
    {
     "data": {
      "text/plain": [
       "'Hello!'"
      ]
     },
     "execution_count": 14,
     "metadata": {},
     "output_type": "execute_result"
    }
   ],
   "source": [
    "x = hello()\n",
    "x"
   ]
  },
  {
   "cell_type": "code",
   "execution_count": 15,
   "id": "0b4fddb5",
   "metadata": {},
   "outputs": [
    {
     "data": {
      "text/plain": [
       "<function __main__.hello()>"
      ]
     },
     "execution_count": 15,
     "metadata": {},
     "output_type": "execute_result"
    }
   ],
   "source": [
    "x = hello\n",
    "x"
   ]
  },
  {
   "cell_type": "code",
   "execution_count": 16,
   "id": "d6e3e047",
   "metadata": {},
   "outputs": [
    {
     "data": {
      "text/plain": [
       "'Hello!'"
      ]
     },
     "execution_count": 16,
     "metadata": {},
     "output_type": "execute_result"
    }
   ],
   "source": [
    "x()   "
   ]
  },
  {
   "cell_type": "code",
   "execution_count": 17,
   "id": "1b69d99c",
   "metadata": {},
   "outputs": [
    {
     "data": {
      "text/plain": [
       "<function str.upper()>"
      ]
     },
     "execution_count": 17,
     "metadata": {},
     "output_type": "execute_result"
    }
   ],
   "source": [
    "s = 'abcd'\n",
    "x = s.upper   # assigning a function to a variable is totally fine -- we get a reference to the function object\n",
    "\n",
    "x"
   ]
  },
  {
   "cell_type": "code",
   "execution_count": 18,
   "id": "1910043c",
   "metadata": {},
   "outputs": [
    {
     "data": {
      "text/plain": [
       "'ABCD'"
      ]
     },
     "execution_count": 18,
     "metadata": {},
     "output_type": "execute_result"
    }
   ],
   "source": [
    "x()"
   ]
  },
  {
   "cell_type": "code",
   "execution_count": 19,
   "id": "fddc97ae",
   "metadata": {},
   "outputs": [
    {
     "name": "stdout",
     "output_type": "stream",
     "text": [
      "Yes, it contains only digits!\n"
     ]
    }
   ],
   "source": [
    "s = '890'\n",
    "\n",
    "if s.isdigit():\n",
    "    print('Yes, it contains only digits!')"
   ]
  },
  {
   "cell_type": "code",
   "execution_count": 21,
   "id": "9fab3b04",
   "metadata": {},
   "outputs": [
    {
     "name": "stdout",
     "output_type": "stream",
     "text": [
      "Yes, it contains only digits!\n"
     ]
    }
   ],
   "source": [
    "s = 'abc'\n",
    "\n",
    "if s.isdigit:   # no parentheses -- if is checking if s.isdigit is True -- and (almost) all objects are True!\n",
    "    print('Yes, it contains only digits!')"
   ]
  },
  {
   "cell_type": "code",
   "execution_count": null,
   "id": "cdd90954",
   "metadata": {},
   "outputs": [],
   "source": []
  }
 ],
 "metadata": {
  "kernelspec": {
   "display_name": "Python 3 (ipykernel)",
   "language": "python",
   "name": "python3"
  },
  "language_info": {
   "codemirror_mode": {
    "name": "ipython",
    "version": 3
   },
   "file_extension": ".py",
   "mimetype": "text/x-python",
   "name": "python",
   "nbconvert_exporter": "python",
   "pygments_lexer": "ipython3",
   "version": "3.10.1"
  }
 },
 "nbformat": 4,
 "nbformat_minor": 5
}
